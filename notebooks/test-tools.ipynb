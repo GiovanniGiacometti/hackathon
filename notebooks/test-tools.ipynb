{
 "cells": [
  {
   "cell_type": "code",
   "execution_count": 1,
   "metadata": {},
   "outputs": [
    {
     "name": "stdout",
     "output_type": "stream",
     "text": [
      "Now in c:\\Users\\giova\\Desktop\\Hackaton\\hackathon\n"
     ]
    }
   ],
   "source": [
    "import os\n",
    "\n",
    "while not os.getcwd().endswith(\"hackathon\"):\n",
    "    os.chdir(\"..\")\n",
    "    print(f\"Now in {os.getcwd()}\")"
   ]
  },
  {
   "cell_type": "code",
   "execution_count": 2,
   "metadata": {},
   "outputs": [],
   "source": [
    "from crewai_tools import SerperDevTool\n",
    "import dotenv\n",
    "\n",
    "dotenv.load_dotenv()"
   ]
  },
  {
   "cell_type": "code",
   "execution_count": null,
   "metadata": {},
   "outputs": [
    {
     "name": "stdout",
     "output_type": "stream",
     "text": [
      "Using Tool: Search the internet\n"
     ]
    },
    {
     "data": {
      "text/plain": [
       "{'searchParameters': {'q': 'computer science',\n",
       "  'type': 'search',\n",
       "  'num': 10,\n",
       "  'engine': 'google'},\n",
       " 'organic': [{'title': 'Computer science - Wikipedia',\n",
       "   'link': 'https://en.wikipedia.org/wiki/Computer_science',\n",
       "   'snippet': 'Computer science is the study of computation, information, and automation. Computer science spans theoretical disciplines to applied disciplines Fundamental ...',\n",
       "   'position': 1},\n",
       "  {'title': 'Computer science theory - Khan Academy',\n",
       "   'link': 'https://www.khanacademy.org/computing/computer-science',\n",
       "   'snippet': 'This course is designed to introduce you to topics including algorithms, cryptography, and information theory.',\n",
       "   'position': 2},\n",
       "  {'title': 'What Is Computer Science? Meaning, Jobs, and Degrees - Coursera',\n",
       "   'link': 'https://www.coursera.org/articles/what-is-computer-science',\n",
       "   'snippet': 'Computer science is an interdisciplinary field that studies computational systems and how they can solve problems in the real world. It focuses ...',\n",
       "   'position': 3},\n",
       "  {'title': 'ComputerScience.org: Code a New Career',\n",
       "   'link': 'https://www.computerscience.org/',\n",
       "   'snippet': 'The most extensive site on Computer Science. Find out what it takes to enter the Computer Science field, and how to build a successful career.',\n",
       "   'position': 4,\n",
       "   'sitelinks': [{'title': 'Top Careers in Computer...',\n",
       "     'link': 'https://www.computerscience.org/careers/'},\n",
       "    {'title': 'Women in Computer Science',\n",
       "     'link': 'https://www.computerscience.org/resources/women-in-computer-science/'},\n",
       "    {'title': 'Computer Programmer',\n",
       "     'link': 'https://www.computerscience.org/careers/computer-programmer/'}]},\n",
       "  {'title': 'Computer Science - MIT EECS',\n",
       "   'link': 'https://www.eecs.mit.edu/research/computer-science/',\n",
       "   'snippet': 'Computer science deals with the theory and practice of algorithms, from idealized mathematical procedures to the computer systems deployed by major tech ...',\n",
       "   'position': 5},\n",
       "  {'title': 'Computer Science | Worcester Polytechnic Institute',\n",
       "   'link': 'https://www.wpi.edu/academics/departments/computer-science',\n",
       "   'snippet': 'Computer science is a vast area of study from programming to artificial intelligence, but more importantly it is an integral part of many other areas such as ...',\n",
       "   'position': 6,\n",
       "   'sitelinks': [{'title': 'Faculty & Staff',\n",
       "     'link': 'https://www.wpi.edu/academics/departments/computer-science/faculty-staff'},\n",
       "    {'title': 'Courses',\n",
       "     'link': 'https://www.wpi.edu/academics/departments/computer-science/courses'},\n",
       "    {'title': 'Research',\n",
       "     'link': 'https://www.wpi.edu/academics/departments/computer-science/research'},\n",
       "    {'title': 'Resources',\n",
       "     'link': 'https://www.wpi.edu/academics/departments/computer-science/resources'}]},\n",
       "  {'title': 'Computer Science Courses | Harvard University',\n",
       "   'link': 'https://pll.harvard.edu/subject/computer-science',\n",
       "   'snippet': 'CS50: Introduction to Computer Science. An introduction to the intellectual enterprises of computer science and the art of programming.',\n",
       "   'position': 7},\n",
       "  {'title': 'Best Computer Science Programs in America - USNews.com',\n",
       "   'link': 'https://www.usnews.com/best-graduate-schools/top-science-schools/computer-science-rankings',\n",
       "   'snippet': 'Best Computer Science Schools · Carnegie Mellon University · Massachusetts Institute of Technology · Stanford University · University of California--Berkeley.',\n",
       "   'position': 8,\n",
       "   'sitelinks': [{'title': 'Carnegie Mellon University',\n",
       "     'link': 'https://www.usnews.com/best-graduate-schools/top-science-schools/carnegie-mellon-university-211440'},\n",
       "    {'title': 'Artificial Intelligence',\n",
       "     'link': 'https://www.usnews.com/best-graduate-schools/top-science-schools/artificial-intelligence-rankings'},\n",
       "    {'title': 'Urbana-Champaign',\n",
       "     'link': 'https://www.usnews.com/best-graduate-schools/top-science-schools/university-of-illinois-at-urbana-champaign-145637'},\n",
       "    {'title': 'Amherst',\n",
       "     'link': 'https://www.usnews.com/best-graduate-schools/top-science-schools/university-of-massachusetts-amherst-166629'}]},\n",
       "  {'title': 'What is Computer Science?',\n",
       "   'link': 'https://undergrad.cs.umd.edu/what-computer-science',\n",
       "   'snippet': 'Computer Science is the study of computers and computational systems. Unlike electrical and computer engineers, computer scientists deal mostly with ...',\n",
       "   'position': 9}],\n",
       " 'peopleAlsoAsk': [{'question': 'Is computer science hard degree?',\n",
       "   'snippet': 'Learning the discipline of Computer Science is a hard and difficult endeavor for most students. However, if you are willing to invest the time and learn serious time management skills, most students can successfully learn the discipline and pursue successful careers in Computer Science fields.',\n",
       "   'title': 'Is Computer Science Hard? | Lindenwood University',\n",
       "   'link': 'https://www.lindenwood.edu/science/mathematics-computer-science-and-information-technology/computer-science/prospective-students/is-computer-science-hard/'},\n",
       "  {'question': 'What is the job of computer science?',\n",
       "   'snippet': 'A degree in computer science can lead to a career as a system programmer, software developer, web developer, network administrator, software tester, product manager, and engineering manager, among other professions.\\nDec 13, 2024',\n",
       "   'title': 'What Is Computer Science? Meaning, Jobs, and Degrees - Coursera',\n",
       "   'link': 'https://www.coursera.org/articles/what-is-computer-science'},\n",
       "  {'question': 'Does computer science actually pay well?',\n",
       "   'snippet': 'According to Glassdoor, the average base salary for a computer scientist in the US is $151,508, with a range of $93,000 to $170,000 as of March 2024 [3].',\n",
       "   'title': 'Computer Science Salary: Your 2025 Guide - Coursera',\n",
       "   'link': 'https://www.coursera.org/articles/computer-science-salary'},\n",
       "  {'question': 'Is computer science a 5 year degree?',\n",
       "   'snippet': 'A PhD, or Doctor of Computer Science, is typically the highest degree level in the field. The requirements vary from program to program, but most terminal degrees take four to five years to complete.',\n",
       "   'title': 'What Is a Computer Science Degree? - Coursera',\n",
       "   'link': 'https://www.coursera.org/articles/what-is-computer-science-degree'}],\n",
       " 'relatedSearches': [{'query': 'Algorithm'},\n",
       "  {'query': 'Computer Science programs'},\n",
       "  {'query': 'Computer science jobs'},\n",
       "  {'query': 'Computer Science salary'},\n",
       "  {'query': 'Computer Science course'},\n",
       "  {'query': 'Computer Science degree'},\n",
       "  {'query': 'Computer Science subjects'},\n",
       "  {'query': 'Computer Science major'},\n",
       "  {'query': 'Computer Science book'}],\n",
       " 'credits': 1}"
      ]
     },
     "execution_count": 6,
     "metadata": {},
     "output_type": "execute_result"
    }
   ],
   "source": [
    "SerperDevTool(api_key=os.getenv(\"SERPER_API_KEY\")).run(search_query=\"computer science\")"
   ]
  }
 ],
 "metadata": {
  "kernelspec": {
   "display_name": ".venv",
   "language": "python",
   "name": "python3"
  },
  "language_info": {
   "codemirror_mode": {
    "name": "ipython",
    "version": 3
   },
   "file_extension": ".py",
   "mimetype": "text/x-python",
   "name": "python",
   "nbconvert_exporter": "python",
   "pygments_lexer": "ipython3",
   "version": "3.12.0"
  }
 },
 "nbformat": 4,
 "nbformat_minor": 2
}
