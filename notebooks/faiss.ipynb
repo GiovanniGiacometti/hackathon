{
 "cells": [
  {
   "cell_type": "code",
   "execution_count": 1,
   "metadata": {},
   "outputs": [
    {
     "name": "stdout",
     "output_type": "stream",
     "text": [
      "Now in c:\\Users\\GiovanniGiacometti\\Desktop\\hackathon\n"
     ]
    }
   ],
   "source": [
    "import os\n",
    "\n",
    "while not os.getcwd().endswith(\"hackathon\"):\n",
    "    os.chdir(\"..\")\n",
    "    print(f\"Now in {os.getcwd()}\")"
   ]
  },
  {
   "cell_type": "code",
   "execution_count": 2,
   "metadata": {},
   "outputs": [],
   "source": [
    "from hackathon.utils.settings.settings_provider import SettingsProvider\n",
    "import warnings\n",
    "from langchain_chroma.vectorstores import Chroma\n",
    "from langchain_huggingface import HuggingFaceEmbeddings\n",
    "\n",
    "with warnings.catch_warnings(action=\"ignore\"):\n",
    "    from langchain_ibm import ChatWatsonx\n",
    "import dotenv\n",
    "from langchain.schema import Document\n",
    "import faiss\n",
    "from langchain_community.docstore.in_memory import InMemoryDocstore\n",
    "from langchain_community.vectorstores import FAISS\n",
    "\n",
    "\n",
    "dotenv.load_dotenv();"
   ]
  },
  {
   "cell_type": "code",
   "execution_count": 3,
   "metadata": {},
   "outputs": [],
   "source": [
    "settings_provider = SettingsProvider()"
   ]
  },
  {
   "cell_type": "code",
   "execution_count": 4,
   "metadata": {},
   "outputs": [],
   "source": [
    "llm = ChatWatsonx(\n",
    "    model_id=settings_provider.get_ibm_model_name(),  # type: ignore\n",
    "    url=settings_provider.get_ibm_endpoint_url(),  # type: ignore\n",
    "    project_id=settings_provider.get_ibm_project_id(),  # type: ignore\n",
    ")"
   ]
  },
  {
   "cell_type": "code",
   "execution_count": 5,
   "metadata": {},
   "outputs": [],
   "source": [
    "model_kwargs = {\"device\": \"cpu\"}\n",
    "encode_kwargs = {\"normalize_embeddings\": False}\n",
    "\n",
    "embeddings = HuggingFaceEmbeddings(\n",
    "    model_name=settings_provider.get_embeddings_model_name(),\n",
    "    model_kwargs=model_kwargs,\n",
    "    encode_kwargs=encode_kwargs,\n",
    ")"
   ]
  },
  {
   "cell_type": "code",
   "execution_count": 6,
   "metadata": {},
   "outputs": [],
   "source": [
    "# import faiss\n",
    "# from langchain_community.docstore.in_memory import InMemoryDocstore\n",
    "# from langchain_community.vectorstores import FAISS\n",
    "\n",
    "# index = faiss.IndexFlatL2(len(embeddings.embed_query(\"hello world\")))\n",
    "\n",
    "# vectorstore = FAISS(\n",
    "#     embedding_function=embeddings,\n",
    "#     index=index,\n",
    "#     docstore=InMemoryDocstore(),\n",
    "#     index_to_docstore_id={},\n",
    "# )"
   ]
  },
  {
   "cell_type": "code",
   "execution_count": 7,
   "metadata": {},
   "outputs": [],
   "source": [
    "vector_store = FAISS.load_local(\n",
    "    \"data/debug_vectorstore\", embeddings, allow_dangerous_deserialization=True\n",
    ")"
   ]
  },
  {
   "cell_type": "code",
   "execution_count": 8,
   "metadata": {},
   "outputs": [],
   "source": [
    "# # from uuid import uuid4\n",
    "\n",
    "# from langchain_core.documents import Document\n",
    "\n",
    "# document_1 = Document(\n",
    "#     page_content=\"I had chocalate chip pancakes and scrambled eggs for breakfast this morning.\",\n",
    "#     metadata={\"source\": \"tweet\", \"options\": [\"pancakes\", \"eggs\"]},\n",
    "# )\n",
    "\n",
    "# document_2 = Document(\n",
    "#     page_content=\"The weather forecast for tomorrow is cloudy and overcast, with a high of 62 degrees.\",\n",
    "#     metadata={\"source\": \"news\", \"options\": [\"weather\", \"forecast\"]},\n",
    "# )\n",
    "\n",
    "# document_3 = Document(\n",
    "#     page_content=\"Building an exciting new project with LangChain - come check it out!\",\n",
    "#     metadata={\"source\": \"tweet\", \"options\": [\"LangChain\", \"project\"]},\n",
    "# )\n",
    "\n",
    "# documents = [\n",
    "#     document_1,\n",
    "#     document_2,\n",
    "#     document_3,\n",
    "# ]\n",
    "# uuids = [str(uuid4()) for _ in range(len(documents))]\n",
    "\n",
    "# vector_store = FAISS.from_documents(documents=documents, embedding=embeddings)\n",
    "# vector_store.save_local(folder_path=\"data/debug_vectorstore\")"
   ]
  },
  {
   "cell_type": "code",
   "execution_count": 9,
   "metadata": {},
   "outputs": [
    {
     "data": {
      "text/plain": [
       "[Document(id='d3a548ca-8f7d-44b3-9415-5801267b4c29', metadata={'header_1': 'Menu', 'header_2': 'Sinfonia Quantistica delle Stelle', 'source': 'Sapore del Dune.pdf', 'chef_name': 'Alessandra Quanti', 'restaurant_name': 'sapore del dune', 'planet_name': 'Tatooine', 'licences': ['Psionica II', 'Temporale I', 'Gravitazionale I', 'Quantistica 13', 'Luce II']}, page_content='### Ingredienti  \\nShard di Prisma Stellare\\nLattuga Namecciana\\nRadici di Singolarità  \\n-----  \\nFibra di Sintetex\\nCarne di Balena spaziale\\nTeste di Idra\\nNettare di Sirena\\nSale Temporale  \\n### Tecniche  \\nMarinatura Temporale Sincronizzata\\nCottura Sottovuoto Frugale Energeticamente Negativa\\nCottura a Vapore Termocinetica Multipla\\nCottura a Vapore Ecodinamico Bilanciato'),\n",
       " Document(id='2ba8bbbf-ae68-41f2-ac1f-a4dd518019ad', metadata={'header_1': 'Menu', 'header_2': 'Evanescenza Quantica', 'source': 'Sapore del Dune.pdf', 'chef_name': 'Alessandra Quanti', 'restaurant_name': 'sapore del dune', 'planet_name': 'Tatooine', 'licences': ['Psionica II', 'Temporale I', 'Gravitazionale I', 'Quantistica 13', 'Luce II']}, page_content='### Ingredienti  \\nCristalli di Memoria\\nRadici di Singolarità\\nLattuga Namecciana\\nBaccacedro\\nGranuli di Nebbia Arcobaleno\\nPlasma Vitale\\nPetali di Eco  \\n### Tecniche  \\nCottura Sottovuoto Frugale Energeticamente Negativa\\nGrigliatura Eletro-Molecolare a Spaziatura Variabile\\nBollitura Termografica a Rotazione Veloce\\nAffumicatura a Stratificazione Quantica\\nSaltare in Padella Classica  \\n-----'),\n",
       " Document(id='cc5e86db-2484-4aa1-b547-63b2c6b128df', metadata={'header_1': 'Ristorante \"Sapore del Dune\"', 'source': 'Sapore del Dune.pdf', 'chef_name': 'Alessandra Quanti', 'restaurant_name': 'sapore del dune', 'planet_name': 'Tatooine', 'licences': ['Psionica II', 'Temporale I', 'Gravitazionale I', 'Quantistica 13', 'Luce II']}, page_content='Chef Alessandra Quanti  \\nNel cuore arido di Tatooine, dove i mondi si mescolano e le stelle guidano i viaggiatori intergalattici, Chef\\nAlessandra Quanti porta una rivoluzione culinaria che sfida le distanze siderali. Non è raro vedere i\\ncommensali rimanere incantati osservando i suoi piatti che sembrano danzare tra le dune e le stelle, frutto\\ndella sua straordinaria padronanza degli stati quantici, che le permette di esplorare e materializzare le infinite\\npossibilità nascoste in ogni ingrediente rarefatto del deserto.  \\nLa sua storia ebbe inizio nei laboratori di spezie di Mos Eisley, dove la passione per la gastronomia\\nmolecolare si fuse con la sua profonda comprensione dell\\'universo subatomico. Fu proprio durante un\\nesperimento particolarmente intenso con i Cristalli Kyber che scoprì la sua innata capacità di percepire le\\nprobabilità culinarie, un dono che trasformò ogni sua creazione in un\\'esperienza di perfezione matematica\\nanche tra le tempeste di sabbia.  \\nLe sue presentazioni sono vere opere d\\'arte viventi, dove la luce danza e si trasforma, creando atmosfere\\nche portano gli ospiti in un viaggio tra le galassie. I commensali più attenti potrebbero notare come alcuni\\nelementi dei suoi piatti sembrino sfidare gentilmente la gravità, un\\'abilità raffinata durante il suo periodo\\ncome chef a bordo di uno Star Destroyer, dove la cucina assumeva significati completamente nuovi.  \\nUn giorno, un peculiare incidente con un forno quantico di sua invenzione le donò una comprensione unica\\ndel tempo culinario. Questo \"fortunato incidente\", come ama definirlo, le permise di perfezionare l\\'arte della\\ncottura a livelli inimmaginabili, orchestrando ogni secondo in una danza perfetta di temperature, anche nei\\nclimi più extraterritoriali.  \\nAl Sapore del Dune, ogni serata è un viaggio attraverso le infinite possibilità del gusto. Chef Quanti non si\\nlimita a cucinare: plasma la realtà stessa del cibo, trasformando ogni pasto in un\\'esperienza che trascende i\\nconfini tradizionali della gastronomia. Come ama ricordare ai suoi ospiti: \"In cucina, come nell\\'universo, tutto\\nè possibile. Dobbiamo solo saper osservare tutte le possibilità simultaneamente, per poi scegliere la più\\nstraordinaria.\"  \\nLe skill certificate dello Chef sono:  \\nPsionica II\\nTemporale I\\nGravitazionale I\\nQuantistica 13\\nLuce II  \\nIl ristorante possiede una tecnologia LTK II'),\n",
       " Document(id='5e31dfde-55e4-4a61-af66-13e55b06d16d', metadata={'header_1': 'Menu', 'header_2': 'Pioggia di Dimensioni Galattiche', 'source': 'Sapore del Dune.pdf', 'chef_name': 'Alessandra Quanti', 'restaurant_name': 'sapore del dune', 'planet_name': 'Tatooine', 'licences': ['Psionica II', 'Temporale I', 'Gravitazionale I', 'Quantistica 13', 'Luce II']}, page_content='### Ingredienti  \\nShard di Prisma Stellare\\nLattuga Namecciana\\nBiscotti della Galassia\\nPane degli Abissi\\nNettare di Sirena\\nEssenza di Vuoto  \\n### Tecniche  \\nBollitura Termografica a Rotazione Veloce\\nAffumicatura a Stratificazione Quantica\\nFermentazione Quantico Biometrica'),\n",
       " Document(id='a1d538b2-a9c7-407f-b319-f4016fa2433e', metadata={'header_1': 'Menu', 'header_2': 'Sinfonia Temporale delle Profondità Infrasoniche', 'source': 'Sapore del Dune.pdf', 'chef_name': 'Alessandra Quanti', 'restaurant_name': 'sapore del dune', 'planet_name': 'Tatooine', 'licences': ['Psionica II', 'Temporale I', 'Gravitazionale I', 'Quantistica 13', 'Luce II']}, page_content='### Ingredienti  \\nPolvere di Crononite\\nCarne di Kraken\\nCarne di Balena spaziale\\nFunghi Orbitali\\nSale Temporale  \\n### Tecniche  \\nSaltare in Padella Classica\\nBollitura Infrasonica Armonizzata\\nCottura Sottovuoto Frugale Energeticamente Negativa')]"
      ]
     },
     "execution_count": 9,
     "metadata": {},
     "output_type": "execute_result"
    }
   ],
   "source": [
    "# Alternative: If you want exact array match\n",
    "\n",
    "retriever = vector_store.as_retriever(search_type=\"similarity\", search_kwargs={\"k\": 5, \"fetch_k\": vector_store.index.ntotal})\n",
    "\n",
    "retriever.invoke(\n",
    "    \"Radici di Singolaavfavsavfdfdafrità\",\n",
    "    filter=lambda x: \"Alessandra Quanti\" in x.get(\"chef_name\", \"\"),\n",
    ")"
   ]
  },
  {
   "cell_type": "code",
   "execution_count": 10,
   "metadata": {},
   "outputs": [],
   "source": [
    "from hackathon.models import MenuMetadata\n",
    "\n",
    "\n",
    "def query_with_metadata(query: str, metadata: MenuMetadata):\n",
    "\n",
    "    conditions = []\n",
    "\n",
    "    if metadata.chef_name is not None:\n",
    "        \n",
    "        conditions.append(lambda x: metadata.chef_name in x.get(\"chef_name\", \"\"))\n",
    "\n",
    "\n",
    "    if metadata.restaurant_name is not None:\n",
    "        conditions.append(lambda x: metadata.restaurant_name in x.get(\"restaurant_name\", \"\"))\n",
    "\n",
    "    if metadata.planet_name is not None:\n",
    "        conditions.append(lambda x: metadata.planet_name in x.get(\"planet_name\", \"\"))\n",
    "\n",
    "    if len(metadata.licences):\n",
    "\n",
    "        conditions.append(lambda x: any(lic in x.get(\"licences\", []) for lic in metadata.licences))\n",
    "\n",
    "    if len(conditions) == 0:\n",
    "        filter_fn = None\n",
    "\n",
    "    else:\n",
    "        filter_fn = lambda x: any(cond(x) for cond in conditions) #noqa\n",
    "    \n",
    "    return retriever.invoke(\n",
    "        query,\n",
    "        filter=filter_fn\n",
    "    )"
   ]
  },
  {
   "cell_type": "code",
   "execution_count": 11,
   "metadata": {},
   "outputs": [],
   "source": [
    "query_ex = \"Quali piatti del ristorante Cosmica Essenza sono preparati utilizzando i Funghi dell’Etere o la tecnica di Marinatura Temporale Sincronizzata?\""
   ]
  },
  {
   "cell_type": "code",
   "execution_count": 12,
   "metadata": {},
   "outputs": [],
   "source": [
    "def clean_string(string: str):\n",
    "    return string.lower().replace(\"_\", \" \").replace(\"'\", \" \")\n",
    "\n",
    "\n",
    "def search_string_in_dict(string: str, key: str, dictionary: dict):\n",
    "    search_string = clean_string(string)\n",
    "\n",
    "    if key not in dictionary:\n",
    "        return False\n",
    "\n",
    "    if dictionary[key] is None:\n",
    "        return True\n",
    "\n",
    "    if isinstance(dictionary[key], str):\n",
    "        return search_string in clean_string(dictionary[key])\n",
    "\n",
    "    elif isinstance(dictionary[key], list):\n",
    "        return search_string in [clean_string(x) for x in dictionary[key]]\n",
    "\n",
    "    else:\n",
    "        raise ValueError(f\"Unsupported type {type(dictionary[key])}\")\n",
    "\n",
    "\n",
    "def filter_with_metadata_local(metadata: MenuMetadata):\n",
    "    conditions = []\n",
    "    fields = []\n",
    "\n",
    "    if metadata.chef_name is not None:\n",
    "        fields.append(\"chef_name\")\n",
    "        conditions.append(\n",
    "            lambda doc_metadata: search_string_in_dict(\n",
    "                string=metadata.chef_name, key=\"chef_name\", dictionary=doc_metadata\n",
    "            )\n",
    "        )\n",
    "\n",
    "    if metadata.restaurant_name is not None:\n",
    "        fields.append(\"restaurant_name\")\n",
    "        conditions.append(\n",
    "            lambda doc_metadata: search_string_in_dict(\n",
    "                string=metadata.restaurant_name,\n",
    "                key=\"restaurant_name\",\n",
    "                dictionary=doc_metadata,\n",
    "            )\n",
    "        )\n",
    "\n",
    "    if metadata.planet_name is not None:\n",
    "        fields.append(\"planet_name\")\n",
    "        conditions.append(\n",
    "            lambda doc_metadata: search_string_in_dict(\n",
    "                string=metadata.planet_name, key=\"planet_name\", dictionary=doc_metadata\n",
    "            )\n",
    "        )\n",
    "\n",
    "    if len(metadata.licences):\n",
    "        fields.append(\"licences\")\n",
    "        conditions.append(\n",
    "            lambda doc_metadata: any(\n",
    "                search_string_in_dict(\n",
    "                    string=lic, key=\"licences\", dictionary=doc_metadata\n",
    "                )\n",
    "                for lic in metadata.licences\n",
    "            )\n",
    "        )\n",
    "\n",
    "    if len(conditions) == 0:\n",
    "        print(\"No metadata fields to filter\")\n",
    "        filter_fn = None\n",
    "\n",
    "    else:\n",
    "        print(f\"Filtering documents with metadata fields: {fields}\")\n",
    "        filter_fn = lambda x: any(cond(x) for cond in conditions)  # noqa\n",
    "\n",
    "    return filter_fn"
   ]
  },
  {
   "cell_type": "code",
   "execution_count": 13,
   "metadata": {},
   "outputs": [
    {
     "name": "stderr",
     "output_type": "stream",
     "text": [
      "INFO:hackathon.managers.vectore_store:Initializing vectorstore...\n",
      "INFO:sentence_transformers.SentenceTransformer:Load pretrained SentenceTransformer: sentence-transformers/all-mpnet-base-v2\n",
      "INFO:hackathon.managers.vectore_store:Vectorstore initialized successfully.\n"
     ]
    }
   ],
   "source": [
    "from hackathon.session import SessionManager\n",
    "\n",
    "retriever = SessionManager().vectorstore_manager.retriever"
   ]
  },
  {
   "cell_type": "code",
   "execution_count": 17,
   "metadata": {},
   "outputs": [
    {
     "name": "stderr",
     "output_type": "stream",
     "text": [
      "INFO:hackathon.graph.nodes.retrieve:Filtering documents with metadata fields: ['chef_name']\n"
     ]
    },
    {
     "name": "stdout",
     "output_type": "stream",
     "text": [
      "Preparato con l'abilità senza pari di Chef Alessandra Tempesti, il Galassia a Tavola è un viaggio sensoriale\n",
      "attraverso lo spazio e il tempo, incarnato in un piatto che fonde estetica e sapore. Questa creazione\n",
      "culinaria, concepita al \"L'Architetto dell'Universo\", è una vera e propria danza tra le stelle, un omaggio agli\n",
      "ingredienti più rari e alle tecniche più sofisticate dell'arte gastronomica cosmica.  \n",
      "Alla base del piatto si trovano strati delicati di Carne di Xenodonte, grigliati alla perfezione mediante la\n",
      "tecnica di Grigliatura Elettro-Molecolare a Spaziatura Variabile, rivelando un sapore umami profondo e\n",
      "stratificato. Su questa base terrosa si adagiano le Teste di Idra, cucinate con maestria utilizzando la Cottura\n",
      "al Forno con Paradosso Temporale Cronospeculare per assicurare una succulenza che sfida le ere, mentre\n",
      "la preparazione scrupolosa ne garantisce la totale sicurezza.  \n",
      "Le consistenze aromatiche dei Funghi Orbitali, coltivati su satelliti artificiali, avvolgono la composizione con\n",
      "un sapore ricco e terroso, bloccato nel tempo e custodito dalla Cristallizzazione Temporale Reversiva,\n",
      "rendendo ogni assaggio un’immersione nel sapore perpetuo.  \n",
      "Le Liane di Plasmodio sono sapientemente intrecciate e adagiate come contorno, con il loro sapore deciso e\n",
      "proteico, mentre le Foglie di Nebulosa danzano sulla superficie, mutando colore e sapore sotto la sapiente\n",
      "orchestrazione della Luce II, evocando la spettacolarità di un’aurora boreale culinaria.  \n",
      "A chiudere questo capolavoro, l’Essenza di Tachioni, sparsa come una rugiada cosmica, esalta la\n",
      "composizione con un tocco che provoca un leggero frizzare sulla lingua, accelerando i metabolismi solo il\n",
      "necessario per intensificare la percezione di ogni singolo elemento di questa sinfonia di sapori.  \n",
      "Ogni boccone di Galassia a Tavola non è solo un assaggio di eccellenza culinaria, ma un invito a esplorare\n",
      "l'infinito attraverso i sensi, un viaggio che solo una comprensione profonda della cucina cosmica può offrire.\n",
      "Benvenuti nel cuore pulsante del cosmo.\n",
      "---_\n",
      "Preparati per un viaggio multisensoriale attraverso il tempo e lo spazio con la nostra \"Odissea Temporale\",\n",
      "un piatto che sfida le leggi della natura e abbraccia l'essenza del ricordo. Lo Chef Alessandra Temporini,\n",
      "maestra nel manipolare tempo e realtà, presenta un capolavoro che intreccia sapori leggendari e terrestri in\n",
      "una danza culinaria senza precedenti.  \n",
      "La base del piatto si compone di una tenera bistecca di Carne di Drago marinata con delicatezza attraverso\n",
      "Reazioni d'Antimateria Diluite, conferendole una profondità di sapore e un retrogusto “cosmico” che alletta i\n",
      "sensi. Adagiata su un letto di Carne di Mucca sapientemente saltata in padella in maniera classica, questa\n",
      "combinazione esprime una perfezione terrena che celebra la tradizione.  \n",
      "Un contorno di Foglie di Mandragora imprigiona l’essenza dei calmanti ricordi d’infanzia, mentre una\n",
      "riduzione brillante di Lacrime di Unicorno e Essenza di Tachioni accende i sensi e stimola la mente, creando\n",
      "un gioco di contrasti che riecheggia il passaggio inarrestabile del tempo.  \n",
      "Un brodo unico di Teste di Idra, cotto a vapore con Flusso di Particelle Isoarmoniche, accompagna il piatto,\n",
      "offrendo le sue note rigenerative e una texture eterea che fluttua tra il possibile e l’impossibile. Infine, cristalli\n",
      "puri di Vero Ghiaccio vengono sapientemente frammentati sulla superficie, rilasciando una freschezza\n",
      "duratura che sfida il tempo e la logica.  \n",
      "Un’esperienza culinaria senza pari, \"Odissea Temporale\" è più di un semplice pasto; è un incontro con\n",
      "l’immortale, un'odissea che esplora l'infinita tavolozza di possibilità nel nostro universo. Scopri non solo il\n",
      "sapore, ma la risonanza delle memorie che attraversano ogni boccone.\n",
      "---_\n",
      "**Chef Alessandra Tempesti**  \n",
      "Su Klyntar, un pianeta avvolto da un misterioso bagliore cosmico, Chef Alessandra Tempesti ha fatto un\n",
      "passo audace: da architetta delle galassie a maestro dei sapori. Nel suo ristorante, un luogo dove le arti\n",
      "culinarie sfidano i confini dell'immaginazione, la tecnologia avanzata (LTK V) si fonde armoniosamente con\n",
      "le antiche tradizioni, creando un'esperienza culinaria che va oltre il semplice concetto di pasto.  \n",
      "In questo angolo remoto dell'universo, Alessandra utilizza il tempo come un prezioso ingrediente. Con il suo\n",
      "incomparabile dominio del controllo temporale (Temporale III) e la sua capacità certificata di manipolare 1\n",
      "stato in superposizione, ogni piatto diventa una sinfonia di sapori che racconta storie attraverso le ere.\n",
      "L'affinamento secolare di un formaggio in un singolo istante o il ricordo di frutti dimenticati da millenni\n",
      "rivivono sulla tavola, grazie alla sua magistrale abilità di manipolare i veli temporali.  \n",
      "Nel suo laboratorio di sapori, la luce è la sua complice silenziosa (Luce II). Tramite un sapiente uso dello\n",
      "spettro luminoso, ciascun piatto viene presentato come un'opera d'arte, dove i raggi di luce non solo\n",
      "abbelliscono ma rivelano essenze celate. Sotto la sua guida, la luce trasforma, infondendo ogni boccone con\n",
      "sfumature che risalgono al cuore dell'universo.  \n",
      "Alessandra sfida ogni giorno la gravità (Gravitazionale I) per creare presentazioni mozzafiato. Gocce di salsa\n",
      "fluttuano come sospese nel vuoto, raccontando storie di un mondo dove la fisica è un'alleata della\n",
      "gastronomia. Le sue creazioni sfidano la logica, dando vita a composizioni culinarie che evocano meraviglia\n",
      "e stupore.  \n",
      "Ma al centro della sua arte, c’è qualcosa di più profondo: la comprensione del legame tra essenza vitale e\n",
      "universo. Ogni piatto servito è un frammento di una filosofia che celebra la semplicità come chiave per\n",
      "l'armonia cosmica, portando una parte dell’infinito nutrimento del cosmo a chi assapora le sue creazioni.  \n",
      "Nel ristorante \"L'Architetto dell'Universo\", ogni cena è un'avventura tra i meandri spazio-temporali; un invito\n",
      "per gli ospiti a diventare esploratori di sapori, guidati da chi ha scelto di trascendere le stelle per dedicarsi\n",
      "alla sublime missione di nutrire l'anima.\n",
      "---_\n",
      "Preparati per un'esperienza culinaria che espande i confini del gusto e dell'immaginazione. Lo Chef\n",
      "Alessandra \"Nova\" Celestini presenta la sua magnum opus: un piatto che fonde arte, scienza e memoria\n",
      "cosmica in un unico boccone.  \n",
      "Il nostro viaggio inizia con una zuppa eterea, dove frammenti di Supernova si sciolgono lentamente,\n",
      "amplificando l'aroma speziato e incredibilmente tenero della Carne di Drago. Una sola siparata di Essenza di\n",
      "Vuoto dona un retrogusto di infinito, mentre Teste di Idra, abilmente preparate, aggiungono una dimensione\n",
      "rigenerativa e terrena alla vostra scoperta iniziale.  \n",
      "-----  \n",
      "Ad accompagnare la zuppa troviamo un risotto di Riso di Cassandra, i cui chicchi traslucidi brillano come\n",
      "stelle sotto la luce soffusa della sala da pranzo. Una cottura Olografica Quantum Fluttuante permette al\n",
      "fungo delle foreste di Andromeda e alle Radici di Gravità di danzare insieme, infondendo al riso note\n",
      "profonde e aromatiche.  \n",
      "Adornando il piatto, troviamo una Lattuga Namecciana, la cui energia rigenerativa è esaltata attraverso una\n",
      "Fermentazione Psionica Energetica. Questa tecnica trasforma la verdura fosforescente in una sinfonia di\n",
      "sapori personalizzati, adattandosi al palato dell'ospite, elevando il piatto a nuove dimensioni di delizia.  \n",
      "A coronare questa creazione multisensoriale, una trama di Fibra di Sintetex, a spirale sulla pietanza,\n",
      "accompagna un'incursione di sapori in un elegante equilibrio tra consistenza e innovazione.  \n",
      "In ogni elemento di questo piatto, Chef Nova intreccia storie di mondi lontani, offrendo non solo una cena,\n",
      "ma un frammento di universo racchiuso in un'esperienza culinaria senza tempo.\n",
      "Si ricorda che la nostra esperienza sensoriale richiede prenotazione anticipata di tre cicli lunari e accettiamo\n",
      "pagamenti in energie quantiche e memorie cristallizzate.  \n",
      "### Ingredienti  \n",
      "Frammenti di Supernova\n",
      "Lattuga Namecciana\n",
      "Radici di Gravità\n",
      "Fibra di Sintetex\n",
      "Teste di Idra\n",
      "Carne di Drago\n",
      "Riso di Cassandra\n",
      "Essenza di Vuoto  \n",
      "### Tecniche  \n",
      "Cottura Olografica Quantum Fluttuante\n",
      "Fermentazione Psionica Energetica\n",
      "---_\n",
      "Benvenuti in un viaggio culinario che trascende i confini dello spazio e del tempo. La nostra Eterea Sinfonia\n",
      "di Gravità è un piatto che cattura l'essenza dell'universo stesso, fondendo sapori esotici e tecniche\n",
      "all'avanguardia per creare un'esperienza indimenticabile.  \n",
      "Il cuore di questo piatto è un filetto di Carne di Xenodonte, scottato alla perfezione utilizzando la tecnica della\n",
      "Cottura al Forno con Paradosso Temporale Cronospeculare. Questo processo, che sfrutta riflessi temporali\n",
      "per un ciclo infinito di calore, garantisce una consistenza succulenta e una complessità di sapori senza pari.  \n",
      "Ad avvolgere il filetto, una crema vellutata di Funghi dell’Etere, la cui delicatezza fumosa è stata esaltata\n",
      "attraverso una Sinergia Elettro-Osmotica Programmabile, permettendo una perfetta penetrazione\n",
      "dell'idratazione aromatica.  \n",
      "Al lato, troviamo una delicata purea di Radici di Gravità, la cui consistenza unica e il sapore terroso danno un\n",
      "tocco di mistero al piatto, mentre una salsa vivace, preparata con Essenza di Tachioni, agisce come un\n",
      "acceleratore del sapore, esaltando il palato con un finale brillante e indimenticabile.  \n",
      "Completa questa meraviglia, un'insalata di colonia di Mycoflora e strisce sottili di Teste di Idra, curate a\n",
      "regola d'arte per garantire la sicurezza e la rinascita del palato ad ogni boccone. La naturalità della colonia di\n",
      "Mycoflora, con la loro capacità di crescita rapida, conferisce freschezza, mentre le Teste di Idra offrono un  \n",
      "-----  \n",
      "abbraccio rigenerativo che riesce a sfidare i limiti della nostra percezione culinaria.  \n",
      "Ogni elemento di questa composizione è stato congelato con la tecnica della Congelazione\n",
      "Iperdimensionalmente Stratificata, mantenendo intatti i sapori, le texture e le energie vitali che compongono\n",
      "questo universo in miniatura.  \n",
      "Siete pronti a esplorare un mondo dove la cucina incontra il cosmo? Affrontate un'esperienza che non\n",
      "dimenticate tra i sapori della nostra Eterea Sinfonia di Gravità con Infusione Temporale.  \n",
      "### Ingredienti  \n",
      "Colonia di Mycoflora\n",
      "Radici di Gravità\n",
      "Carne di Xenodonte\n",
      "Teste di Idra\n",
      "Funghi dell’Etere\n",
      "Essenza di Tachioni  \n",
      "### Tecniche  \n",
      "Congelazione Iperdimensionalmente Stratificata\n",
      "Sinergia Elettro-Osmotica Programmabile\n",
      "Cottura al Forno con Paradosso Temporale Cronospeculare\n",
      "---_\n"
     ]
    }
   ],
   "source": [
    "from hackathon.graph.nodes.retrieve import filter_with_metadata\n",
    "\n",
    "docs = retriever.invoke(query_ex, filter=filter_with_metadata(\n",
    "    MenuMetadata(\n",
    "        chef_name=\"Alessandra\",\n",
    ")))\n",
    "\n",
    "\n",
    "for doc in docs:\n",
    "\n",
    "    print(doc.page_content)\n",
    "    print(\"---_\")"
   ]
  },
  {
   "cell_type": "code",
   "execution_count": 46,
   "metadata": {},
   "outputs": [],
   "source": [
    "query_ex = \"Quali piatti del ristorante Cosmica Essenza sono preparati utilizzando i Funghi dell’Etere o la tecnica di Marinatura Temporale Sincronizzata?\""
   ]
  },
  {
   "cell_type": "code",
   "execution_count": 243,
   "metadata": {},
   "outputs": [
    {
     "data": {
      "text/plain": [
       "['anima cosmica',\n",
       " 'cosmica essenza',\n",
       " 'cosmica essenza',\n",
       " 'anima cosmica',\n",
       " 'anima cosmica',\n",
       " 'l essenza cosmica',\n",
       " 'l essenza cosmica',\n",
       " 'cosmica essenza',\n",
       " 'anima cosmica',\n",
       " 'l essenza cosmica',\n",
       " 'l essenza cosmica',\n",
       " 'l essenza cosmica',\n",
       " 'l essenza cosmica',\n",
       " 'l essenza cosmica',\n",
       " 'l essenza cosmica',\n",
       " 'l essenza cosmica',\n",
       " 'cosmica essenza',\n",
       " 'cosmica essenza',\n",
       " 'cosmica essenza',\n",
       " 'cosmica essenza',\n",
       " 'cosmica essenza',\n",
       " 'cosmica essenza',\n",
       " 'cosmica essenza',\n",
       " 'cosmica essenza',\n",
       " 'anima cosmica',\n",
       " 'anima cosmica',\n",
       " 'anima cosmica',\n",
       " 'anima cosmica',\n",
       " 'anima cosmica',\n",
       " 'anima cosmica',\n",
       " 'l essenza cosmica',\n",
       " 'l essenza cosmica',\n",
       " 'anima cosmica']"
      ]
     },
     "execution_count": 243,
     "metadata": {},
     "output_type": "execute_result"
    }
   ],
   "source": [
    "import numpy as np\n",
    "\n",
    "\n",
    "embedding_dim = vector_store.index.d\n",
    "dummy_vector = np.zeros(embedding_dim)\n",
    "\n",
    "# Retrieve all documents by setting k to the total number of documents\n",
    "docs_and_scores = vector_store.similarity_search_with_score_by_vector(\n",
    "    dummy_vector, k=vector_store.index.ntotal\n",
    ")\n",
    "\n",
    "list(filter(lambda x: \"cosmica\" in x if x else False, list(map(lambda x: x[0].metadata.get(\"restaurant_name\"), docs_and_scores))))"
   ]
  },
  {
   "cell_type": "code",
   "execution_count": 43,
   "metadata": {},
   "outputs": [
    {
     "data": {
      "text/plain": [
       "[]"
      ]
     },
     "execution_count": 43,
     "metadata": {},
     "output_type": "execute_result"
    }
   ],
   "source": []
  },
  {
   "cell_type": "code",
   "execution_count": 36,
   "metadata": {},
   "outputs": [],
   "source": [
    "import chromadb\n",
    "chroma_client = chromadb.Client()"
   ]
  },
  {
   "cell_type": "code",
   "execution_count": 37,
   "metadata": {},
   "outputs": [],
   "source": [
    "collection = chroma_client.create_collection(name=\"my_collection\")"
   ]
  },
  {
   "cell_type": "code",
   "execution_count": 46,
   "metadata": {},
   "outputs": [
    {
     "ename": "ValueError",
     "evalue": "Expected metadata value to be a str, int, float or bool, got ['pineapple'] which is a list in add.",
     "output_type": "error",
     "traceback": [
      "\u001b[1;31m---------------------------------------------------------------------------\u001b[0m",
      "\u001b[1;31mValueError\u001b[0m                                Traceback (most recent call last)",
      "File \u001b[1;32mc:\\Users\\GiovanniGiacometti\\Desktop\\hackathon\\.venv\\Lib\\site-packages\\chromadb\\api\\models\\CollectionCommon.py:90\u001b[0m, in \u001b[0;36mvalidation_context.<locals>.decorator.<locals>.wrapper\u001b[1;34m(self, *args, **kwargs)\u001b[0m\n\u001b[0;32m     89\u001b[0m \u001b[38;5;28;01mtry\u001b[39;00m:\n\u001b[1;32m---> 90\u001b[0m     \u001b[38;5;28;01mreturn\u001b[39;00m \u001b[43mfunc\u001b[49m\u001b[43m(\u001b[49m\u001b[38;5;28;43mself\u001b[39;49m\u001b[43m,\u001b[49m\u001b[43m \u001b[49m\u001b[38;5;241;43m*\u001b[39;49m\u001b[43margs\u001b[49m\u001b[43m,\u001b[49m\u001b[43m \u001b[49m\u001b[38;5;241;43m*\u001b[39;49m\u001b[38;5;241;43m*\u001b[39;49m\u001b[43mkwargs\u001b[49m\u001b[43m)\u001b[49m\n\u001b[0;32m     91\u001b[0m \u001b[38;5;28;01mexcept\u001b[39;00m \u001b[38;5;167;01mException\u001b[39;00m \u001b[38;5;28;01mas\u001b[39;00m e:\n",
      "File \u001b[1;32mc:\\Users\\GiovanniGiacometti\\Desktop\\hackathon\\.venv\\Lib\\site-packages\\chromadb\\api\\models\\CollectionCommon.py:207\u001b[0m, in \u001b[0;36mCollectionCommon._validate_and_prepare_add_request\u001b[1;34m(self, ids, embeddings, metadatas, documents, images, uris)\u001b[0m\n\u001b[0;32m    206\u001b[0m \u001b[38;5;66;03m# Validate\u001b[39;00m\n\u001b[1;32m--> 207\u001b[0m \u001b[43mvalidate_insert_record_set\u001b[49m\u001b[43m(\u001b[49m\u001b[43mrecord_set\u001b[49m\u001b[38;5;241;43m=\u001b[39;49m\u001b[43madd_records\u001b[49m\u001b[43m)\u001b[49m\n\u001b[0;32m    208\u001b[0m validate_record_set_contains_any(record_set\u001b[38;5;241m=\u001b[39madd_records, contains_any\u001b[38;5;241m=\u001b[39m{\u001b[38;5;124m\"\u001b[39m\u001b[38;5;124mids\u001b[39m\u001b[38;5;124m\"\u001b[39m})\n",
      "File \u001b[1;32mc:\\Users\\GiovanniGiacometti\\Desktop\\hackathon\\.venv\\Lib\\site-packages\\chromadb\\api\\types.py:224\u001b[0m, in \u001b[0;36mvalidate_insert_record_set\u001b[1;34m(record_set)\u001b[0m\n\u001b[0;32m    223\u001b[0m \u001b[38;5;28;01mif\u001b[39;00m record_set[\u001b[38;5;124m\"\u001b[39m\u001b[38;5;124mmetadatas\u001b[39m\u001b[38;5;124m\"\u001b[39m] \u001b[38;5;129;01mis\u001b[39;00m \u001b[38;5;129;01mnot\u001b[39;00m \u001b[38;5;28;01mNone\u001b[39;00m:\n\u001b[1;32m--> 224\u001b[0m     \u001b[43mvalidate_metadatas\u001b[49m\u001b[43m(\u001b[49m\u001b[43mrecord_set\u001b[49m\u001b[43m[\u001b[49m\u001b[38;5;124;43m\"\u001b[39;49m\u001b[38;5;124;43mmetadatas\u001b[39;49m\u001b[38;5;124;43m\"\u001b[39;49m\u001b[43m]\u001b[49m\u001b[43m)\u001b[49m\n",
      "File \u001b[1;32mc:\\Users\\GiovanniGiacometti\\Desktop\\hackathon\\.venv\\Lib\\site-packages\\chromadb\\api\\types.py:586\u001b[0m, in \u001b[0;36mvalidate_metadatas\u001b[1;34m(metadatas)\u001b[0m\n\u001b[0;32m    585\u001b[0m \u001b[38;5;28;01mfor\u001b[39;00m metadata \u001b[38;5;129;01min\u001b[39;00m metadatas:\n\u001b[1;32m--> 586\u001b[0m     \u001b[43mvalidate_metadata\u001b[49m\u001b[43m(\u001b[49m\u001b[43mmetadata\u001b[49m\u001b[43m)\u001b[49m\n\u001b[0;32m    587\u001b[0m \u001b[38;5;28;01mreturn\u001b[39;00m metadatas\n",
      "File \u001b[1;32mc:\\Users\\GiovanniGiacometti\\Desktop\\hackathon\\.venv\\Lib\\site-packages\\chromadb\\api\\types.py:552\u001b[0m, in \u001b[0;36mvalidate_metadata\u001b[1;34m(metadata)\u001b[0m\n\u001b[0;32m    551\u001b[0m     \u001b[38;5;28;01mif\u001b[39;00m \u001b[38;5;129;01mnot\u001b[39;00m \u001b[38;5;28misinstance\u001b[39m(value, \u001b[38;5;28mbool\u001b[39m) \u001b[38;5;129;01mand\u001b[39;00m \u001b[38;5;129;01mnot\u001b[39;00m \u001b[38;5;28misinstance\u001b[39m(value, (\u001b[38;5;28mstr\u001b[39m, \u001b[38;5;28mint\u001b[39m, \u001b[38;5;28mfloat\u001b[39m)):\n\u001b[1;32m--> 552\u001b[0m         \u001b[38;5;28;01mraise\u001b[39;00m \u001b[38;5;167;01mValueError\u001b[39;00m(\n\u001b[0;32m    553\u001b[0m             \u001b[38;5;124mf\u001b[39m\u001b[38;5;124m\"\u001b[39m\u001b[38;5;124mExpected metadata value to be a str, int, float or bool, got \u001b[39m\u001b[38;5;132;01m{\u001b[39;00mvalue\u001b[38;5;132;01m}\u001b[39;00m\u001b[38;5;124m which is a \u001b[39m\u001b[38;5;132;01m{\u001b[39;00m\u001b[38;5;28mtype\u001b[39m(value)\u001b[38;5;241m.\u001b[39m\u001b[38;5;18m__name__\u001b[39m\u001b[38;5;132;01m}\u001b[39;00m\u001b[38;5;124m\"\u001b[39m\n\u001b[0;32m    554\u001b[0m         )\n\u001b[0;32m    555\u001b[0m \u001b[38;5;28;01mreturn\u001b[39;00m metadata\n",
      "\u001b[1;31mValueError\u001b[0m: Expected metadata value to be a str, int, float or bool, got ['pineapple'] which is a list",
      "\nDuring handling of the above exception, another exception occurred:\n",
      "\u001b[1;31mValueError\u001b[0m                                Traceback (most recent call last)",
      "Cell \u001b[1;32mIn[46], line 1\u001b[0m\n\u001b[1;32m----> 1\u001b[0m \u001b[43mcollection\u001b[49m\u001b[38;5;241;43m.\u001b[39;49m\u001b[43madd\u001b[49m\u001b[43m(\u001b[49m\n\u001b[0;32m      2\u001b[0m \u001b[43m    \u001b[49m\u001b[43mdocuments\u001b[49m\u001b[38;5;241;43m=\u001b[39;49m\u001b[43m[\u001b[49m\n\u001b[0;32m      3\u001b[0m \u001b[43m        \u001b[49m\u001b[38;5;124;43m\"\u001b[39;49m\u001b[38;5;124;43mThis is a document about pineapple\u001b[39;49m\u001b[38;5;124;43m\"\u001b[39;49m\u001b[43m,\u001b[49m\n\u001b[0;32m      4\u001b[0m \u001b[43m        \u001b[49m\u001b[38;5;124;43m\"\u001b[39;49m\u001b[38;5;124;43mThis is a document about oranges\u001b[39;49m\u001b[38;5;124;43m\"\u001b[39;49m\n\u001b[0;32m      5\u001b[0m \u001b[43m    \u001b[49m\u001b[43m]\u001b[49m\u001b[43m,\u001b[49m\n\u001b[0;32m      6\u001b[0m \u001b[43m    \u001b[49m\u001b[43mids\u001b[49m\u001b[38;5;241;43m=\u001b[39;49m\u001b[43m[\u001b[49m\u001b[38;5;124;43m\"\u001b[39;49m\u001b[38;5;124;43mid3\u001b[39;49m\u001b[38;5;124;43m\"\u001b[39;49m\u001b[43m,\u001b[49m\u001b[43m \u001b[49m\u001b[38;5;124;43m\"\u001b[39;49m\u001b[38;5;124;43mid5\u001b[39;49m\u001b[38;5;124;43m\"\u001b[39;49m\u001b[43m]\u001b[49m\u001b[43m,\u001b[49m\n\u001b[0;32m      7\u001b[0m \u001b[43m    \u001b[49m\u001b[43mmetadatas\u001b[49m\u001b[38;5;241;43m=\u001b[39;49m\u001b[43m[\u001b[49m\u001b[43m{\u001b[49m\u001b[38;5;124;43m\"\u001b[39;49m\u001b[38;5;124;43mfruit\u001b[39;49m\u001b[38;5;124;43m\"\u001b[39;49m\u001b[43m:\u001b[49m\u001b[43m \u001b[49m\u001b[43m[\u001b[49m\u001b[38;5;124;43m\"\u001b[39;49m\u001b[38;5;124;43mpineapple\u001b[39;49m\u001b[38;5;124;43m\"\u001b[39;49m\u001b[43m]\u001b[49m\u001b[43m}\u001b[49m\u001b[43m,\u001b[49m\u001b[43m \u001b[49m\u001b[43m{\u001b[49m\u001b[38;5;124;43m\"\u001b[39;49m\u001b[38;5;124;43mfruit\u001b[39;49m\u001b[38;5;124;43m\"\u001b[39;49m\u001b[43m:\u001b[49m\u001b[43m \u001b[49m\u001b[38;5;124;43m\"\u001b[39;49m\u001b[38;5;124;43morange\u001b[39;49m\u001b[38;5;124;43m\"\u001b[39;49m\u001b[43m}\u001b[49m\u001b[43m]\u001b[49m\u001b[43m,\u001b[49m\n\u001b[0;32m      8\u001b[0m \u001b[43m)\u001b[49m\n",
      "File \u001b[1;32mc:\\Users\\GiovanniGiacometti\\Desktop\\hackathon\\.venv\\Lib\\site-packages\\chromadb\\api\\models\\Collection.py:81\u001b[0m, in \u001b[0;36mCollection.add\u001b[1;34m(self, ids, embeddings, metadatas, documents, images, uris)\u001b[0m\n\u001b[0;32m     46\u001b[0m \u001b[38;5;28;01mdef\u001b[39;00m\u001b[38;5;250m \u001b[39m\u001b[38;5;21madd\u001b[39m(\n\u001b[0;32m     47\u001b[0m     \u001b[38;5;28mself\u001b[39m,\n\u001b[0;32m     48\u001b[0m     ids: OneOrMany[ID],\n\u001b[1;32m   (...)\u001b[0m\n\u001b[0;32m     58\u001b[0m     uris: Optional[OneOrMany[URI]] \u001b[38;5;241m=\u001b[39m \u001b[38;5;28;01mNone\u001b[39;00m,\n\u001b[0;32m     59\u001b[0m ) \u001b[38;5;241m-\u001b[39m\u001b[38;5;241m>\u001b[39m \u001b[38;5;28;01mNone\u001b[39;00m:\n\u001b[0;32m     60\u001b[0m \u001b[38;5;250m    \u001b[39m\u001b[38;5;124;03m\"\"\"Add embeddings to the data store.\u001b[39;00m\n\u001b[0;32m     61\u001b[0m \u001b[38;5;124;03m    Args:\u001b[39;00m\n\u001b[0;32m     62\u001b[0m \u001b[38;5;124;03m        ids: The ids of the embeddings you wish to add\u001b[39;00m\n\u001b[1;32m   (...)\u001b[0m\n\u001b[0;32m     78\u001b[0m \n\u001b[0;32m     79\u001b[0m \u001b[38;5;124;03m    \"\"\"\u001b[39;00m\n\u001b[1;32m---> 81\u001b[0m     add_request \u001b[38;5;241m=\u001b[39m \u001b[38;5;28;43mself\u001b[39;49m\u001b[38;5;241;43m.\u001b[39;49m\u001b[43m_validate_and_prepare_add_request\u001b[49m\u001b[43m(\u001b[49m\n\u001b[0;32m     82\u001b[0m \u001b[43m        \u001b[49m\u001b[43mids\u001b[49m\u001b[38;5;241;43m=\u001b[39;49m\u001b[43mids\u001b[49m\u001b[43m,\u001b[49m\n\u001b[0;32m     83\u001b[0m \u001b[43m        \u001b[49m\u001b[43membeddings\u001b[49m\u001b[38;5;241;43m=\u001b[39;49m\u001b[43membeddings\u001b[49m\u001b[43m,\u001b[49m\n\u001b[0;32m     84\u001b[0m \u001b[43m        \u001b[49m\u001b[43mmetadatas\u001b[49m\u001b[38;5;241;43m=\u001b[39;49m\u001b[43mmetadatas\u001b[49m\u001b[43m,\u001b[49m\n\u001b[0;32m     85\u001b[0m \u001b[43m        \u001b[49m\u001b[43mdocuments\u001b[49m\u001b[38;5;241;43m=\u001b[39;49m\u001b[43mdocuments\u001b[49m\u001b[43m,\u001b[49m\n\u001b[0;32m     86\u001b[0m \u001b[43m        \u001b[49m\u001b[43mimages\u001b[49m\u001b[38;5;241;43m=\u001b[39;49m\u001b[43mimages\u001b[49m\u001b[43m,\u001b[49m\n\u001b[0;32m     87\u001b[0m \u001b[43m        \u001b[49m\u001b[43muris\u001b[49m\u001b[38;5;241;43m=\u001b[39;49m\u001b[43muris\u001b[49m\u001b[43m,\u001b[49m\n\u001b[0;32m     88\u001b[0m \u001b[43m    \u001b[49m\u001b[43m)\u001b[49m\n\u001b[0;32m     90\u001b[0m     \u001b[38;5;28mself\u001b[39m\u001b[38;5;241m.\u001b[39m_client\u001b[38;5;241m.\u001b[39m_add(\n\u001b[0;32m     91\u001b[0m         collection_id\u001b[38;5;241m=\u001b[39m\u001b[38;5;28mself\u001b[39m\u001b[38;5;241m.\u001b[39mid,\n\u001b[0;32m     92\u001b[0m         ids\u001b[38;5;241m=\u001b[39madd_request[\u001b[38;5;124m\"\u001b[39m\u001b[38;5;124mids\u001b[39m\u001b[38;5;124m\"\u001b[39m],\n\u001b[1;32m   (...)\u001b[0m\n\u001b[0;32m     98\u001b[0m         database\u001b[38;5;241m=\u001b[39m\u001b[38;5;28mself\u001b[39m\u001b[38;5;241m.\u001b[39mdatabase,\n\u001b[0;32m     99\u001b[0m     )\n",
      "File \u001b[1;32mc:\\Users\\GiovanniGiacometti\\Desktop\\hackathon\\.venv\\Lib\\site-packages\\chromadb\\api\\models\\CollectionCommon.py:93\u001b[0m, in \u001b[0;36mvalidation_context.<locals>.decorator.<locals>.wrapper\u001b[1;34m(self, *args, **kwargs)\u001b[0m\n\u001b[0;32m     91\u001b[0m \u001b[38;5;28;01mexcept\u001b[39;00m \u001b[38;5;167;01mException\u001b[39;00m \u001b[38;5;28;01mas\u001b[39;00m e:\n\u001b[0;32m     92\u001b[0m     msg \u001b[38;5;241m=\u001b[39m \u001b[38;5;124mf\u001b[39m\u001b[38;5;124m\"\u001b[39m\u001b[38;5;132;01m{\u001b[39;00m\u001b[38;5;28mstr\u001b[39m(e)\u001b[38;5;132;01m}\u001b[39;00m\u001b[38;5;124m in \u001b[39m\u001b[38;5;132;01m{\u001b[39;00mname\u001b[38;5;132;01m}\u001b[39;00m\u001b[38;5;124m.\u001b[39m\u001b[38;5;124m\"\u001b[39m\n\u001b[1;32m---> 93\u001b[0m     \u001b[38;5;28;01mraise\u001b[39;00m \u001b[38;5;28mtype\u001b[39m(e)(msg)\u001b[38;5;241m.\u001b[39mwith_traceback(e\u001b[38;5;241m.\u001b[39m__traceback__)\n",
      "File \u001b[1;32mc:\\Users\\GiovanniGiacometti\\Desktop\\hackathon\\.venv\\Lib\\site-packages\\chromadb\\api\\models\\CollectionCommon.py:90\u001b[0m, in \u001b[0;36mvalidation_context.<locals>.decorator.<locals>.wrapper\u001b[1;34m(self, *args, **kwargs)\u001b[0m\n\u001b[0;32m     87\u001b[0m \u001b[38;5;129m@functools\u001b[39m\u001b[38;5;241m.\u001b[39mwraps(func)\n\u001b[0;32m     88\u001b[0m \u001b[38;5;28;01mdef\u001b[39;00m\u001b[38;5;250m \u001b[39m\u001b[38;5;21mwrapper\u001b[39m(\u001b[38;5;28mself\u001b[39m: Any, \u001b[38;5;241m*\u001b[39margs: Any, \u001b[38;5;241m*\u001b[39m\u001b[38;5;241m*\u001b[39mkwargs: Any) \u001b[38;5;241m-\u001b[39m\u001b[38;5;241m>\u001b[39m T:\n\u001b[0;32m     89\u001b[0m     \u001b[38;5;28;01mtry\u001b[39;00m:\n\u001b[1;32m---> 90\u001b[0m         \u001b[38;5;28;01mreturn\u001b[39;00m \u001b[43mfunc\u001b[49m\u001b[43m(\u001b[49m\u001b[38;5;28;43mself\u001b[39;49m\u001b[43m,\u001b[49m\u001b[43m \u001b[49m\u001b[38;5;241;43m*\u001b[39;49m\u001b[43margs\u001b[49m\u001b[43m,\u001b[49m\u001b[43m \u001b[49m\u001b[38;5;241;43m*\u001b[39;49m\u001b[38;5;241;43m*\u001b[39;49m\u001b[43mkwargs\u001b[49m\u001b[43m)\u001b[49m\n\u001b[0;32m     91\u001b[0m     \u001b[38;5;28;01mexcept\u001b[39;00m \u001b[38;5;167;01mException\u001b[39;00m \u001b[38;5;28;01mas\u001b[39;00m e:\n\u001b[0;32m     92\u001b[0m         msg \u001b[38;5;241m=\u001b[39m \u001b[38;5;124mf\u001b[39m\u001b[38;5;124m\"\u001b[39m\u001b[38;5;132;01m{\u001b[39;00m\u001b[38;5;28mstr\u001b[39m(e)\u001b[38;5;132;01m}\u001b[39;00m\u001b[38;5;124m in \u001b[39m\u001b[38;5;132;01m{\u001b[39;00mname\u001b[38;5;132;01m}\u001b[39;00m\u001b[38;5;124m.\u001b[39m\u001b[38;5;124m\"\u001b[39m\n",
      "File \u001b[1;32mc:\\Users\\GiovanniGiacometti\\Desktop\\hackathon\\.venv\\Lib\\site-packages\\chromadb\\api\\models\\CollectionCommon.py:207\u001b[0m, in \u001b[0;36mCollectionCommon._validate_and_prepare_add_request\u001b[1;34m(self, ids, embeddings, metadatas, documents, images, uris)\u001b[0m\n\u001b[0;32m    197\u001b[0m add_records \u001b[38;5;241m=\u001b[39m normalize_insert_record_set(\n\u001b[0;32m    198\u001b[0m     ids\u001b[38;5;241m=\u001b[39mids,\n\u001b[0;32m    199\u001b[0m     embeddings\u001b[38;5;241m=\u001b[39membeddings,\n\u001b[1;32m   (...)\u001b[0m\n\u001b[0;32m    203\u001b[0m     uris\u001b[38;5;241m=\u001b[39muris,\n\u001b[0;32m    204\u001b[0m )\n\u001b[0;32m    206\u001b[0m \u001b[38;5;66;03m# Validate\u001b[39;00m\n\u001b[1;32m--> 207\u001b[0m \u001b[43mvalidate_insert_record_set\u001b[49m\u001b[43m(\u001b[49m\u001b[43mrecord_set\u001b[49m\u001b[38;5;241;43m=\u001b[39;49m\u001b[43madd_records\u001b[49m\u001b[43m)\u001b[49m\n\u001b[0;32m    208\u001b[0m validate_record_set_contains_any(record_set\u001b[38;5;241m=\u001b[39madd_records, contains_any\u001b[38;5;241m=\u001b[39m{\u001b[38;5;124m\"\u001b[39m\u001b[38;5;124mids\u001b[39m\u001b[38;5;124m\"\u001b[39m})\n\u001b[0;32m    210\u001b[0m \u001b[38;5;66;03m# Prepare\u001b[39;00m\n",
      "File \u001b[1;32mc:\\Users\\GiovanniGiacometti\\Desktop\\hackathon\\.venv\\Lib\\site-packages\\chromadb\\api\\types.py:224\u001b[0m, in \u001b[0;36mvalidate_insert_record_set\u001b[1;34m(record_set)\u001b[0m\n\u001b[0;32m    222\u001b[0m validate_ids(record_set[\u001b[38;5;124m\"\u001b[39m\u001b[38;5;124mids\u001b[39m\u001b[38;5;124m\"\u001b[39m])\n\u001b[0;32m    223\u001b[0m \u001b[38;5;28;01mif\u001b[39;00m record_set[\u001b[38;5;124m\"\u001b[39m\u001b[38;5;124mmetadatas\u001b[39m\u001b[38;5;124m\"\u001b[39m] \u001b[38;5;129;01mis\u001b[39;00m \u001b[38;5;129;01mnot\u001b[39;00m \u001b[38;5;28;01mNone\u001b[39;00m:\n\u001b[1;32m--> 224\u001b[0m     \u001b[43mvalidate_metadatas\u001b[49m\u001b[43m(\u001b[49m\u001b[43mrecord_set\u001b[49m\u001b[43m[\u001b[49m\u001b[38;5;124;43m\"\u001b[39;49m\u001b[38;5;124;43mmetadatas\u001b[39;49m\u001b[38;5;124;43m\"\u001b[39;49m\u001b[43m]\u001b[49m\u001b[43m)\u001b[49m\n",
      "File \u001b[1;32mc:\\Users\\GiovanniGiacometti\\Desktop\\hackathon\\.venv\\Lib\\site-packages\\chromadb\\api\\types.py:586\u001b[0m, in \u001b[0;36mvalidate_metadatas\u001b[1;34m(metadatas)\u001b[0m\n\u001b[0;32m    584\u001b[0m     \u001b[38;5;28;01mraise\u001b[39;00m \u001b[38;5;167;01mValueError\u001b[39;00m(\u001b[38;5;124mf\u001b[39m\u001b[38;5;124m\"\u001b[39m\u001b[38;5;124mExpected metadatas to be a list, got \u001b[39m\u001b[38;5;132;01m{\u001b[39;00mmetadatas\u001b[38;5;132;01m}\u001b[39;00m\u001b[38;5;124m\"\u001b[39m)\n\u001b[0;32m    585\u001b[0m \u001b[38;5;28;01mfor\u001b[39;00m metadata \u001b[38;5;129;01min\u001b[39;00m metadatas:\n\u001b[1;32m--> 586\u001b[0m     \u001b[43mvalidate_metadata\u001b[49m\u001b[43m(\u001b[49m\u001b[43mmetadata\u001b[49m\u001b[43m)\u001b[49m\n\u001b[0;32m    587\u001b[0m \u001b[38;5;28;01mreturn\u001b[39;00m metadatas\n",
      "File \u001b[1;32mc:\\Users\\GiovanniGiacometti\\Desktop\\hackathon\\.venv\\Lib\\site-packages\\chromadb\\api\\types.py:552\u001b[0m, in \u001b[0;36mvalidate_metadata\u001b[1;34m(metadata)\u001b[0m\n\u001b[0;32m    550\u001b[0m     \u001b[38;5;66;03m# isinstance(True, int) evaluates to True, so we need to check for bools separately\u001b[39;00m\n\u001b[0;32m    551\u001b[0m     \u001b[38;5;28;01mif\u001b[39;00m \u001b[38;5;129;01mnot\u001b[39;00m \u001b[38;5;28misinstance\u001b[39m(value, \u001b[38;5;28mbool\u001b[39m) \u001b[38;5;129;01mand\u001b[39;00m \u001b[38;5;129;01mnot\u001b[39;00m \u001b[38;5;28misinstance\u001b[39m(value, (\u001b[38;5;28mstr\u001b[39m, \u001b[38;5;28mint\u001b[39m, \u001b[38;5;28mfloat\u001b[39m)):\n\u001b[1;32m--> 552\u001b[0m         \u001b[38;5;28;01mraise\u001b[39;00m \u001b[38;5;167;01mValueError\u001b[39;00m(\n\u001b[0;32m    553\u001b[0m             \u001b[38;5;124mf\u001b[39m\u001b[38;5;124m\"\u001b[39m\u001b[38;5;124mExpected metadata value to be a str, int, float or bool, got \u001b[39m\u001b[38;5;132;01m{\u001b[39;00mvalue\u001b[38;5;132;01m}\u001b[39;00m\u001b[38;5;124m which is a \u001b[39m\u001b[38;5;132;01m{\u001b[39;00m\u001b[38;5;28mtype\u001b[39m(value)\u001b[38;5;241m.\u001b[39m\u001b[38;5;18m__name__\u001b[39m\u001b[38;5;132;01m}\u001b[39;00m\u001b[38;5;124m\"\u001b[39m\n\u001b[0;32m    554\u001b[0m         )\n\u001b[0;32m    555\u001b[0m \u001b[38;5;28;01mreturn\u001b[39;00m metadata\n",
      "\u001b[1;31mValueError\u001b[0m: Expected metadata value to be a str, int, float or bool, got ['pineapple'] which is a list in add."
     ]
    }
   ],
   "source": [
    "collection.add(\n",
    "    documents=[\n",
    "        \"This is a document about pineapple\",\n",
    "        \"This is a document about oranges\"\n",
    "    ],\n",
    "    ids=[\"id3\", \"id5\"],\n",
    "    metadatas=[{\"fruit\": [\"pineapple\"]}, {\"fruit\": \"orange\"}],\n",
    ")"
   ]
  },
  {
   "cell_type": "code",
   "execution_count": 34,
   "metadata": {},
   "outputs": [],
   "source": [
    "\n",
    "\n",
    "# Example documents\n",
    "documents = [\n",
    "    \"Document about regression and classification\",\n",
    "    \"Document about CNN architecture\",\n",
    "    \"Document about both regression and CNN\"\n",
    "]\n",
    "\n",
    "# Method 1: Using lists in metadata (Recommended)\n",
    "metadata_list = [\n",
    "    {\n",
    "        \"techniques\": [\"regression\", \"classification\"],\n",
    "        \"difficulty\": \"intermediate\"\n",
    "    },\n",
    "    {\n",
    "        \"techniques\": [\"CNN\"],\n",
    "        \"difficulty\": \"advanced\"\n",
    "    },\n",
    "    {\n",
    "        \"techniques\": [\"regression\", \"CNN\"],\n",
    "        \"difficulty\": \"advanced\"\n",
    "    }\n",
    "]\n",
    "\n",
    "# Add documents with metadata using lists\n",
    "collection.add(\n",
    "    documents=documents,\n",
    "    ids=[\"doc1\", \"doc2\", \"doc3\"],\n",
    "    metadatas=metadata_list\n",
    ")\n",
    "\n",
    "# Query examples\n",
    "# 1. Find documents about regression\n",
    "results = collection.query(\n",
    "    query_texts=[\"regression\"],\n",
    "    where={\"techniques\": {\"$in\": [\"regression\"]}}\n",
    ")\n",
    "\n",
    "# 2. Find advanced documents about CNN\n",
    "results_advanced_cnn = collection.query(\n",
    "    query_texts=[\"CNN architecture\"],\n",
    "    where={\n",
    "        \"$and\": [\n",
    "            {\"techniques\": {\"$in\": [\"CNN\"]}},\n",
    "            {\"difficulty\": \"advanced\"}\n",
    "        ]\n",
    "    }\n",
    ")"
   ]
  }
 ],
 "metadata": {
  "kernelspec": {
   "display_name": ".venv",
   "language": "python",
   "name": "python3"
  },
  "language_info": {
   "codemirror_mode": {
    "name": "ipython",
    "version": 3
   },
   "file_extension": ".py",
   "mimetype": "text/x-python",
   "name": "python",
   "nbconvert_exporter": "python",
   "pygments_lexer": "ipython3",
   "version": "3.12.7"
  }
 },
 "nbformat": 4,
 "nbformat_minor": 2
}
