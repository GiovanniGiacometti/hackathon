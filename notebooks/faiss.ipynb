{
 "cells": [
  {
   "cell_type": "code",
   "execution_count": 109,
   "metadata": {},
   "outputs": [],
   "source": [
    "import os\n",
    "\n",
    "while not os.getcwd().endswith(\"hackathon\"):\n",
    "    os.chdir(\"..\")\n",
    "    print(f\"Now in {os.getcwd()}\")"
   ]
  },
  {
   "cell_type": "code",
   "execution_count": 110,
   "metadata": {},
   "outputs": [],
   "source": [
    "from hackathon.utils.settings.settings_provider import SettingsProvider\n",
    "import warnings\n",
    "from langchain_chroma.vectorstores import Chroma\n",
    "from langchain_huggingface import HuggingFaceEmbeddings\n",
    "\n",
    "with warnings.catch_warnings(action=\"ignore\"):\n",
    "    from langchain_ibm import ChatWatsonx\n",
    "import dotenv\n",
    "from langchain.schema import Document\n",
    "import faiss\n",
    "from langchain_community.docstore.in_memory import InMemoryDocstore\n",
    "from langchain_community.vectorstores import FAISS\n",
    "\n",
    "\n",
    "dotenv.load_dotenv();"
   ]
  },
  {
   "cell_type": "code",
   "execution_count": 111,
   "metadata": {},
   "outputs": [],
   "source": [
    "settings_provider = SettingsProvider()"
   ]
  },
  {
   "cell_type": "code",
   "execution_count": 4,
   "metadata": {},
   "outputs": [],
   "source": [
    "llm = ChatWatsonx(\n",
    "    model_id=settings_provider.get_ibm_model_name(),  # type: ignore\n",
    "    url=settings_provider.get_ibm_endpoint_url(),  # type: ignore\n",
    "    project_id=settings_provider.get_ibm_project_id(),  # type: ignore\n",
    ")"
   ]
  },
  {
   "cell_type": "code",
   "execution_count": 112,
   "metadata": {},
   "outputs": [],
   "source": [
    "model_kwargs = {\"device\": \"cpu\"}\n",
    "encode_kwargs = {\"normalize_embeddings\": False}\n",
    "\n",
    "embeddings = HuggingFaceEmbeddings(\n",
    "    model_name=settings_provider.get_embeddings_model_name(),\n",
    "    model_kwargs=model_kwargs,\n",
    "    encode_kwargs=encode_kwargs,\n",
    ")"
   ]
  },
  {
   "cell_type": "code",
   "execution_count": 20,
   "metadata": {},
   "outputs": [],
   "source": [
    "# import faiss\n",
    "# from langchain_community.docstore.in_memory import InMemoryDocstore\n",
    "# from langchain_community.vectorstores import FAISS\n",
    "\n",
    "# index = faiss.IndexFlatL2(len(embeddings.embed_query(\"hello world\")))\n",
    "\n",
    "# vectorstore = FAISS(\n",
    "#     embedding_function=embeddings,\n",
    "#     index=index,\n",
    "#     docstore=InMemoryDocstore(),\n",
    "#     index_to_docstore_id={},\n",
    "# )"
   ]
  },
  {
   "cell_type": "code",
   "execution_count": 115,
   "metadata": {},
   "outputs": [],
   "source": [
    "vector_store = FAISS.load_local(\n",
    "    \"data/debug_vectorstore\", embeddings, allow_dangerous_deserialization=True\n",
    ")"
   ]
  },
  {
   "cell_type": "code",
   "execution_count": 47,
   "metadata": {},
   "outputs": [],
   "source": [
    "# # from uuid import uuid4\n",
    "\n",
    "# from langchain_core.documents import Document\n",
    "\n",
    "# document_1 = Document(\n",
    "#     page_content=\"I had chocalate chip pancakes and scrambled eggs for breakfast this morning.\",\n",
    "#     metadata={\"source\": \"tweet\", \"options\": [\"pancakes\", \"eggs\"]},\n",
    "# )\n",
    "\n",
    "# document_2 = Document(\n",
    "#     page_content=\"The weather forecast for tomorrow is cloudy and overcast, with a high of 62 degrees.\",\n",
    "#     metadata={\"source\": \"news\", \"options\": [\"weather\", \"forecast\"]},\n",
    "# )\n",
    "\n",
    "# document_3 = Document(\n",
    "#     page_content=\"Building an exciting new project with LangChain - come check it out!\",\n",
    "#     metadata={\"source\": \"tweet\", \"options\": [\"LangChain\", \"project\"]},\n",
    "# )\n",
    "\n",
    "# documents = [\n",
    "#     document_1,\n",
    "#     document_2,\n",
    "#     document_3,\n",
    "# ]\n",
    "# uuids = [str(uuid4()) for _ in range(len(documents))]\n",
    "\n",
    "# vector_store = FAISS.from_documents(documents=documents, embedding=embeddings)\n",
    "# vector_store.save_local(folder_path=\"data/debug_vectorstore\")"
   ]
  },
  {
   "cell_type": "code",
   "execution_count": 118,
   "metadata": {},
   "outputs": [],
   "source": []
  },
  {
   "cell_type": "code",
   "execution_count": 128,
   "metadata": {},
   "outputs": [
    {
     "data": {
      "text/plain": [
       "[Document(id='d3a548ca-8f7d-44b3-9415-5801267b4c29', metadata={'header_1': 'Menu', 'header_2': 'Sinfonia Quantistica delle Stelle', 'source': 'Sapore del Dune.pdf', 'chef_name': 'Alessandra Quanti', 'restaurant_name': 'sapore del dune', 'planet_name': 'Tatooine', 'licences': ['Psionica II', 'Temporale I', 'Gravitazionale I', 'Quantistica 13', 'Luce II']}, page_content='### Ingredienti  \\nShard di Prisma Stellare\\nLattuga Namecciana\\nRadici di Singolarità  \\n-----  \\nFibra di Sintetex\\nCarne di Balena spaziale\\nTeste di Idra\\nNettare di Sirena\\nSale Temporale  \\n### Tecniche  \\nMarinatura Temporale Sincronizzata\\nCottura Sottovuoto Frugale Energeticamente Negativa\\nCottura a Vapore Termocinetica Multipla\\nCottura a Vapore Ecodinamico Bilanciato'),\n",
       " Document(id='ab6e7fcf-2278-403f-b45c-cc4a0f701a8e', metadata={'header_1': 'Menu', 'header_2': \"Sinfonia Quantistica dell'Universo\", 'source': 'Sapore del Dune.pdf', 'chef_name': 'Alessandra Quanti', 'restaurant_name': 'sapore del dune', 'planet_name': 'Tatooine', 'licences': ['Psionica II', 'Temporale I', 'Gravitazionale I', 'Quantistica 13', 'Luce II']}, page_content='### Ingredienti  \\nShard di Prisma Stellare\\nFoglie di Nebulosa\\nLattuga Namecciana\\nTeste di Idra\\nCarne di Mucca\\nFarina di Nettuno\\nRiso di Cassandra\\nFusilli del Vento\\nNduja Fritta Tanto  \\n### Tecniche  \\nCottura Sottovuoto Frugale Energeticamente Negativa\\nCottura a Vapore Termocinetica Multipla\\nMarinatura Temporale Sincronizzata'),\n",
       " Document(id='5e31dfde-55e4-4a61-af66-13e55b06d16d', metadata={'header_1': 'Menu', 'header_2': 'Pioggia di Dimensioni Galattiche', 'source': 'Sapore del Dune.pdf', 'chef_name': 'Alessandra Quanti', 'restaurant_name': 'sapore del dune', 'planet_name': 'Tatooine', 'licences': ['Psionica II', 'Temporale I', 'Gravitazionale I', 'Quantistica 13', 'Luce II']}, page_content='### Ingredienti  \\nShard di Prisma Stellare\\nLattuga Namecciana\\nBiscotti della Galassia\\nPane degli Abissi\\nNettare di Sirena\\nEssenza di Vuoto  \\n### Tecniche  \\nBollitura Termografica a Rotazione Veloce\\nAffumicatura a Stratificazione Quantica\\nFermentazione Quantico Biometrica')]"
      ]
     },
     "execution_count": 128,
     "metadata": {},
     "output_type": "execute_result"
    }
   ],
   "source": [
    "vector_store.similarity_search(\n",
    "    \"dcsvfssadsvfsssdaer\",\n",
    "    k=3,\n",
    "    filter=lambda x: x.get(\"chef_name\", \"\") == \"Alessandra Quanti\",\n",
    ")"
   ]
  },
  {
   "cell_type": "code",
   "execution_count": 171,
   "metadata": {},
   "outputs": [
    {
     "data": {
      "text/plain": [
       "[Document(id='d3a548ca-8f7d-44b3-9415-5801267b4c29', metadata={'header_1': 'Menu', 'header_2': 'Sinfonia Quantistica delle Stelle', 'source': 'Sapore del Dune.pdf', 'chef_name': 'Alessandra Quanti', 'restaurant_name': 'sapore del dune', 'planet_name': 'Tatooine', 'licences': ['Psionica II', 'Temporale I', 'Gravitazionale I', 'Quantistica 13', 'Luce II']}, page_content='### Ingredienti  \\nShard di Prisma Stellare\\nLattuga Namecciana\\nRadici di Singolarità  \\n-----  \\nFibra di Sintetex\\nCarne di Balena spaziale\\nTeste di Idra\\nNettare di Sirena\\nSale Temporale  \\n### Tecniche  \\nMarinatura Temporale Sincronizzata\\nCottura Sottovuoto Frugale Energeticamente Negativa\\nCottura a Vapore Termocinetica Multipla\\nCottura a Vapore Ecodinamico Bilanciato'),\n",
       " Document(id='2ba8bbbf-ae68-41f2-ac1f-a4dd518019ad', metadata={'header_1': 'Menu', 'header_2': 'Evanescenza Quantica', 'source': 'Sapore del Dune.pdf', 'chef_name': 'Alessandra Quanti', 'restaurant_name': 'sapore del dune', 'planet_name': 'Tatooine', 'licences': ['Psionica II', 'Temporale I', 'Gravitazionale I', 'Quantistica 13', 'Luce II']}, page_content='### Ingredienti  \\nCristalli di Memoria\\nRadici di Singolarità\\nLattuga Namecciana\\nBaccacedro\\nGranuli di Nebbia Arcobaleno\\nPlasma Vitale\\nPetali di Eco  \\n### Tecniche  \\nCottura Sottovuoto Frugale Energeticamente Negativa\\nGrigliatura Eletro-Molecolare a Spaziatura Variabile\\nBollitura Termografica a Rotazione Veloce\\nAffumicatura a Stratificazione Quantica\\nSaltare in Padella Classica  \\n-----'),\n",
       " Document(id='cc5e86db-2484-4aa1-b547-63b2c6b128df', metadata={'header_1': 'Ristorante \"Sapore del Dune\"', 'source': 'Sapore del Dune.pdf', 'chef_name': 'Alessandra Quanti', 'restaurant_name': 'sapore del dune', 'planet_name': 'Tatooine', 'licences': ['Psionica II', 'Temporale I', 'Gravitazionale I', 'Quantistica 13', 'Luce II']}, page_content='Chef Alessandra Quanti  \\nNel cuore arido di Tatooine, dove i mondi si mescolano e le stelle guidano i viaggiatori intergalattici, Chef\\nAlessandra Quanti porta una rivoluzione culinaria che sfida le distanze siderali. Non è raro vedere i\\ncommensali rimanere incantati osservando i suoi piatti che sembrano danzare tra le dune e le stelle, frutto\\ndella sua straordinaria padronanza degli stati quantici, che le permette di esplorare e materializzare le infinite\\npossibilità nascoste in ogni ingrediente rarefatto del deserto.  \\nLa sua storia ebbe inizio nei laboratori di spezie di Mos Eisley, dove la passione per la gastronomia\\nmolecolare si fuse con la sua profonda comprensione dell\\'universo subatomico. Fu proprio durante un\\nesperimento particolarmente intenso con i Cristalli Kyber che scoprì la sua innata capacità di percepire le\\nprobabilità culinarie, un dono che trasformò ogni sua creazione in un\\'esperienza di perfezione matematica\\nanche tra le tempeste di sabbia.  \\nLe sue presentazioni sono vere opere d\\'arte viventi, dove la luce danza e si trasforma, creando atmosfere\\nche portano gli ospiti in un viaggio tra le galassie. I commensali più attenti potrebbero notare come alcuni\\nelementi dei suoi piatti sembrino sfidare gentilmente la gravità, un\\'abilità raffinata durante il suo periodo\\ncome chef a bordo di uno Star Destroyer, dove la cucina assumeva significati completamente nuovi.  \\nUn giorno, un peculiare incidente con un forno quantico di sua invenzione le donò una comprensione unica\\ndel tempo culinario. Questo \"fortunato incidente\", come ama definirlo, le permise di perfezionare l\\'arte della\\ncottura a livelli inimmaginabili, orchestrando ogni secondo in una danza perfetta di temperature, anche nei\\nclimi più extraterritoriali.  \\nAl Sapore del Dune, ogni serata è un viaggio attraverso le infinite possibilità del gusto. Chef Quanti non si\\nlimita a cucinare: plasma la realtà stessa del cibo, trasformando ogni pasto in un\\'esperienza che trascende i\\nconfini tradizionali della gastronomia. Come ama ricordare ai suoi ospiti: \"In cucina, come nell\\'universo, tutto\\nè possibile. Dobbiamo solo saper osservare tutte le possibilità simultaneamente, per poi scegliere la più\\nstraordinaria.\"  \\nLe skill certificate dello Chef sono:  \\nPsionica II\\nTemporale I\\nGravitazionale I\\nQuantistica 13\\nLuce II  \\nIl ristorante possiede una tecnologia LTK II'),\n",
       " Document(id='5e31dfde-55e4-4a61-af66-13e55b06d16d', metadata={'header_1': 'Menu', 'header_2': 'Pioggia di Dimensioni Galattiche', 'source': 'Sapore del Dune.pdf', 'chef_name': 'Alessandra Quanti', 'restaurant_name': 'sapore del dune', 'planet_name': 'Tatooine', 'licences': ['Psionica II', 'Temporale I', 'Gravitazionale I', 'Quantistica 13', 'Luce II']}, page_content='### Ingredienti  \\nShard di Prisma Stellare\\nLattuga Namecciana\\nBiscotti della Galassia\\nPane degli Abissi\\nNettare di Sirena\\nEssenza di Vuoto  \\n### Tecniche  \\nBollitura Termografica a Rotazione Veloce\\nAffumicatura a Stratificazione Quantica\\nFermentazione Quantico Biometrica'),\n",
       " Document(id='a1d538b2-a9c7-407f-b319-f4016fa2433e', metadata={'header_1': 'Menu', 'header_2': 'Sinfonia Temporale delle Profondità Infrasoniche', 'source': 'Sapore del Dune.pdf', 'chef_name': 'Alessandra Quanti', 'restaurant_name': 'sapore del dune', 'planet_name': 'Tatooine', 'licences': ['Psionica II', 'Temporale I', 'Gravitazionale I', 'Quantistica 13', 'Luce II']}, page_content='### Ingredienti  \\nPolvere di Crononite\\nCarne di Kraken\\nCarne di Balena spaziale\\nFunghi Orbitali\\nSale Temporale  \\n### Tecniche  \\nSaltare in Padella Classica\\nBollitura Infrasonica Armonizzata\\nCottura Sottovuoto Frugale Energeticamente Negativa')]"
      ]
     },
     "execution_count": 171,
     "metadata": {},
     "output_type": "execute_result"
    }
   ],
   "source": [
    "# Alternative: If you want exact array match\n",
    "\n",
    "retriever = vector_store.as_retriever(search_type=\"similarity\", search_kwargs={\"k\": 5, \"fetch_k\": vector_store.index.ntotal})\n",
    "\n",
    "retriever.invoke(\n",
    "    \"Radici di Singolaavfavsavfdfdafrità\",\n",
    "    filter=lambda x: \"Alessandra Quanti\" in x.get(\"chef_name\", \"\"),\n",
    ")"
   ]
  },
  {
   "cell_type": "code",
   "execution_count": 46,
   "metadata": {},
   "outputs": [],
   "source": [
    "query_ex = \"Quali piatti del ristorante Cosmica Essenza sono preparati utilizzando i Funghi dell’Etere o la tecnica di Marinatura Temporale Sincronizzata?\""
   ]
  },
  {
   "cell_type": "code",
   "execution_count": 117,
   "metadata": {},
   "outputs": [
    {
     "data": {
      "text/plain": [
       "[(Document(id='cbf6fc24-db1e-4521-8e18-35d4185403da', metadata={'header_1': 'Capitolo 3: Tecniche di Preparazione', 'header_2': 'Tecniche di Impasto', 'header_3': 'Impasto Gravitazionale Vorticoso', 'source': 'Manuale di cucina.pdf', 'source_of_truth': True}, page_content=\"Come funziona: utilizza campi gravitazionali artificialmente generati per creare vortici che mescolano gli  \\ningredienti in modo uniforme, sfruttando la rotazione a spirale per incorporare facilmente aria e umidità.  \\nVantaggi: raggiunge una consistenza perfetta e omogenea senza il rischio di sovraccarico meccanico;  \\nideale per impasti leggeri come soufflé e torte.  \\nSvantaggi: richiede un’accurata regolazione delle forze gravitazionali per evitare eruzioni improvvise di  \\nmateriale nell'ambiente di lavoro.  \\n-----  \\nCome funziona: manipola direttamente le catene molecolari degli ingredienti attraverso catalizzatori  \\nsintetici, promuovendo la coesione spontanea e naturale dell'impasto.  \\nVantaggi: garantisce una perfetta fusione dei sapori e delle texture, permettendo esperimenti creativi  \\ncon nuovi tipi di farine e composti proteici.  \\nSvantaggi: esige la comprensione delle interazioni chimiche intricate; gli errori possono alterare  \\nirreversibilmente il gusto finale.\"),\n",
       "  0.99999976),\n",
       " (Document(id='12c5346a-ff46-40ac-ad2a-1c71377f5ab8', metadata={'header_1': 'Menu', 'header_2': 'Galassia di Fusilli Sferici alla Risonanza Crononica', 'source': 'Il Firmamento.pdf', 'chef_name': 'Maestro Alessio \"Eterno\" Stellaris', 'restaurant_name': 'il firmamento', 'planet_name': 'Ego', 'licences': ['Psionica IV', 'Temporale II', 'Luce II', 'Quantistica II', 'Gravità I', 'Magnetismo I', 'Antimateria I']}, page_content=\"Un'esperienza gastronomica che sfida le leggi del tempo e della spazio, la Galassia di Fusilli Sferici alla\\nRisonanza Crononica è una celebrazione del cosmo servita in un piatto. I nostri Fusilli del Vento, intrisi della\\nvibrante essenza sonora tramite la Bollitura Infrasonica Armonizzata, sono raccolti nel cuore di un composto\\ncremoso di Nettare di Sirena, che avvolge la pasta in un abbraccio di freschezza oceanica e note\\nrigenerative.  \\nAl centro del piatto, siede un raffinato duetto proteico di Carne di Kraken e Balena Spaziale, reso sublime\\ndall'immersione in Salsa Szechuan, che aggiunge un tocco speziato e dolce che stimola i sensi in una danza\\ninterdimensionale. A completare questa sinfonia cosmica, la farina delicatamente blu della Farina di Nettuno  \\n-----  \\nviene impiegata per creare delicate sfoglie a spirale tramite la tecnica dell’Impasto a Campi Magnetici\\nDualistici, donando un tocco di croccantezza e una profonda nota marina ai crostini che accompagnano il\\npiatto.  \\nPolvere di Crononite viene delicatamente soffiata sopra il tutto, rallentando il metabolismo del commensale\\nper permettere un viaggio gustativo prolungato tra i sapori dispiegati. Infine, un accenno di Fibra di Sintetex\\naggiunge una intrigante struttura e morbidezza, elevando l’esperienza a un livello multisensoriale.  \\nQuesta creazione unica, esaltata da atmosfere plasmate dalla Luce II, è pensata per farti viaggiare tra ricordi\\ne emozioni, mentre ti siedi al tavolo del nostro ristorante e contempli l'infinito.  \\nIl nostro chef Alessio, ha deciso di modificare la ricetta tradizionale, evitando la classica marinatura, per\\nesaltare il vero sapore degli ingredienti.\"),\n",
       "  0.99999976),\n",
       " (Document(id='5e8d946a-f038-4dc4-a219-a63c3f2fffb5', metadata={'header_1': 'p', 'header_2': 'Sottovuoto', 'header_3': 'Cottura Sottovuoto Bioma Sintetico', 'source': 'Manuale di cucina.pdf', 'source_of_truth': True}, page_content=\"Come funziona: crea un ecosistema artificiale autoregolante all'interno della camera di cottura, in cui  \\nmicro-organismi ingegnerizzati interagiscono con l'ambiente sottovuoto per ottimizzare il trasferimento  \\ndi calore e umidità.  \\nVantaggi: offre un controllo senza precedenti sulle condizioni di cottura, adattandosi automaticamente  \\nalle caratteristiche specifiche di ogni ingrediente; perfetto per piatti fermentati o marinati sottovuoto.  \\nSvantaggi: necessita di gestione tecnica sofisticata per bilanciare l'ecosistema sintetico, prevenendo  \\nsquilibri biologici che potrebbero compromettere il sapore e la sicurezza alimentare.\"),\n",
       "  0.9999998),\n",
       " (Document(id='dcaa78c3-9663-4436-a3b1-7adf15334e0b', metadata={'header_1': 'Menu', 'header_2': 'Cosmic Rhapsody', 'source': 'L Architetto dell Universo.pdf', 'chef_name': 'Alessandra Tempesti', 'restaurant_name': 'l architetto dell universo', 'planet_name': 'Klyntar', 'licences': ['LTK V', 'Temporale III', 'Luce II', 'Gravitazionale I']}, page_content='Un viaggio culinario che attraversa il tessuto stesso del tempo e dello spazio, \"Cosmic Rhapsody\" intreccia\\nla materia delle stelle con i sapori terrestri più leggendari. Al centro del piatto, la tenerezza speziata della\\n**Carne di Drago incontra la salinità unica della Carne di Kraken, cotte mediante una meticolosa Cottura a**\\nVapore Termocinetica Multipla. Questo processo innovativo garantisce una fusione armoniosa delle loro\\nessenze, penetrando dal cuore alla superficie con vortici di calore perfettamente bilanciati.  \\nSospese su questa base sontuosa, delicate sfoglie trattate con l\\'Affettamento a Pulsazioni Quantistiche\\nrivelano la sottile complessità dei Funghi dell’Etere, offrendo un tocco legnoso che si fonde abilmente con\\nle carni. Un delicato velo di Amido di Stellarion funge da legante, avvolgendo gli ingredienti in un abbraccio\\netereo che non ne compromette la struttura interna.  \\nA completare quest\\'opera, spolverate leggere di Polvere di Pulsar decorano il piatto, infondendo un brio\\nfrizzante che risveglia i sensi e dona una carica energetica istantanea. Raggi di luce calibrati danzano tra gli\\ningredienti, risvegliando colori e profumi che fluttuano nell\\'aria, trasformando ogni boccone in un’esperienza\\nmultisensoriale.  \\n**Cosmic Rhapsody è più di un pasto: è una sinfonia di sapori celesti che invita a esplorare l\\'universo, un**\\nincontro straordinario tra il mitologico e il cosmico orchestrato per deliziare e nutrire l\\'anima.  \\n-----'),\n",
       "  0.9999998),\n",
       " (Document(id='461db6aa-e3e2-4aef-8ec7-41ecdfa5cab2', metadata={'header_1': 'Menu', 'header_2': 'Panetto di Carne', 'source': 'Universo Gastronomico di Namecc.pdf', 'chef_name': 'Alice Quantum-Rossi', 'restaurant_name': 'universo gastronomico di namecc', 'planet_name': 'Namecc', 'licences': ['Quantistica 15', 'Psionica II', 'Temporale I', 'Gravitazionale I', 'Magnetica I', 'Luce I']}, page_content='Un\\'esplorazione cosmica che promette di espandere la vostra percezione del gusto: il \"Risotto dei Multiversi\"\\nvi invita a un viaggio culinario senza precedenti. La base di questa esperienza è un risotto preparato con\\n**Farina di Nettuno, che infonde una delicata sfumatura blu oceano, suggellando il piatto con gli echi delle**\\nonde marine.  \\nCiascun chicco è avvolto in una sinfonia terrosa di Funghi Orbitali, che crescono nei luoghi più remoti e\\ncelesti, mentre le stelle guidano l\\'essenza di Pane di Luce, sapientemente spezzettato per condensare la\\nluminosità in ogni morso. Come protagonista della scena, pezzi delicati di Carne di Kraken e Xenodonte\\ndanzano nei flussi temporali del piatto, unificati da una Affumicatura Temporale Risonante che intensifica\\nlo spettro dei sapori con un fumo cronico che condensa ere di sviluppo al palato.  \\nIn un tocco finale di maestria, microsfere create attraverso la Sferificazione Filamentare a Molecole\\n**Vibrazionali liberano al loro scoppio cristalli di Sale Temporale e pulviscolo di Cristalli di Nebulite, che**\\nrisplendono con un aroma nostalgico e luminoso. A racchiudere il tutto, finissimi trucioli di Pane degli Abissi\\npoggiano sul risotto come isole sospese, permeate da un profondo affumicato ottenuto tramite\\nl\\'Affumicatura Polarizzata a Freddo Iperbarico.  \\nOgni boccone è una convergenza di tempo e spazio dove il presente, il passato e il futuro coesistono,\\noffrendo un viaggio sensoriale che trascende i limiti della cucina tradizionale. \"Entropia di Sapore\" non è solo\\nun piatto, ma un dialogo con l\\'anima dell\\'universo stesso. Benvenuti nell\\'infinito.'),\n",
       "  0.9999998),\n",
       " (Document(id='ead439da-01ef-4620-afc4-db1d37b84764', metadata={'header_1': 'Ristorante \"L\\'Eco di Pandora\"', 'source': 'Eco di Pandora.pdf', 'chef_name': 'Alessandra Novastella', 'restaurant_name': 'eco di pandora', 'planet_name': 'Pandora', 'licences': ['Psionica III', 'Temporale I', 'Gravitazionale I', 'Antimateria I', 'Magnetica I', 'Quantistica 3', 'Luce I', 'Gradi di influenza di livello tecnologico VI']}, page_content=\"Chef Alessandra Novastella  \\nNel cuore pulsante di Pandora, dove la natura e le meraviglie ipnotiche del pianeta si fondono, si erge L'Eco\\ndi Pandora. Qui, la Chef Alessandra Novastella guida i suoi ospiti in un viaggio gastronomico che abbraccia\\nl'essenza vibrante di questo mondo unico, intrecciando sapori e racconti attraverso il tessuto stesso\\ndell'universo di Pandora.  \\nLa sua cucina oltrepassa i confini tradizionali, donando a ogni piatto un'anima vivente e un richiamo a mondi\\nlontani e dimenticati. Grazie alla sua straordinaria padronanza psionica, ogni boccone evoca ricordi e visioni\\ndi spazi inesplorati: il richiamo delle foreste luminose, l'abbraccio caldo dei venti pandoriani, la gioia di\\nantiche celebrazioni sotto cieli di galassie sconosciute.  \\nI suoi squisiti piatti fluiscono tra stati quantici multipli, sfidando le leggi della natura stessa. Il famoso dessert\\ndella Chef esiste simultaneamente in forma solida e liquida, mentre le sue zuppe trasmutano tra diversi stati\\ndi consistenza, tessendo una sinfonia impossibile di sapori. Con la sua abilità nel manipolare il flusso\\ntemporale, cattura ogni ingrediente al suo picco di bellezza, e gioca con la gravità per creare presentazioni\\nche sfidano ogni aspettativa.  \\nIn questo teatro di sapori cosmici, l'antimateria si intreccia con tradizioni antiche, dando vita a piatti che\\ndanzano in un tripudio di colori e forme. Nella sua cucina, gli utensili rispondono al suo controllo magnetico\\ncome in una sinfonia silenziosa, mentre modella la luce per esaltare ognuna delle sue creazioni culinarie.  \\nOltre la tecnica impeccabile e le abilità che appaiono come magia, il vero incanto della Chef Novastella\\nrisiede nella sua capacità di unire le infinite trame della realtà di Pandora in un'unica, straordinaria\\nesperienza gastronomica. Ogni pasto nel suo ristorante è un'avventura sensoriale nell'universo pandoriano,\\nun intreccio di ciò che è stato, ciò che potrebbe essere, e ciò che rimarrà nei sogni più profondi.  \\nSi certifica che questo ristorante ha raggiunto le seguenti licenze:  \\n**Skill** **Livello**  \\nPsionica III  \\nTemporale I  \\nGravitazionale I  \\nAntimateria I  \\nMagnetica I  \\nQuantistica 3  \\nLuce I  \\nGradi di influenza di livello tecnologico VI\"),\n",
       "  0.9999998),\n",
       " (Document(id='a9c985a2-cfef-463d-8c6a-a2d4ca086f5b', metadata={'header_1': 'Menu', 'header_2': 'Sinfonia Cosmica di Terracotta', 'source': 'Eco di Pandora.pdf', 'chef_name': 'Alessandra Novastella', 'restaurant_name': 'eco di pandora', 'planet_name': 'Pandora', 'licences': ['Psionica III', 'Temporale I', 'Gravitazionale I', 'Antimateria I', 'Magnetica I', 'Quantistica 3', 'Luce I', 'Gradi di influenza di livello tecnologico VI']}, page_content=\"Inizia il tuo viaggio culinario con la nostra Sinfonia Cosmica di Terracotta, un piatto che viaggia attraverso i\\nconfini del tempo e dello spazio, orchestrato dalla maestria della Chef Alessandra Novastella. Al centro del\\npiatto risplende una sfera di Plasma Vitale, sferificata attraverso l'intricata tecnica della Sferificazione\\nFilamentare a Molecole Vibrazionali, che promette un'esplosione di sapori e nutrienti essenziali con ogni\\nboccone.  \\nAdagiati accanto alla sfera, si presentano i filamenti danzanti di Radici di Gravità, amalgamati con Polvere di\\nCrononite attraverso la tecnica dell'Amalgamazione Sintetica Molecolare, in una fusione perfetta di sapori\\nterrosi e una consistenza delicata che induce uno stato di tranquillità. Questi elementi sono incisi con\\nprecisione grazie alla tecnica dell'Incisione Elettromagnetica Plasmica, rivelando intricati motivi che esaltano\\nl'eleganza del piatto.  \\nUn soufflé soave, realizzato con Foglie di Mandragora e delicatamente combinato con Sale Temporale,\\nviene preparato grazie all'Impasto Gravitazionale Vorticoso, risultando in una nuvola ariosa e nostalgica,\\ncapace di trasportarti a memorie non ancora vissute.  \\nPresentato su un letto luminoso di lucentezza vibrante, ogni elemento del piatto racconta una storia antica e\\nunisce l'antimateria con antiche tradizioni, offrendo un'armoniosa danza di luci che conclude la tua\\nesperienza sensoriale.  \\n-----  \\nQuesta creazione non è solo un pasto; è un portale verso mondi perduti e futuri intramontabili. Siete invitati a\\nscoprire ciò che è stato, ciò che potrebbe essere, e ciò che non sarà mai più, il tutto attraverso l'incontro di\\nsapori e aromi inconcepibili al di là del nostro tempo lineare.  \\n### Ingredienti  \\nPolvere di Crononite\\nRadici di Gravità\\nFoglie di Mandragora\\nPlasma Vitale\\nSale Temporale  \\n### Techniques  \\nAmalgamazione Sintetica Molecolare\\nIncisione Elettromagnetica Plasmica\\nSferificazione Filamentare a Molecole Vibrazionali\\nImpasto Gravitazionale Vorticoso\"),\n",
       "  0.9999998),\n",
       " (Document(id='facdfa47-1fba-4e33-ba8f-c9f7ccc0dada', metadata={'header_1': 'Menu', 'header_2': 'Sinfonia Cosmica ma Fatta Male', 'source': 'Anima Cosmica.pdf', 'chef_name': 'Aurora Stellaris', 'restaurant_name': 'anima cosmica', 'planet_name': 'Pandora', 'licences': ['Psionica III', 'Temporale I', 'Gravitazionale I', 'Antimateria I', 'Quantistica 16', 'Luce II']}, page_content='Preparati a un viaggio sensoriale attraverso le galassie con la nostra \"Sinfonia Cosmica ma Fatta Male\", un\\npiatto che fonde armoniosamente scienza ed arte culinaria. Il piatto si apre su un letto di Granuli di Nebbia\\nArcobaleno, le cui perle colorate emergono come nebulose in miniatura, riflettendo sfumature che catturano\\nla luce e incantano lo sguardo.  \\nAl centro, una sfera di Funghi dell’Etere avvolti in un manto cremoso di purea di Radici di Singolarità, si\\nstaglia maestosa come un pianeta fluttuante. L\\'affumicatura a Stratificazione Quantica aggiunge una\\nprofondità aromatica unica, con il sapore delicatamente affumicato che aleggia dall\\'interno di questa\\ncreazione cosmica.  \\n-----  \\nAd accompagnare, avvolgente nel suo abbraccio di clorofilla radiante, la Lattuga Namecciana si fonde con\\ngocce traslucide di riduzione di Baccacedro, i cui sentori curativi e vivificanti rinvigoriscono l\\'anima. Spruzzi\\ndi Polvere di Pulsar coronano il tutto, donando al piatto una carica di energia frizzante che risveglia i sensi.  \\nA completamento di questa esplorazione galattica, un\\'essenza di Erba Pipa trasportata dalla Cottura a Forno\\nDinamico Inversionale avvolge il piatto, infondendo aromi rilassanti che persistono nel palato come una\\ndolce melodia perduta nello spazio infinito. Questo capolavoro multisensoriale promette di trasportarti in\\nun\\'odissea gustativa attraverso le stelle, intrecciando sapori e tecniche che sfidano le leggi dell\\'universo\\nconosciuto.  \\n### Ingredienti  \\nPolvere di Pulsar\\nRadici di Singolarità\\nLattuga Namecciana\\nBaccacedro\\nGranuli di Nebbia Arcobaleno\\nFunghi dell’Etere\\nErba Pipa  \\n### Tecniche  \\nAffumicatura a Stratificazione Quantica\\nCottura a Forno Dinamico Inversionale'),\n",
       "  0.9999998),\n",
       " (Document(id='552bc7ca-6871-4b60-9247-ac735ff517a7', metadata={'header': 'Introduction', 'source': 'Codice Galattico.pdf', 'source_of_truth': True}, page_content=\"Gazzetta u(iciale del Consiglio Intergalattico\\n\\n789/12773\\n\\nDECRETO SUPREMO 789/12773 DEL GRAN CONSIGLIO\\n\\ndel 67° Giorno del Ciclo Cosmico 789\\n\\nsulla regolamentazione della sicurezza alimentare intergalattica\\n\\nIL GRAN CONSIGLIO DELLA FEDERAZIONE INTERGALATTICA,\\n\\nNel rispetto delle diverse credenze e tradizioni alimentari,\\n\\nViste le necessità ﬁsiologiche di tutte le specie senzienti e non senzienti come deﬁnite\\ndal regolamento 675/12,\\n\\nCon particolare attenzione agli individui iscritti ai gruppi:\\n\\n(1) I membri dell’Ordine della Galassia di Andromeda, deﬁniti nella sezione 1.1\\n\\n(2) I membri dell’Ordine dei Naturalisti, le cui rigide prescrizioni alimentari vengono\\ndiscusse nella sezione 1.2\\n\\n(3) Gli individui all’Ordine degli Armonisti, la cui ﬁlosoﬁa è meglio indicata nella sezione\\n1.3\\n\\nSTABILISCE IL PRESENTE CODICE COME FONDAMENTO NORMATIVO PER L'ESERCIZIO\\nDELLE ATTIVITÀ DI RISTORAZIONE NEL TERRITORIO DELLA FEDERAZIONE.\\n\\n\\x0c789/12773\\n\\n   67° Giorno del Ciclo Cosmico 789\"),\n",
       "  0.9999999),\n",
       " (Document(id='9f063c2e-ab5f-4067-9370-c13dbd7c1d6b', metadata={'header': '1 Deﬁnizioni e ambiti', 'source': 'Codice Galattico.pdf', 'source_of_truth': True}, page_content='1.1 Ordine della Galassia di Andromeda\\n\\nGli chef iscritti e operanti nel suddetto Ordine della Galassia di Andromeda sono tenuti\\na considerare e gestire una peculiare caratteristica ﬁsiologica della propria utenza: tutti\\ngli abitanti di Andromeda manifestano infatti intolleranza al lattosio, ovvero intolleranza\\na qualsiasi forma nutritiva originaria della Via Lattea.\\n\\n1.2 Ordine dei Naturalisti\\n\\nL\\'Ordine dei Naturalisti venera la purezza originaria del cibo. Il loro credo si basa su un\\nprincipio semplice: ogni ingrediente ha una sua perfezione innata che deve essere\\npreservata.\\n\\nLa regola fondamentale è il \"Principio di Non Alterazione\": un ingrediente può essere\\nmodiﬁcato solo ﬁno al punto in cui mantiene ancora riconoscibile la sua essenza\\noriginaria.\\n\\n1.3 Ordine degli Armonisti\\n\\nGli chef iscritti all\\'Ordine degli Armonisti sono dotati di una rara sensibilità che permette\\nloro di preparare piatti in grado di entrare in sintonia con le frequenze emotive dei loro\\nospiti. La loro ﬁlosoﬁa si basa sul principio che il cibo non nutre solo il corpo, ma deve\\nentrare in risonanza con lo stato emotivo di chi lo consuma.'),\n",
       "  0.9999999)]"
      ]
     },
     "execution_count": 117,
     "metadata": {},
     "output_type": "execute_result"
    }
   ],
   "source": [
    "import numpy as np\n",
    "\n",
    "\n",
    "embedding_dim = vector_store.index.d\n",
    "dummy_vector = np.zeros(embedding_dim)\n",
    "\n",
    "# Retrieve all documents by setting k to the total number of documents\n",
    "docs_and_scores = vector_store.similarity_search_with_score_by_vector(\n",
    "    dummy_vector, k=vector_store.index.ntotal\n",
    ")\n",
    "\n",
    "docs_and_scores[:10]"
   ]
  },
  {
   "cell_type": "code",
   "execution_count": 43,
   "metadata": {},
   "outputs": [
    {
     "data": {
      "text/plain": [
       "[]"
      ]
     },
     "execution_count": 43,
     "metadata": {},
     "output_type": "execute_result"
    }
   ],
   "source": []
  },
  {
   "cell_type": "code",
   "execution_count": 36,
   "metadata": {},
   "outputs": [],
   "source": [
    "import chromadb\n",
    "chroma_client = chromadb.Client()"
   ]
  },
  {
   "cell_type": "code",
   "execution_count": 37,
   "metadata": {},
   "outputs": [],
   "source": [
    "collection = chroma_client.create_collection(name=\"my_collection\")"
   ]
  },
  {
   "cell_type": "code",
   "execution_count": 46,
   "metadata": {},
   "outputs": [
    {
     "ename": "ValueError",
     "evalue": "Expected metadata value to be a str, int, float or bool, got ['pineapple'] which is a list in add.",
     "output_type": "error",
     "traceback": [
      "\u001b[1;31m---------------------------------------------------------------------------\u001b[0m",
      "\u001b[1;31mValueError\u001b[0m                                Traceback (most recent call last)",
      "File \u001b[1;32mc:\\Users\\GiovanniGiacometti\\Desktop\\hackathon\\.venv\\Lib\\site-packages\\chromadb\\api\\models\\CollectionCommon.py:90\u001b[0m, in \u001b[0;36mvalidation_context.<locals>.decorator.<locals>.wrapper\u001b[1;34m(self, *args, **kwargs)\u001b[0m\n\u001b[0;32m     89\u001b[0m \u001b[38;5;28;01mtry\u001b[39;00m:\n\u001b[1;32m---> 90\u001b[0m     \u001b[38;5;28;01mreturn\u001b[39;00m \u001b[43mfunc\u001b[49m\u001b[43m(\u001b[49m\u001b[38;5;28;43mself\u001b[39;49m\u001b[43m,\u001b[49m\u001b[43m \u001b[49m\u001b[38;5;241;43m*\u001b[39;49m\u001b[43margs\u001b[49m\u001b[43m,\u001b[49m\u001b[43m \u001b[49m\u001b[38;5;241;43m*\u001b[39;49m\u001b[38;5;241;43m*\u001b[39;49m\u001b[43mkwargs\u001b[49m\u001b[43m)\u001b[49m\n\u001b[0;32m     91\u001b[0m \u001b[38;5;28;01mexcept\u001b[39;00m \u001b[38;5;167;01mException\u001b[39;00m \u001b[38;5;28;01mas\u001b[39;00m e:\n",
      "File \u001b[1;32mc:\\Users\\GiovanniGiacometti\\Desktop\\hackathon\\.venv\\Lib\\site-packages\\chromadb\\api\\models\\CollectionCommon.py:207\u001b[0m, in \u001b[0;36mCollectionCommon._validate_and_prepare_add_request\u001b[1;34m(self, ids, embeddings, metadatas, documents, images, uris)\u001b[0m\n\u001b[0;32m    206\u001b[0m \u001b[38;5;66;03m# Validate\u001b[39;00m\n\u001b[1;32m--> 207\u001b[0m \u001b[43mvalidate_insert_record_set\u001b[49m\u001b[43m(\u001b[49m\u001b[43mrecord_set\u001b[49m\u001b[38;5;241;43m=\u001b[39;49m\u001b[43madd_records\u001b[49m\u001b[43m)\u001b[49m\n\u001b[0;32m    208\u001b[0m validate_record_set_contains_any(record_set\u001b[38;5;241m=\u001b[39madd_records, contains_any\u001b[38;5;241m=\u001b[39m{\u001b[38;5;124m\"\u001b[39m\u001b[38;5;124mids\u001b[39m\u001b[38;5;124m\"\u001b[39m})\n",
      "File \u001b[1;32mc:\\Users\\GiovanniGiacometti\\Desktop\\hackathon\\.venv\\Lib\\site-packages\\chromadb\\api\\types.py:224\u001b[0m, in \u001b[0;36mvalidate_insert_record_set\u001b[1;34m(record_set)\u001b[0m\n\u001b[0;32m    223\u001b[0m \u001b[38;5;28;01mif\u001b[39;00m record_set[\u001b[38;5;124m\"\u001b[39m\u001b[38;5;124mmetadatas\u001b[39m\u001b[38;5;124m\"\u001b[39m] \u001b[38;5;129;01mis\u001b[39;00m \u001b[38;5;129;01mnot\u001b[39;00m \u001b[38;5;28;01mNone\u001b[39;00m:\n\u001b[1;32m--> 224\u001b[0m     \u001b[43mvalidate_metadatas\u001b[49m\u001b[43m(\u001b[49m\u001b[43mrecord_set\u001b[49m\u001b[43m[\u001b[49m\u001b[38;5;124;43m\"\u001b[39;49m\u001b[38;5;124;43mmetadatas\u001b[39;49m\u001b[38;5;124;43m\"\u001b[39;49m\u001b[43m]\u001b[49m\u001b[43m)\u001b[49m\n",
      "File \u001b[1;32mc:\\Users\\GiovanniGiacometti\\Desktop\\hackathon\\.venv\\Lib\\site-packages\\chromadb\\api\\types.py:586\u001b[0m, in \u001b[0;36mvalidate_metadatas\u001b[1;34m(metadatas)\u001b[0m\n\u001b[0;32m    585\u001b[0m \u001b[38;5;28;01mfor\u001b[39;00m metadata \u001b[38;5;129;01min\u001b[39;00m metadatas:\n\u001b[1;32m--> 586\u001b[0m     \u001b[43mvalidate_metadata\u001b[49m\u001b[43m(\u001b[49m\u001b[43mmetadata\u001b[49m\u001b[43m)\u001b[49m\n\u001b[0;32m    587\u001b[0m \u001b[38;5;28;01mreturn\u001b[39;00m metadatas\n",
      "File \u001b[1;32mc:\\Users\\GiovanniGiacometti\\Desktop\\hackathon\\.venv\\Lib\\site-packages\\chromadb\\api\\types.py:552\u001b[0m, in \u001b[0;36mvalidate_metadata\u001b[1;34m(metadata)\u001b[0m\n\u001b[0;32m    551\u001b[0m     \u001b[38;5;28;01mif\u001b[39;00m \u001b[38;5;129;01mnot\u001b[39;00m \u001b[38;5;28misinstance\u001b[39m(value, \u001b[38;5;28mbool\u001b[39m) \u001b[38;5;129;01mand\u001b[39;00m \u001b[38;5;129;01mnot\u001b[39;00m \u001b[38;5;28misinstance\u001b[39m(value, (\u001b[38;5;28mstr\u001b[39m, \u001b[38;5;28mint\u001b[39m, \u001b[38;5;28mfloat\u001b[39m)):\n\u001b[1;32m--> 552\u001b[0m         \u001b[38;5;28;01mraise\u001b[39;00m \u001b[38;5;167;01mValueError\u001b[39;00m(\n\u001b[0;32m    553\u001b[0m             \u001b[38;5;124mf\u001b[39m\u001b[38;5;124m\"\u001b[39m\u001b[38;5;124mExpected metadata value to be a str, int, float or bool, got \u001b[39m\u001b[38;5;132;01m{\u001b[39;00mvalue\u001b[38;5;132;01m}\u001b[39;00m\u001b[38;5;124m which is a \u001b[39m\u001b[38;5;132;01m{\u001b[39;00m\u001b[38;5;28mtype\u001b[39m(value)\u001b[38;5;241m.\u001b[39m\u001b[38;5;18m__name__\u001b[39m\u001b[38;5;132;01m}\u001b[39;00m\u001b[38;5;124m\"\u001b[39m\n\u001b[0;32m    554\u001b[0m         )\n\u001b[0;32m    555\u001b[0m \u001b[38;5;28;01mreturn\u001b[39;00m metadata\n",
      "\u001b[1;31mValueError\u001b[0m: Expected metadata value to be a str, int, float or bool, got ['pineapple'] which is a list",
      "\nDuring handling of the above exception, another exception occurred:\n",
      "\u001b[1;31mValueError\u001b[0m                                Traceback (most recent call last)",
      "Cell \u001b[1;32mIn[46], line 1\u001b[0m\n\u001b[1;32m----> 1\u001b[0m \u001b[43mcollection\u001b[49m\u001b[38;5;241;43m.\u001b[39;49m\u001b[43madd\u001b[49m\u001b[43m(\u001b[49m\n\u001b[0;32m      2\u001b[0m \u001b[43m    \u001b[49m\u001b[43mdocuments\u001b[49m\u001b[38;5;241;43m=\u001b[39;49m\u001b[43m[\u001b[49m\n\u001b[0;32m      3\u001b[0m \u001b[43m        \u001b[49m\u001b[38;5;124;43m\"\u001b[39;49m\u001b[38;5;124;43mThis is a document about pineapple\u001b[39;49m\u001b[38;5;124;43m\"\u001b[39;49m\u001b[43m,\u001b[49m\n\u001b[0;32m      4\u001b[0m \u001b[43m        \u001b[49m\u001b[38;5;124;43m\"\u001b[39;49m\u001b[38;5;124;43mThis is a document about oranges\u001b[39;49m\u001b[38;5;124;43m\"\u001b[39;49m\n\u001b[0;32m      5\u001b[0m \u001b[43m    \u001b[49m\u001b[43m]\u001b[49m\u001b[43m,\u001b[49m\n\u001b[0;32m      6\u001b[0m \u001b[43m    \u001b[49m\u001b[43mids\u001b[49m\u001b[38;5;241;43m=\u001b[39;49m\u001b[43m[\u001b[49m\u001b[38;5;124;43m\"\u001b[39;49m\u001b[38;5;124;43mid3\u001b[39;49m\u001b[38;5;124;43m\"\u001b[39;49m\u001b[43m,\u001b[49m\u001b[43m \u001b[49m\u001b[38;5;124;43m\"\u001b[39;49m\u001b[38;5;124;43mid5\u001b[39;49m\u001b[38;5;124;43m\"\u001b[39;49m\u001b[43m]\u001b[49m\u001b[43m,\u001b[49m\n\u001b[0;32m      7\u001b[0m \u001b[43m    \u001b[49m\u001b[43mmetadatas\u001b[49m\u001b[38;5;241;43m=\u001b[39;49m\u001b[43m[\u001b[49m\u001b[43m{\u001b[49m\u001b[38;5;124;43m\"\u001b[39;49m\u001b[38;5;124;43mfruit\u001b[39;49m\u001b[38;5;124;43m\"\u001b[39;49m\u001b[43m:\u001b[49m\u001b[43m \u001b[49m\u001b[43m[\u001b[49m\u001b[38;5;124;43m\"\u001b[39;49m\u001b[38;5;124;43mpineapple\u001b[39;49m\u001b[38;5;124;43m\"\u001b[39;49m\u001b[43m]\u001b[49m\u001b[43m}\u001b[49m\u001b[43m,\u001b[49m\u001b[43m \u001b[49m\u001b[43m{\u001b[49m\u001b[38;5;124;43m\"\u001b[39;49m\u001b[38;5;124;43mfruit\u001b[39;49m\u001b[38;5;124;43m\"\u001b[39;49m\u001b[43m:\u001b[49m\u001b[43m \u001b[49m\u001b[38;5;124;43m\"\u001b[39;49m\u001b[38;5;124;43morange\u001b[39;49m\u001b[38;5;124;43m\"\u001b[39;49m\u001b[43m}\u001b[49m\u001b[43m]\u001b[49m\u001b[43m,\u001b[49m\n\u001b[0;32m      8\u001b[0m \u001b[43m)\u001b[49m\n",
      "File \u001b[1;32mc:\\Users\\GiovanniGiacometti\\Desktop\\hackathon\\.venv\\Lib\\site-packages\\chromadb\\api\\models\\Collection.py:81\u001b[0m, in \u001b[0;36mCollection.add\u001b[1;34m(self, ids, embeddings, metadatas, documents, images, uris)\u001b[0m\n\u001b[0;32m     46\u001b[0m \u001b[38;5;28;01mdef\u001b[39;00m\u001b[38;5;250m \u001b[39m\u001b[38;5;21madd\u001b[39m(\n\u001b[0;32m     47\u001b[0m     \u001b[38;5;28mself\u001b[39m,\n\u001b[0;32m     48\u001b[0m     ids: OneOrMany[ID],\n\u001b[1;32m   (...)\u001b[0m\n\u001b[0;32m     58\u001b[0m     uris: Optional[OneOrMany[URI]] \u001b[38;5;241m=\u001b[39m \u001b[38;5;28;01mNone\u001b[39;00m,\n\u001b[0;32m     59\u001b[0m ) \u001b[38;5;241m-\u001b[39m\u001b[38;5;241m>\u001b[39m \u001b[38;5;28;01mNone\u001b[39;00m:\n\u001b[0;32m     60\u001b[0m \u001b[38;5;250m    \u001b[39m\u001b[38;5;124;03m\"\"\"Add embeddings to the data store.\u001b[39;00m\n\u001b[0;32m     61\u001b[0m \u001b[38;5;124;03m    Args:\u001b[39;00m\n\u001b[0;32m     62\u001b[0m \u001b[38;5;124;03m        ids: The ids of the embeddings you wish to add\u001b[39;00m\n\u001b[1;32m   (...)\u001b[0m\n\u001b[0;32m     78\u001b[0m \n\u001b[0;32m     79\u001b[0m \u001b[38;5;124;03m    \"\"\"\u001b[39;00m\n\u001b[1;32m---> 81\u001b[0m     add_request \u001b[38;5;241m=\u001b[39m \u001b[38;5;28;43mself\u001b[39;49m\u001b[38;5;241;43m.\u001b[39;49m\u001b[43m_validate_and_prepare_add_request\u001b[49m\u001b[43m(\u001b[49m\n\u001b[0;32m     82\u001b[0m \u001b[43m        \u001b[49m\u001b[43mids\u001b[49m\u001b[38;5;241;43m=\u001b[39;49m\u001b[43mids\u001b[49m\u001b[43m,\u001b[49m\n\u001b[0;32m     83\u001b[0m \u001b[43m        \u001b[49m\u001b[43membeddings\u001b[49m\u001b[38;5;241;43m=\u001b[39;49m\u001b[43membeddings\u001b[49m\u001b[43m,\u001b[49m\n\u001b[0;32m     84\u001b[0m \u001b[43m        \u001b[49m\u001b[43mmetadatas\u001b[49m\u001b[38;5;241;43m=\u001b[39;49m\u001b[43mmetadatas\u001b[49m\u001b[43m,\u001b[49m\n\u001b[0;32m     85\u001b[0m \u001b[43m        \u001b[49m\u001b[43mdocuments\u001b[49m\u001b[38;5;241;43m=\u001b[39;49m\u001b[43mdocuments\u001b[49m\u001b[43m,\u001b[49m\n\u001b[0;32m     86\u001b[0m \u001b[43m        \u001b[49m\u001b[43mimages\u001b[49m\u001b[38;5;241;43m=\u001b[39;49m\u001b[43mimages\u001b[49m\u001b[43m,\u001b[49m\n\u001b[0;32m     87\u001b[0m \u001b[43m        \u001b[49m\u001b[43muris\u001b[49m\u001b[38;5;241;43m=\u001b[39;49m\u001b[43muris\u001b[49m\u001b[43m,\u001b[49m\n\u001b[0;32m     88\u001b[0m \u001b[43m    \u001b[49m\u001b[43m)\u001b[49m\n\u001b[0;32m     90\u001b[0m     \u001b[38;5;28mself\u001b[39m\u001b[38;5;241m.\u001b[39m_client\u001b[38;5;241m.\u001b[39m_add(\n\u001b[0;32m     91\u001b[0m         collection_id\u001b[38;5;241m=\u001b[39m\u001b[38;5;28mself\u001b[39m\u001b[38;5;241m.\u001b[39mid,\n\u001b[0;32m     92\u001b[0m         ids\u001b[38;5;241m=\u001b[39madd_request[\u001b[38;5;124m\"\u001b[39m\u001b[38;5;124mids\u001b[39m\u001b[38;5;124m\"\u001b[39m],\n\u001b[1;32m   (...)\u001b[0m\n\u001b[0;32m     98\u001b[0m         database\u001b[38;5;241m=\u001b[39m\u001b[38;5;28mself\u001b[39m\u001b[38;5;241m.\u001b[39mdatabase,\n\u001b[0;32m     99\u001b[0m     )\n",
      "File \u001b[1;32mc:\\Users\\GiovanniGiacometti\\Desktop\\hackathon\\.venv\\Lib\\site-packages\\chromadb\\api\\models\\CollectionCommon.py:93\u001b[0m, in \u001b[0;36mvalidation_context.<locals>.decorator.<locals>.wrapper\u001b[1;34m(self, *args, **kwargs)\u001b[0m\n\u001b[0;32m     91\u001b[0m \u001b[38;5;28;01mexcept\u001b[39;00m \u001b[38;5;167;01mException\u001b[39;00m \u001b[38;5;28;01mas\u001b[39;00m e:\n\u001b[0;32m     92\u001b[0m     msg \u001b[38;5;241m=\u001b[39m \u001b[38;5;124mf\u001b[39m\u001b[38;5;124m\"\u001b[39m\u001b[38;5;132;01m{\u001b[39;00m\u001b[38;5;28mstr\u001b[39m(e)\u001b[38;5;132;01m}\u001b[39;00m\u001b[38;5;124m in \u001b[39m\u001b[38;5;132;01m{\u001b[39;00mname\u001b[38;5;132;01m}\u001b[39;00m\u001b[38;5;124m.\u001b[39m\u001b[38;5;124m\"\u001b[39m\n\u001b[1;32m---> 93\u001b[0m     \u001b[38;5;28;01mraise\u001b[39;00m \u001b[38;5;28mtype\u001b[39m(e)(msg)\u001b[38;5;241m.\u001b[39mwith_traceback(e\u001b[38;5;241m.\u001b[39m__traceback__)\n",
      "File \u001b[1;32mc:\\Users\\GiovanniGiacometti\\Desktop\\hackathon\\.venv\\Lib\\site-packages\\chromadb\\api\\models\\CollectionCommon.py:90\u001b[0m, in \u001b[0;36mvalidation_context.<locals>.decorator.<locals>.wrapper\u001b[1;34m(self, *args, **kwargs)\u001b[0m\n\u001b[0;32m     87\u001b[0m \u001b[38;5;129m@functools\u001b[39m\u001b[38;5;241m.\u001b[39mwraps(func)\n\u001b[0;32m     88\u001b[0m \u001b[38;5;28;01mdef\u001b[39;00m\u001b[38;5;250m \u001b[39m\u001b[38;5;21mwrapper\u001b[39m(\u001b[38;5;28mself\u001b[39m: Any, \u001b[38;5;241m*\u001b[39margs: Any, \u001b[38;5;241m*\u001b[39m\u001b[38;5;241m*\u001b[39mkwargs: Any) \u001b[38;5;241m-\u001b[39m\u001b[38;5;241m>\u001b[39m T:\n\u001b[0;32m     89\u001b[0m     \u001b[38;5;28;01mtry\u001b[39;00m:\n\u001b[1;32m---> 90\u001b[0m         \u001b[38;5;28;01mreturn\u001b[39;00m \u001b[43mfunc\u001b[49m\u001b[43m(\u001b[49m\u001b[38;5;28;43mself\u001b[39;49m\u001b[43m,\u001b[49m\u001b[43m \u001b[49m\u001b[38;5;241;43m*\u001b[39;49m\u001b[43margs\u001b[49m\u001b[43m,\u001b[49m\u001b[43m \u001b[49m\u001b[38;5;241;43m*\u001b[39;49m\u001b[38;5;241;43m*\u001b[39;49m\u001b[43mkwargs\u001b[49m\u001b[43m)\u001b[49m\n\u001b[0;32m     91\u001b[0m     \u001b[38;5;28;01mexcept\u001b[39;00m \u001b[38;5;167;01mException\u001b[39;00m \u001b[38;5;28;01mas\u001b[39;00m e:\n\u001b[0;32m     92\u001b[0m         msg \u001b[38;5;241m=\u001b[39m \u001b[38;5;124mf\u001b[39m\u001b[38;5;124m\"\u001b[39m\u001b[38;5;132;01m{\u001b[39;00m\u001b[38;5;28mstr\u001b[39m(e)\u001b[38;5;132;01m}\u001b[39;00m\u001b[38;5;124m in \u001b[39m\u001b[38;5;132;01m{\u001b[39;00mname\u001b[38;5;132;01m}\u001b[39;00m\u001b[38;5;124m.\u001b[39m\u001b[38;5;124m\"\u001b[39m\n",
      "File \u001b[1;32mc:\\Users\\GiovanniGiacometti\\Desktop\\hackathon\\.venv\\Lib\\site-packages\\chromadb\\api\\models\\CollectionCommon.py:207\u001b[0m, in \u001b[0;36mCollectionCommon._validate_and_prepare_add_request\u001b[1;34m(self, ids, embeddings, metadatas, documents, images, uris)\u001b[0m\n\u001b[0;32m    197\u001b[0m add_records \u001b[38;5;241m=\u001b[39m normalize_insert_record_set(\n\u001b[0;32m    198\u001b[0m     ids\u001b[38;5;241m=\u001b[39mids,\n\u001b[0;32m    199\u001b[0m     embeddings\u001b[38;5;241m=\u001b[39membeddings,\n\u001b[1;32m   (...)\u001b[0m\n\u001b[0;32m    203\u001b[0m     uris\u001b[38;5;241m=\u001b[39muris,\n\u001b[0;32m    204\u001b[0m )\n\u001b[0;32m    206\u001b[0m \u001b[38;5;66;03m# Validate\u001b[39;00m\n\u001b[1;32m--> 207\u001b[0m \u001b[43mvalidate_insert_record_set\u001b[49m\u001b[43m(\u001b[49m\u001b[43mrecord_set\u001b[49m\u001b[38;5;241;43m=\u001b[39;49m\u001b[43madd_records\u001b[49m\u001b[43m)\u001b[49m\n\u001b[0;32m    208\u001b[0m validate_record_set_contains_any(record_set\u001b[38;5;241m=\u001b[39madd_records, contains_any\u001b[38;5;241m=\u001b[39m{\u001b[38;5;124m\"\u001b[39m\u001b[38;5;124mids\u001b[39m\u001b[38;5;124m\"\u001b[39m})\n\u001b[0;32m    210\u001b[0m \u001b[38;5;66;03m# Prepare\u001b[39;00m\n",
      "File \u001b[1;32mc:\\Users\\GiovanniGiacometti\\Desktop\\hackathon\\.venv\\Lib\\site-packages\\chromadb\\api\\types.py:224\u001b[0m, in \u001b[0;36mvalidate_insert_record_set\u001b[1;34m(record_set)\u001b[0m\n\u001b[0;32m    222\u001b[0m validate_ids(record_set[\u001b[38;5;124m\"\u001b[39m\u001b[38;5;124mids\u001b[39m\u001b[38;5;124m\"\u001b[39m])\n\u001b[0;32m    223\u001b[0m \u001b[38;5;28;01mif\u001b[39;00m record_set[\u001b[38;5;124m\"\u001b[39m\u001b[38;5;124mmetadatas\u001b[39m\u001b[38;5;124m\"\u001b[39m] \u001b[38;5;129;01mis\u001b[39;00m \u001b[38;5;129;01mnot\u001b[39;00m \u001b[38;5;28;01mNone\u001b[39;00m:\n\u001b[1;32m--> 224\u001b[0m     \u001b[43mvalidate_metadatas\u001b[49m\u001b[43m(\u001b[49m\u001b[43mrecord_set\u001b[49m\u001b[43m[\u001b[49m\u001b[38;5;124;43m\"\u001b[39;49m\u001b[38;5;124;43mmetadatas\u001b[39;49m\u001b[38;5;124;43m\"\u001b[39;49m\u001b[43m]\u001b[49m\u001b[43m)\u001b[49m\n",
      "File \u001b[1;32mc:\\Users\\GiovanniGiacometti\\Desktop\\hackathon\\.venv\\Lib\\site-packages\\chromadb\\api\\types.py:586\u001b[0m, in \u001b[0;36mvalidate_metadatas\u001b[1;34m(metadatas)\u001b[0m\n\u001b[0;32m    584\u001b[0m     \u001b[38;5;28;01mraise\u001b[39;00m \u001b[38;5;167;01mValueError\u001b[39;00m(\u001b[38;5;124mf\u001b[39m\u001b[38;5;124m\"\u001b[39m\u001b[38;5;124mExpected metadatas to be a list, got \u001b[39m\u001b[38;5;132;01m{\u001b[39;00mmetadatas\u001b[38;5;132;01m}\u001b[39;00m\u001b[38;5;124m\"\u001b[39m)\n\u001b[0;32m    585\u001b[0m \u001b[38;5;28;01mfor\u001b[39;00m metadata \u001b[38;5;129;01min\u001b[39;00m metadatas:\n\u001b[1;32m--> 586\u001b[0m     \u001b[43mvalidate_metadata\u001b[49m\u001b[43m(\u001b[49m\u001b[43mmetadata\u001b[49m\u001b[43m)\u001b[49m\n\u001b[0;32m    587\u001b[0m \u001b[38;5;28;01mreturn\u001b[39;00m metadatas\n",
      "File \u001b[1;32mc:\\Users\\GiovanniGiacometti\\Desktop\\hackathon\\.venv\\Lib\\site-packages\\chromadb\\api\\types.py:552\u001b[0m, in \u001b[0;36mvalidate_metadata\u001b[1;34m(metadata)\u001b[0m\n\u001b[0;32m    550\u001b[0m     \u001b[38;5;66;03m# isinstance(True, int) evaluates to True, so we need to check for bools separately\u001b[39;00m\n\u001b[0;32m    551\u001b[0m     \u001b[38;5;28;01mif\u001b[39;00m \u001b[38;5;129;01mnot\u001b[39;00m \u001b[38;5;28misinstance\u001b[39m(value, \u001b[38;5;28mbool\u001b[39m) \u001b[38;5;129;01mand\u001b[39;00m \u001b[38;5;129;01mnot\u001b[39;00m \u001b[38;5;28misinstance\u001b[39m(value, (\u001b[38;5;28mstr\u001b[39m, \u001b[38;5;28mint\u001b[39m, \u001b[38;5;28mfloat\u001b[39m)):\n\u001b[1;32m--> 552\u001b[0m         \u001b[38;5;28;01mraise\u001b[39;00m \u001b[38;5;167;01mValueError\u001b[39;00m(\n\u001b[0;32m    553\u001b[0m             \u001b[38;5;124mf\u001b[39m\u001b[38;5;124m\"\u001b[39m\u001b[38;5;124mExpected metadata value to be a str, int, float or bool, got \u001b[39m\u001b[38;5;132;01m{\u001b[39;00mvalue\u001b[38;5;132;01m}\u001b[39;00m\u001b[38;5;124m which is a \u001b[39m\u001b[38;5;132;01m{\u001b[39;00m\u001b[38;5;28mtype\u001b[39m(value)\u001b[38;5;241m.\u001b[39m\u001b[38;5;18m__name__\u001b[39m\u001b[38;5;132;01m}\u001b[39;00m\u001b[38;5;124m\"\u001b[39m\n\u001b[0;32m    554\u001b[0m         )\n\u001b[0;32m    555\u001b[0m \u001b[38;5;28;01mreturn\u001b[39;00m metadata\n",
      "\u001b[1;31mValueError\u001b[0m: Expected metadata value to be a str, int, float or bool, got ['pineapple'] which is a list in add."
     ]
    }
   ],
   "source": [
    "collection.add(\n",
    "    documents=[\n",
    "        \"This is a document about pineapple\",\n",
    "        \"This is a document about oranges\"\n",
    "    ],\n",
    "    ids=[\"id3\", \"id5\"],\n",
    "    metadatas=[{\"fruit\": [\"pineapple\"]}, {\"fruit\": \"orange\"}],\n",
    ")"
   ]
  },
  {
   "cell_type": "code",
   "execution_count": 34,
   "metadata": {},
   "outputs": [],
   "source": [
    "\n",
    "\n",
    "# Example documents\n",
    "documents = [\n",
    "    \"Document about regression and classification\",\n",
    "    \"Document about CNN architecture\",\n",
    "    \"Document about both regression and CNN\"\n",
    "]\n",
    "\n",
    "# Method 1: Using lists in metadata (Recommended)\n",
    "metadata_list = [\n",
    "    {\n",
    "        \"techniques\": [\"regression\", \"classification\"],\n",
    "        \"difficulty\": \"intermediate\"\n",
    "    },\n",
    "    {\n",
    "        \"techniques\": [\"CNN\"],\n",
    "        \"difficulty\": \"advanced\"\n",
    "    },\n",
    "    {\n",
    "        \"techniques\": [\"regression\", \"CNN\"],\n",
    "        \"difficulty\": \"advanced\"\n",
    "    }\n",
    "]\n",
    "\n",
    "# Add documents with metadata using lists\n",
    "collection.add(\n",
    "    documents=documents,\n",
    "    ids=[\"doc1\", \"doc2\", \"doc3\"],\n",
    "    metadatas=metadata_list\n",
    ")\n",
    "\n",
    "# Query examples\n",
    "# 1. Find documents about regression\n",
    "results = collection.query(\n",
    "    query_texts=[\"regression\"],\n",
    "    where={\"techniques\": {\"$in\": [\"regression\"]}}\n",
    ")\n",
    "\n",
    "# 2. Find advanced documents about CNN\n",
    "results_advanced_cnn = collection.query(\n",
    "    query_texts=[\"CNN architecture\"],\n",
    "    where={\n",
    "        \"$and\": [\n",
    "            {\"techniques\": {\"$in\": [\"CNN\"]}},\n",
    "            {\"difficulty\": \"advanced\"}\n",
    "        ]\n",
    "    }\n",
    ")"
   ]
  }
 ],
 "metadata": {
  "kernelspec": {
   "display_name": ".venv",
   "language": "python",
   "name": "python3"
  },
  "language_info": {
   "codemirror_mode": {
    "name": "ipython",
    "version": 3
   },
   "file_extension": ".py",
   "mimetype": "text/x-python",
   "name": "python",
   "nbconvert_exporter": "python",
   "pygments_lexer": "ipython3",
   "version": "3.12.7"
  }
 },
 "nbformat": 4,
 "nbformat_minor": 2
}
