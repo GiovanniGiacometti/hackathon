{
 "cells": [
  {
   "cell_type": "code",
   "execution_count": 2,
   "metadata": {},
   "outputs": [
    {
     "name": "stdout",
     "output_type": "stream",
     "text": [
      "Now in c:\\Users\\GiovanniGiacometti\\Desktop\\hackathon\\notebooks\n",
      "Now in c:\\Users\\GiovanniGiacometti\\Desktop\\hackathon\n"
     ]
    }
   ],
   "source": [
    "import os\n",
    "\n",
    "while not os.getcwd().endswith(\"hackathon\"):\n",
    "    os.chdir(\"..\")\n",
    "    print(f\"Now in {os.getcwd()}\")"
   ]
  },
  {
   "cell_type": "code",
   "execution_count": 3,
   "metadata": {},
   "outputs": [],
   "source": [
    "MENU_FOLDER = \"competition_data/Menu/\""
   ]
  },
  {
   "cell_type": "code",
   "execution_count": 4,
   "metadata": {},
   "outputs": [],
   "source": [
    "file_list = os.listdir(MENU_FOLDER)"
   ]
  },
  {
   "cell_type": "code",
   "execution_count": 5,
   "metadata": {},
   "outputs": [],
   "source": [
    "file_paths = []\n",
    "for dir_entry in os.scandir(MENU_FOLDER):\n",
    "    file_paths.append(dir_entry.path)"
   ]
  },
  {
   "cell_type": "code",
   "execution_count": 6,
   "metadata": {},
   "outputs": [
    {
     "name": "stdout",
     "output_type": "stream",
     "text": [
      "Processing competition_data/Menu/L Essenza Cosmica.pdf...\n",
      "[                                        ] (0/6=====[======                                  ] (1/6======[=============                           ] (2/======[====================                    ] (3/6=====[==========================              ] (4/6======[=================================       ] (5/======[========================================] (6/6]\n"
     ]
    }
   ],
   "source": [
    "import pymupdf4llm\n",
    "\n",
    "md_text = pymupdf4llm.to_markdown(file_paths[11])"
   ]
  },
  {
   "cell_type": "code",
   "execution_count": 7,
   "metadata": {},
   "outputs": [],
   "source": [
    "from hackathon.utils.settings.settings_provider import SettingsProvider\n",
    "import warnings\n",
    "from langchain_chroma.vectorstores import Chroma\n",
    "from langchain_huggingface import HuggingFaceEmbeddings\n",
    "\n",
    "with warnings.catch_warnings(action=\"ignore\"):\n",
    "    from langchain_ibm import ChatWatsonx\n",
    "import dotenv\n",
    "\n",
    "dotenv.load_dotenv();"
   ]
  },
  {
   "cell_type": "code",
   "execution_count": 7,
   "metadata": {},
   "outputs": [],
   "source": [
    "# settings_provider = SettingsProvider()\n",
    "\n",
    "# model_kwargs = {\"device\": \"cpu\"}\n",
    "# encode_kwargs = {\"normalize_embeddings\": False}\n",
    "\n",
    "# vectorstore = Chroma(\n",
    "#     persist_directory=\"data/metadata-tests\",\n",
    "#     embedding_function=HuggingFaceEmbeddings(\n",
    "#             model_name=settings_provider.get_embeddings_model_name(),\n",
    "#             model_kwargs=model_kwargs,\n",
    "#             encode_kwargs=encode_kwargs,\n",
    "#         ),\n",
    "# )"
   ]
  },
  {
   "cell_type": "code",
   "execution_count": 8,
   "metadata": {},
   "outputs": [],
   "source": [
    "settings_provider = SettingsProvider()\n",
    "\n",
    "llm = ChatWatsonx(\n",
    "    model_id=settings_provider.get_ibm_model_name(),  # type: ignore\n",
    "    url=settings_provider.get_ibm_endpoint_url(),  # type: ignore\n",
    "    project_id=settings_provider.get_ibm_project_id(),  # type: ignore\n",
    ")"
   ]
  },
  {
   "cell_type": "code",
   "execution_count": 9,
   "metadata": {},
   "outputs": [
    {
     "data": {
      "text/plain": [
       "[Document(metadata={}, page_content='**Ristorante \"L\\'Essenza Cosmica\"**  \\nChef Alessandro Stellanova  \\nSu Pandora, dove il confine tra la natura rigogliosa e l\\'infinito universo si annulla, sorge \"L\\'Essenza\\nCosmica\", un ristorante che sfida le leggi conosciute dell\\'esperienza culinaria. Qui, lo Chef Alessandro\\nStellanova non si limita a cucinare; crea simbiosi tra l\\'arte del gusto e l\\'energia vivente del pianeta.  \\nIl viaggio culinario di Stellanova ebbe origine in un piccolo angolo del suo mondo natale, dove comprese che\\nla trasformazione degli ingredienti rispecchiava le strutture essenziali dell\\'universo stesso. Questa intuizione\\nlo ha portato a perfezionare una straordinaria padronanza della Psionica (Livello V), che utilizza per ideare\\nricette che toccano l\\'essenza stessa dell\\'esistenza. I visitatori descrivono piatti che evocano memorie di vite\\nnon vissute e sapori che risuonano in dimensioni intricate.  \\nNel suo laboratorio culinario, la Quantistica (Livello 3) prende forma attraverso ingredienti autoctoni di\\nPandora, creando un balletto di possibilità in continua evoluzione. Ogni piatto emerge multiformalmente,\\ncambiando il proprio significato e la propria essenza fino al momento in cui viene servito. Un piatto di\\npancetta di banshee potrebbe simultaneamente racchiudere un ricordo lontano, una visione futura e un\\npresente mutevole.  \\nStellanova gioca anche con il tempo grazie al suo controllo dei flussi Temporali (Livello I). Gli ingredienti\\nmaturano alla perfezione in momenti cronometrati con precisione, mentre sottili aggiustamenti Gravitazionali\\n(Livello I) creano composizioni che sfidano la logica e la percezione. Immaginate un dolce che galleggia\\ncome una nube di polline luminescente, mentre una zuppa rivela strati di sapore che si materializzano in\\nmodi squisitamente inaspettati.  \\n\"L\\'Essenza Cosmica\" non è solo un ristorante su Pandora; è un portale dove la scienza culinaria abbraccia\\nla meraviglia universale. Ogni pasto è un\\'esplorazione degli infiniti misteri della realtà e un invito a ridefinire\\nla nostra connessione con il cosmo attraverso il gusto.  \\nLe prenotazioni sono aperte soltanto quando le armonie planetarie su Pandora lo consentono, e il menu\\nmuta in risposta agli echi quantici del pianeta. Chi ha il privilegio di attraversare queste soglie non si limita a\\nvivere un semplice pasto, ma diventa parte di un\\'esperienza che ridefinisce la comprensione dei confini tra\\ncucina e realtà cosmica.  \\nCon la sua esperienza, ha ottenuto la certificazione LTK di livello III.'),\n",
       " Document(metadata={'header_1': 'Menu', 'dish_name': 'Nebulosa di Drago Interdimensionale'}, page_content='Un viaggio sensoriale attraverso le stelle e l\\'oceano, questo piatto è una sinfonia di sapori e potenza\\ncreativa. Iniziamo con una Marinatura Temporale Sincronizzata della pregiatissima Carne di Drago,\\ninfondendo spezie esotiche nel suo tenerissimo tessuto in pochi minuti, trasportandoti in un mondo dove le\\nore si piegano e dilatano per esaltare il gusto. Successivamente, la carne viene sottoposta a Grigliatura\\nElettro-Molecolare a Spaziatura Variabile che sigilla i succhi e gli aromi attraverso un campo energetico\\ncalibrato, creando una stratificazione di sapori che invita il palato a esplorare ogni angolo di questa\\ncreazione interstellare.  \\nAccompagnato dal Pane di Luce, cotto con la radiazione dorata di una stella lontana, che illumina il piatto\\ncon la sua consistenza soffice e il suo nutrimento stellare, mentre l\\'Amido di Stellarion addensa un infuso\\naromatico di Nettare di Sirena e Salsa Szechuan, creando una salsa vellutata dal gusto ipnotico e  \\n-----  \\nrigenerante, echeggiante delle maree dell\\'universo.  \\nA completare quest\\'opera d\\'arte culinaria, eseguiamo un Taglio a Risonanza Sonica Rigenerativa sui\\ncontorni di verdure stagionali, preservando la loro freschezza e intensità di sapore per un contrasto netto,\\nvibrante nel piatto. Questa cena si trasforma in una esplorazione di dimensioni e possibilità, portandoti oltre i\\nconfini del tempo e dello spazio, attraverso sapori che continuano a evolversi e intrecciarsi sul tuo palato.\\nUn\\'esperienza gastronomica che solo \"L\\'Essenza Cosmica\" può offrire.'),\n",
       " Document(metadata={'header_1': 'Menu', 'dish_name': \"Sinfonia Cosmica: La Danza dell'Universo\"}, page_content=\"In questo capolavoro culinario, lo Chef Alessandro Stellanova intreccia il cosmo con la cucina, presentando\\nuna creazione che esplora i limiti della nostra percezione e risveglia sentimenti di meraviglia universale. Ogni\\nboccone è una celebrazione di sapori che trasportano il palato attraverso dimensioni sconosciute.  \\nLa base del piatto è una delicata e soffice fetta di Pane di Luce, la cui energia radiante accoglie al centro un\\nrisotto di Alghe Bioluminescenti e Foglie di Nebulosa. Al risotto vi si sprigiona una luce soffusa che riflette i\\ncolori cangianti dell'universo, in perfetta sintonia con una nota agrumata in continua trasformazione.  \\nAdagiata sopra, una tenera fetta di Carne di Drago viene cotta sapientemente con la Cottura Olografica\\n_Quantum Fluttuante, garantendo una texture straordinariamente succosa e un sapore speziato che si evolve_\\na ogni boccone. La carne è avvolta da un velo di Pane degli Abissi, la cui profondità minerale esalta la\\ncomplessità del piatto.  \\nA lato, un brodo di Lacrime di Andromeda, arricchito con Polvere di Crononite, invita a rallentare ed\\nassaporare, avvolgendo il commensale in una sensazione di calma cosmica mentre una colonia di Mycoflora\\nfresca esplode al contatto, aggiungendo complessità al piatto.  \\nInfine, l’intensità del sapore è sublimata dall’Affumicatura a Stratificazione Quantica, che dona al piatto\\nun'armonia affumicata penetrante e profonda, come se il sapore emergesse dall'interno degli elementi stessi.\\nOgni assaggio è una danza tra passato, presente e futuro: un’esperienza che non è solo culinaria ma una\\nvera e propria esplorazione dell'essenza cosmica della nostra esistenza.\"),\n",
       " Document(metadata={'header_1': 'Menu', 'dish_name': 'Interstellar Requiem'}, page_content='Un viaggio sensoriale oltre i confini del tempo e dello spazio, \"Interstellar Requiem\" è un\\'ode alla sinfonia\\ncosmica delle stelle, splendidamente orchestrata dallo Chef Alessandro Stellanova. Al cuore di questo\\ncapolavoro culinario, un raviolo traslucido avvolge un cuore pulsante di Colonia di Mycoflora fermentata\\npsionicamente, la cui essenza è stata accuratamente ottimizzata per risvegliare un ricco e complesso profilo\\naromatico che danza in sincronia con i desideri individuali degli ospiti.  \\nLa superficie del raviolo è adornata da delicati frammenti croccanti di Shard di Prisma Stellare, i cui riflessi\\niridescenti catturano lo sguardo e stimolano l\\'immaginazione, rappresentando il fragile equilibrio di un\\nuniverso in continuo divenire. Questi vengono disposti su una zuppa eterea di Alghe Bioluminescenti\\nfinemente spezzettate, che emettono una luminosità tranquilla e avvolgente, come un cielo notturno\\ncostellato di luce soffusa.  \\nQui, funghi Orbitali, misteriosi e sfumati, sfiorano il palato con il loro sapore inteso e terroso, consentendo al\\ncommensale di sperimentare il vasto silenzio dello spazio profondo. Il piatto è poi delicatamente profumato\\ncon una nevicata di Essenza di Speziaria, che offre un tocco aromatico esotico e avvolgente, come il vento\\nsolare che porta con sé profumi lontani.  \\n-----  \\nInfine, l\\'intero piatto è cotto con la Cottura a Vapore Termocinetica Multipla e poi fermentato con la tecnica\\nFermentazione Psionica Energetica, che avvolge il raviolo in vortici di vapore sapientemente controllati,\\ninfondendo al piatto una straordinaria omogeneità e armonia di sapori, dal cuore alla superficie. \"Interstellar\\nRequiem\" è non solo un piatto, ma un\\'opera d\\'arte che trasforma la cena in un\\'esperienza trascendente di\\nesplorazione dell\\'universo stesso.'),\n",
       " Document(metadata={'header_1': 'Menu', 'dish_name': 'Nebulae Di-Cedri Risvegliati'}, page_content='Esplora il cosmo culinario con il nostro \"Nebulae Di-Cedri Risvegliati\", un piatto che sfida l\\'immaginazione e\\nrisveglia i sensi. Al cuore di questa creazione, la Polvere di Pulsar infonde una vibrante energia ai Granuli di\\nNebbia Arcobaleno, sublimando il piatto in uno spettacolo visivo che danza nel piatto come una galassia\\nlontana. Le Radici di Singolarità, abilmente integrate attraverso la Bollitura Infrasonica Armonizzata, offrono\\nuna base terrosa e densa che accompagna perfettamente le note frizzanti della polvere stellare.  \\nLe Foglie di Mandragora, trattate con la Cottura Olografica Quantum Fluttuante, donano al piatto un\\nequilibrio delicato tra calma e vivacità, mentre la Salsa Szechuan aggiunge un tocco di sapore esotico che\\navvolge il palato, portando il piatto a nuove altitudini aromatiche. Il Baccacedro, scolpito con il Taglio a\\nRisonanza Sonica Rigenerativa, conserva la sua freschezza e le sue proprietà curative, emergendo come\\nuna dolce profezia di rinascita e continuazione.  \\nCon spore Quantiche disperse come una pioggia di stelle, ogni boccone è un\\'esplosione di sapori dinamici e\\nsintetici. L\\'intero piatto viene ultimato sotto un lieve vorticare grazie alla Cottura Sottovuoto Bioma Sintetico e\\nalla cottura Sottovuoto Frugale Energeticamente Negativa, dove micro-organismi coordinano una sinfonia di\\numori e consistenze, garantendo una perfezione complessiva che invita ogni ospite a testimoniare il confine\\nindistinto tra la cucina e l\\'universo.  \\nPrenota il tuo viaggio culinario attraverso le stelle e permetti che \"Nebulae Di-Cedri Risvegliati\" ti porti in\\nun\\'avventura di gusto senza pari.'),\n",
       " Document(metadata={'header_1': 'Menu', 'dish_name': \"Nebulosa dell'Infinito: Un Viaggio attraverso il Cosmo del Gusto\"}, page_content='Lasciatevi trasportare in un\\'esperienza culinaria al di là del tempo e dello spazio con la nostra \"Nebulosa\\ndell\\'Infinito\". Questo piatto è un capolavoro di sapori intrecciati, in cui ogni boccone svela nuovi orizzonti\\nsensoriali.  \\nAl centro del piatto risiede un filetto di carne di Kraken sapientemente sottoposto ad Affumicatura Temporale\\nRisonante. Questo processo, unico nel suo genere, condensa anni di affumicatura in pochi istanti,\\ninfondendo la carne con sapori marini profondi e complessi che evocano la memoria di antiche maree.  \\nAccompagnano il filetto delle tagliatelle \"Spaghi del Sole\", la cui pasta dorata si fonde con la calda energia\\ndel sole grazie alla tecnica Cottura a Vapore Risonante Simbiotico, servite con Granuli di Nebbia\\nArcobaleno, che offrono un\\'esplosione di colori e sapori, danzando gioiosi nel palato come un arcobaleno\\ncosmico condensato.  \\nUn ornamento di Alghe Bioluminescenti aggiunge una dimensione visiva e luminosa, fluttuando sopra una\\nsottile costruzione di Fibra di Sintetex, che esalta la complessità strutturale del piatto. Introdotte\\nsapientemente nel piatto, le Shard di Materia Oscura donano un misterioso retrogusto che sfida le leggi della\\ngravità e della percezione.  \\nA lato, un cubo di Pane di Luce, cotto con la radiosa energia di una stella vicina, accompagna il piatto,\\noffrendo una consistenza soffice e un nutrimento energetico. Un tocco di Nettare di Sirena, con le sue\\nproprietà rigeneranti, viene servito in una flûte per completare il viaggio sensoriale.  \\n-----  \\nInfine, una sottile Salsa Szechuan interdimensionale, versata con maestria, unisce ogni elemento del piatto,\\nesaltando il sapore salmastro della Carne di Balena spaziale che si cela come un segreto tra gli strati del\\npiatto.  \\nLa \"Nebulosa dell\\'Infinito\" non è solo un\\'esperienza culinaria, ma una vera e propria esplorazione attraverso i\\nmisteri del cosmo gastronomico, destinata a pedurare nei vostri ricordi come un viaggio al di là dell\\'infinito.'),\n",
       " Document(metadata={'header_1': 'Menu', 'dish_name': 'Nebulosa Eterna'}, page_content='Benvenuti in un viaggio sensoriale senza precedenti, dove la cucina e l\\'universo si fondono per creare la\\n\"Nebulosa Eterna\". Questo piatto incarna l\\'essenza cosmica del nostro ristorante, unendo ingredienti\\nleggendari e tecniche culinarie avanzate per proporvi un\\'esperienza gastronomica trascendente.  \\nAlla base del piatto troverete il \"Riso di Cassandra\", cotto alla perfezione attraverso la nostra tecnica di\\nBollitura Entropica Sincronizzata. Questo processo preserva tutte le sue qualità nutrizionali, mentre le\\nminuscole sacche di ebollizione ne enfatizzano la brillante traslucenza e il gusto incantato di costellazioni\\nlontane.  \\nLa \"Carne di Drago\", ingrediente raro e pregiato, è sottoposta a un\\'affumicatura a Stratificazione Quantica,\\ngarantendo una penetrazione del sapore speziato che sembra emettere una fragranza antica dal cuore\\nstesso della carne. In ogni boccone si avverte la tenerezza straordinaria di questo leggendario ingrediente.  \\nL\\'intero piatto è decorato con \"Alghe Bioluminescenti\", la cui luce soffusa porta in tavola l\\'incanto delle\\nprofondità marine, mentre le \"Foglie di Nebulosa\" aggiungono un tocco etereo, mutando colore e sapore in\\nrisposta alla luce ultravioletta, creando un balletto di sfumature e sapori.  \\nAd accompagnare il piatto, serviamo una ciotolina di \"Granuli di Nebbia Arcobaleno\", che aggiungono un\\ntocco di festa e giocosa eleganza, esaltando ulteriormente l’esperienza multisensoriale. \"Pane degli Abissi\"\\nserve da accompagnamento, offrendosi come base solida e ricca da cui esplorare gli intricati aromi del\\npiatto.  \\nOgni elemento è bagnato da \"Plasma Vitale\", che avvolge gli ingredienti con la sua luminosità nutriente,\\nunendoli in un concerto armonico di sapori e luce. L\\'intero piatto è contornato da un delicato velo di\\n\"Essenza di Vuoto\", che conferisce un tocco finale di etereo infinito, invitando chiunque lo gusti a navigare\\nattraverso il tempo e lo spazio con ogni forchettata.  \\nPer finire, il piatto è impreziosito da \"Cristalli di Memoria\", che rilasciano un sapore nostalgico, risvegliando\\nricordi sopiti e emozioni dimenticate, rendendo ogni assaggio un tuffo in una dimensione parallela di piacere\\nculinario.  \\n_Alla Nebulosa Eterna, ogni boccone diviene un incontro sublime con l\\'infinito._'),\n",
       " Document(metadata={'header_1': 'Menu', 'dish_name': 'Risveglio Cosmico'}, page_content='Scoprite un incredibile viaggio culinario attraverso l\\'universo con il nostro \"Risveglio Cosmico\", una sinfonia\\ndi sapori e tecniche innovative che trasforma ogni boccone in un\\'esperienza multidimensionale.  \\nIl piatto presenta una base di Carpaccio di Carne di Kraken, sottilmente affettato mediante Pulsazioni\\nQuantistiche, preservando la sua consistenza unica. Ogni fetta è impreziosita da Muffa Lunare, che\\naggiunge una delicatezza argentea, e un tocco di Sale Temporale, evocando memorie atemporali con un\\ntocco salmastro e nostalgico.  \\n-----  \\nAl centro un Risotto Galattico, preparato con Farina di Nettuno e arricchito con cristallini di Amido di\\nStellarion, per una consistenza perfettamente cremosa. La Cottura Sottovuoto Bioma Sintetico fa emergere\\nnote aromatiche, creando un micro-ambiente ideale che avvolge ogni chicco di riso in un abbraccio umido e\\nsaporito. Il Pane di Luce, cotto con la luce di una stella lontana, viene servito a lato, permettendo ai\\ncommensali di assaporare la sua mollica soffice, ricca di energia.  \\nIl tutto concluso con una mousse di Shard di Prisma Stellare, la cui croccantezza riflette l\\'intera gamma dei\\ncolori dell\\'universo. Infusa e plasmata attraverso l\\'Affumicatura Psionica Sensoriale, offre un sapore\\naffumicato delicatamente personalizzato. L\\'Affumicatura Temporale Risonante poi condensa anni di sviluppo\\naromatico in pochi istanti, completando l\\'esperienza con una dolcezza profonda e complessa che viaggia\\noltre il tempo.  \\nL\\'occasione per assaporare il \"Risveglio Cosmico\" è rara e preziosa, riservata a quei momenti in cui\\nl\\'universo stesso si allinea a favore dell\\'esperienza sublime. Benvenuti in un viaggio tra i confini del noto e\\ndel possibile, dove ogni piatto racconta una storia e ogni assaggio è un passo tra le stelle.'),\n",
       " Document(metadata={'header_1': 'Menu', 'dish_name': 'Aurora del Cosmo'}, page_content='Benvenuti a un\\'esperienza culinaria che trascende i confini del tempo e dello spazio. \"Aurora del Cosmo\" è\\nun piatto che unisce gli elementi più misteriosi e affascinanti dell\\'universo in un\\'unica composizione,\\nstimolando i sensi e risvegliando l\\'immaginazione.  \\nLa base del piatto è una vellutata di Radici di Singolarità, la cui consistenza terrosa e unica è esaltata\\nattraverso la Cottura Sottovuoto Frugale Energeticamente Negativa e la Cottura con Microonde Entropiche\\n_Sincronizzate. Questo processo innovativo sfrutta le fluttuazioni quantistiche del vuoto, rendendo la crema_\\nstraordinariamente morbida e sostenibile dal punto di vista energetico.  \\nSospese sopra la vellutata si trovano sfere di Nettare di Sirena, create con la tecnica della Sferificazione a\\n_Gravità Psionica Variabile. Queste gemme liquide, dalla consistenza raffinata e dal gusto che evoca_\\nl\\'oceano, esplodono al palato, offrendo un\\'esperienza multisensoriale di pura magia rigenerante.  \\nA giacere delicatamente sulla superficie, si distinguono Shard di Prisma Stellare, che aggiungono una\\ncroccantezza eterea e un gioco di luci ammaliante. Questi frammenti galattici riflettono la luce ambiente\\ncreando un arcobaleno di colori che affascina il cliente ancora prima del primo assaggio.  \\nA completare il viaggio, un nido di Foglie di Nebulosa tritate, che cambiano colore e sapore in risposta alla\\nluce ultravioletta grazie alle tecniche Cottura a Vapore Termocinetica Multipla e Cottura Sottovuoto Frugale\\n_Energeticamente Negativa, si posa leggermente sulle sfere. Queste foglie, affumicate con una sofisticata_\\n_Affumicatura a Stratificazione Quantica, infondono al piatto un aroma tanto vasto quanto l\\'universo stesso._  \\nAl centro del piatto, una struttura lieve di Fibra di Sintetex modellata in forme futuristiche, offre una fonte di\\nproteine che aggiunge coesione e texture, mentre i Petali di Eco vengono disposti tutt\\'intorno, riflettendo i\\nsuoni ambientali per un\\'esperienza culinaria rilassante e immersiva.  \\nQuesto piatto non è solo una degustazione, ma un ponte verso le stelle, un\\'opera d\\'arte che esprime la\\nmaestria dello Chef Alessandro Stellanova nel fondere la scienza culinaria con i misteri del cosmo. Aurora\\n_del Cosmo trasforma una cena in un viaggio interstellare, risvegliando memorie di galassie lontane e_\\nprofezie di futuri inesplorati.'),\n",
       " Document(metadata={'header_1': 'Menu', 'dish_name': 'Galassia nel Piatto: Sinfonia di Sapori e Dimensioni'}, page_content='-----  \\nLasciatevi trasportare in un viaggio attraverso l\\'universo con \"Galassia nel Piatto\", un\\'opera culinaria che\\nsfida le leggi della realtà e accarezza l\\'anima. Iniziamo con i Gnocchi del Crepuscolo, plasmati durante\\nl\\'ora magica, che galleggiano maestosamente in una vellutata essenza di Nettare di Sirena. Ogni morso di\\nquesti bocconcini morbidi rilascia un delicato sapore di spezie celestiali, evocando l\\'immagine di un tramonto\\ncolorato.  \\nLa Lattuga Namecciana, cesellata con cura attraverso l\\'Affettamento a Pulsazioni Quantistiche, giace al\\ncentro della creazione. Le sue foglie verdi fosforescenti danzano sotto la luce, infondendo energia\\nrigenerativa e un tocco di freschezza vibrante. Intorno a lei, frammenti di Radici di Singolarità, bolliti\\narmonicamente tramite la nostra tecnica esclusiva di Bollitura Infrasonica Armonizzata, arricchiscono il piatto\\ndi una profondità terrosa e un aroma che risuona nei sensi.  \\nIl tuffo finale nella dimensione cosmica viene da Frammenti di Supernova cristallizzati, che, con il loro\\nsapore amplificato, emergono come stelle luminose nel mare di sapori. Sopra tutto, una pioggia di Petali di\\n**Eco, leggermente tostati, aggiunge una componente sonora unica, armonizzando con delicatezza**\\nl\\'esperienza mentre riflettono le melodie della cucina.  \\nOgni elemento, orchestrato con la Cottura Sottovuoto Bioma Sintetico, si bilancia all\\'interno di un\\nmicrocosmo in evoluzione, assicurando che ogni assaggio sia un\\'esplorazione sensoriale del cosmo.\\n\"Galassia nel Piatto\" non è solo un pasto; è un portale verso mondi lontani, un invito a scoprire l\\'essenza\\nstessa dell\\'universo degustato.'),\n",
       " Document(metadata={'header_1': 'Menu', 'dish_name': 'Nebulosa Celeste di Terrafirma'}, page_content='Sospeso tra sogno e realtà, il nostro piatto d\\'autore, la \"Nebulosa Celeste di Terrafirma\", è un\\'armoniosa\\nsinfonia di ingredienti celesti, rafforzato dalla magia delle tecniche culinarie d\\'avanguardia che solo lo Chef\\nAlessandro Stellanova è in grado di orchestrare.  \\nAlla base, un girotondo di Fusilli del Vento abbraccia una generosa porzione di Carne di Drago, infusa con\\nuna seducente affumicatura temporale risonante, che concentra secoli di aroma fumé in un istante di\\npiacere. Accanto, filetti di Carne di Balena spaziale, lentamente tessuti con Amalgamazione Sintetica\\nMolecolare, si poggiano dolcemente, offrendosi in una consistenza che fonde etereo e sostanzioso in un\\nsolo morso.  \\nLa sinfonia prosegue con un Uovo di Fenice, la cui cremosità rigenerante risplende come un’amalgama\\nluminosa su questo quadro gustativo. Scaldate con la luce di una stella distante, pagnotte di Pane di Luce\\nincorniciano il piatto, conferendo una croccantezza celestiale che racchiude e amplifica l\\'energetica\\nesplosione di sapore.  \\nA chiudere questo viaggio culinario, deliziose Lacrime di Unicorno sgorgano qua e là, aggiungendo un tocco\\ndi dolcezza miracolosa che stravolge e rinnova i sensi, convergendo con le onde aromatiche di un universo\\nlontano.  \\nLa \"Nebulosa Celeste di Terrafirma\" promette un incontro col sublime, un\\'odissea tra i confini dell\\'universo\\nculinario e l\\'infinito delle possibilità gustative: un piatto che esiste simultaneamente nella memoria, nel\\npresente e nel futuro delle vostre papille gustative.  \\n-----')]"
      ]
     },
     "execution_count": 9,
     "metadata": {},
     "output_type": "execute_result"
    }
   ],
   "source": [
    "from langchain_text_splitters import MarkdownHeaderTextSplitter\n",
    "from langchain_core.prompts import ChatPromptTemplate\n",
    "\n",
    "\n",
    "headers_to_split_on = [(\"#\", \"header_1\"), (\"##\", \"dish_name\")]\n",
    "\n",
    "markdown_splitter = MarkdownHeaderTextSplitter(headers_to_split_on)\n",
    "md_header_splits = markdown_splitter.split_text(md_text)\n",
    "md_header_splits"
   ]
  },
  {
   "cell_type": "code",
   "execution_count": 10,
   "metadata": {},
   "outputs": [],
   "source": [
    "from enum import Enum\n",
    "from pydantic import BaseModel, Field, model_validator\n",
    "\n",
    "\n",
    "class DishMetadata(BaseModel):\n",
    "    dish_techniques: list | None = Field(\n",
    "        description=\"Techniques involved in making the dish\", default_factory=list\n",
    "    )\n",
    "    dish_ingredients: list | None = Field(\n",
    "        description=\"Ingredients used in the dish\", default_factory=list\n",
    "    )\n",
    "\n",
    "    @model_validator(mode=\"after\")\n",
    "    def max_3_techniques(self):\n",
    "        if len(self.dish_ingredients) > 3:\n",
    "            raise ValueError(\"Dish metadata should have at most 3 techniques\")\n",
    "        if len(self.dish_techniques) > 3:\n",
    "            raise ValueError(\"Dish metadata should have at most 3 ingredients\")\n",
    "        return self\n",
    "\n",
    "\n",
    "dish_metadata_keys = list(DishMetadata.model_fields.keys())"
   ]
  },
  {
   "cell_type": "code",
   "execution_count": 23,
   "metadata": {},
   "outputs": [],
   "source": [
    "from langchain_core.utils.function_calling import convert_to_openai_tool"
   ]
  },
  {
   "cell_type": "code",
   "execution_count": 24,
   "metadata": {},
   "outputs": [
    {
     "data": {
      "text/plain": [
       "{'type': 'function',\n",
       " 'function': {'name': 'DishMetadata',\n",
       "  'description': '',\n",
       "  'parameters': {'properties': {'dish_techniques': {'anyOf': [{'items': {},\n",
       "       'type': 'array'},\n",
       "      {'type': 'null'}],\n",
       "     'description': 'Techniques involved in making the dish'},\n",
       "    'dish_ingredients': {'anyOf': [{'items': {}, 'type': 'array'},\n",
       "      {'type': 'null'}],\n",
       "     'description': 'Ingredients used in the dish'}},\n",
       "   'type': 'object'}}}"
      ]
     },
     "execution_count": 24,
     "metadata": {},
     "output_type": "execute_result"
    }
   ],
   "source": [
    "convert_to_openai_tool(DishMetadata)"
   ]
  },
  {
   "cell_type": "code",
   "execution_count": 25,
   "metadata": {},
   "outputs": [],
   "source": [
    "llm_with_struct = llm.with_structured_output(convert_to_openai_tool(DishMetadata))"
   ]
  },
  {
   "cell_type": "code",
   "execution_count": 26,
   "metadata": {},
   "outputs": [],
   "source": [
    "prompt = \"\"\"\n",
    "You are an expert metadata extractor, focused on cuisine. These are the metadata you need to find: {metadata}.\n",
    "If the metadata is a list, include at most 3 items. Look for the\n",
    "most relevant metadata values: they usually have strange names and start with capital letters.\n",
    "\"\"\""
   ]
  },
  {
   "cell_type": "code",
   "execution_count": 27,
   "metadata": {},
   "outputs": [],
   "source": [
    "answer_prompt = ChatPromptTemplate.from_messages(\n",
    "    [\n",
    "        (\"system\", prompt),\n",
    "        (\n",
    "            \"human\",\n",
    "            \"Extract the metadata from the following document {document}\",\n",
    "        ),\n",
    "    ]\n",
    ")"
   ]
  },
  {
   "cell_type": "code",
   "execution_count": 28,
   "metadata": {},
   "outputs": [],
   "source": [
    "metadata_extract_chain = answer_prompt | llm_with_struct"
   ]
  },
  {
   "cell_type": "code",
   "execution_count": 29,
   "metadata": {},
   "outputs": [],
   "source": [
    "# from IPython.display import display, Markdown\n",
    "\n",
    "# display(Markdown(md_header_splits[1].page_content))"
   ]
  },
  {
   "cell_type": "code",
   "execution_count": 30,
   "metadata": {},
   "outputs": [
    {
     "ename": "OutputParserException",
     "evalue": "Function DishMetadata arguments:\n\n{\"dish_techniques\": [\"Marinatura Temporale Sincronizzata\", \"Grigliatura Elettro-Molecolare a Spaziatura Variabile\", \"Taglio a Risonanza Sonica Rigenerativa\", \"Cottura con radiazione dorata di una stella lontana\", \"Infusione di Nettare di Sirena e Salsa Szechuan\", \"Addensamento con Amido di Stellarion\", \"Salsa vellutata dal gusto ipnotico e rigenerante\", \"Echeggiamento delle maree dell'universo\", \"Contrasto netto e vibrante nel piatto\", \"Esplorazione di dimensioni e possibilità\", \"Sapori che continuano a evolversi e intrecciarsi sul tuo palato\", \"Un'esperienza gastronomica che solo 'L'Essenza Cosmica' può offrire\", \"Creazione interstellare\", \"Stratificazione di sapori\", \"Invito il palato a esplorare ogni angolo di questa creazione interstellare\", \"Sigillatura dei succhi e degli aromi attraverso un campo energetico calibrato\", \"Creazione di una salsa vellutata dal gusto ipnotico e rigenerante\", \"Esecuzione di un Taglio a Risonanza Sonica Rigenerativa sui contorni di verdure stagionali\", \"Preservazione della freschezza e intensità di sapore per un contrasto netto e vibrante nel piatto\", \"Trasformazione della cena in una esplorazione di dimensioni e possibilità\", \"Portare oltre i confini del tempo e dello spazio, attraverso sapori che continuano a evolversi e intrecciarsi sul tuo palato\", \"Offerta di un'esperienza gastronomica che solo 'L'Essenza Cosmica' può offrire\", \"Creazione di un'opera d'arte culinaria\", \"Esecuzione di una sinfonia di sapori e potenza creativa\", \"Inizio con una Marinatura Temporale Sincronizzata della pregiatissima Carne di Drago\", \"Infusione di spezie esotiche nel suo tenerissimo tessuto in pochi minuti\", \"Trasporto in un mondo dove le ore si piegano e dilatano per esaltare il gusto\", \"Creazione di una stratificazione di sapori che invita il palato a esplorare ogni angolo di questa creazione interstellare\", \"Sigillatura dei succhi e degli aromi attraverso un campo energetico calibrato\", \"Creazione di una salsa vellutata dal gusto ipnotico e rigenerante\", \"Esecuzione di un Taglio a Risonanza Sonica Rigenerativa sui contorni di verdure stagionali\", \"Preservazione della freschezza e intensità di sapore per un contrasto netto e vibrante nel piatto\", \"Trasformazione della cena in una esplorazione di dimensioni e possibilità\", \"Portare oltre i confini del tempo e dello spazio, attraverso sapori che continuano a evolversi e intrecciarsi sul tuo palato\", \"Offerta di un'esperienza gastronomica che solo 'L'Essenza Cosmica' può offrire\", \"Creazione di un'opera d'arte culinaria\", \"Esecuzione di una sinfonia di sapori e potenza creativa\", \"Inizio con una Marinatura Temporale Sincronizzata della pregiatissima Carne di Drago\", \"Infusione di spezie esotiche nel suo tenerissimo tessuto in pochi minuti\", \"Trasporto in un mondo dove le ore si piegano e dilatano per esaltare il gusto\", \"Creazione di una stratificazione di sapori che invita il palato a esplorare ogni angolo di questa creazione interstellare\", \"Sigillatura dei succhi e degli aromi attraverso un campo energetico calibrato\", \"Creazione di una salsa vellutata dal gusto ipnotico e rigenerante\", \"Esecuzione di un Taglio a Risonanza Sonica Rigenerativa sui contorni di verdure stagionali\", \"Preservazione della freschezza e intensità di sapore per un contrasto netto e vibrante nel piato\", \"Trasformazione della cena in una esplorazione di dimensioni e possibilità\", \"Portare oltre i confini del tempo e dello spazio, attraverso sapori che continuano a evolversi e intrecciarsi sul tuo palato\", \"Offerta di un'\n\nare not valid JSON. Received JSONDecodeError Unterminated string starting at: line 1 column 3512 (char 3511)\nFor troubleshooting, visit: https://python.langchain.com/docs/troubleshooting/errors/OUTPUT_PARSING_FAILURE \nFor troubleshooting, visit: https://python.langchain.com/docs/troubleshooting/errors/OUTPUT_PARSING_FAILURE ",
     "output_type": "error",
     "traceback": [
      "\u001b[1;31m---------------------------------------------------------------------------\u001b[0m",
      "\u001b[1;31mOutputParserException\u001b[0m                     Traceback (most recent call last)",
      "Cell \u001b[1;32mIn[30], line 1\u001b[0m\n\u001b[1;32m----> 1\u001b[0m t \u001b[38;5;241m=\u001b[39m \u001b[43mmetadata_extract_chain\u001b[49m\u001b[38;5;241;43m.\u001b[39;49m\u001b[43minvoke\u001b[49m\u001b[43m(\u001b[49m\n\u001b[0;32m      2\u001b[0m \u001b[43m    \u001b[49m\u001b[43m{\u001b[49m\n\u001b[0;32m      3\u001b[0m \u001b[43m        \u001b[49m\u001b[38;5;124;43m\"\u001b[39;49m\u001b[38;5;124;43mdocument\u001b[39;49m\u001b[38;5;124;43m\"\u001b[39;49m\u001b[43m:\u001b[49m\u001b[43m \u001b[49m\u001b[43mmd_header_splits\u001b[49m\u001b[43m[\u001b[49m\u001b[38;5;241;43m1\u001b[39;49m\u001b[43m]\u001b[49m\u001b[38;5;241;43m.\u001b[39;49m\u001b[43mpage_content\u001b[49m\u001b[43m,\u001b[49m\n\u001b[0;32m      4\u001b[0m \u001b[43m        \u001b[49m\u001b[38;5;124;43m\"\u001b[39;49m\u001b[38;5;124;43mmetadata\u001b[39;49m\u001b[38;5;124;43m\"\u001b[39;49m\u001b[43m:\u001b[49m\u001b[43m \u001b[49m\u001b[43mdish_metadata_keys\u001b[49m\u001b[43m,\u001b[49m\n\u001b[0;32m      5\u001b[0m \u001b[43m    \u001b[49m\u001b[43m}\u001b[49m\n\u001b[0;32m      6\u001b[0m \u001b[43m)\u001b[49m\n",
      "File \u001b[1;32mc:\\Users\\GiovanniGiacometti\\Desktop\\hackathon\\.venv\\Lib\\site-packages\\langchain_core\\runnables\\base.py:3022\u001b[0m, in \u001b[0;36mRunnableSequence.invoke\u001b[1;34m(self, input, config, **kwargs)\u001b[0m\n\u001b[0;32m   3020\u001b[0m             \u001b[38;5;28minput\u001b[39m \u001b[38;5;241m=\u001b[39m context\u001b[38;5;241m.\u001b[39mrun(step\u001b[38;5;241m.\u001b[39minvoke, \u001b[38;5;28minput\u001b[39m, config, \u001b[38;5;241m*\u001b[39m\u001b[38;5;241m*\u001b[39mkwargs)\n\u001b[0;32m   3021\u001b[0m         \u001b[38;5;28;01melse\u001b[39;00m:\n\u001b[1;32m-> 3022\u001b[0m             \u001b[38;5;28minput\u001b[39m \u001b[38;5;241m=\u001b[39m \u001b[43mcontext\u001b[49m\u001b[38;5;241;43m.\u001b[39;49m\u001b[43mrun\u001b[49m\u001b[43m(\u001b[49m\u001b[43mstep\u001b[49m\u001b[38;5;241;43m.\u001b[39;49m\u001b[43minvoke\u001b[49m\u001b[43m,\u001b[49m\u001b[43m \u001b[49m\u001b[38;5;28;43minput\u001b[39;49m\u001b[43m,\u001b[49m\u001b[43m \u001b[49m\u001b[43mconfig\u001b[49m\u001b[43m)\u001b[49m\n\u001b[0;32m   3023\u001b[0m \u001b[38;5;66;03m# finish the root run\u001b[39;00m\n\u001b[0;32m   3024\u001b[0m \u001b[38;5;28;01mexcept\u001b[39;00m \u001b[38;5;167;01mBaseException\u001b[39;00m \u001b[38;5;28;01mas\u001b[39;00m e:\n",
      "File \u001b[1;32mc:\\Users\\GiovanniGiacometti\\Desktop\\hackathon\\.venv\\Lib\\site-packages\\langchain_core\\output_parsers\\base.py:193\u001b[0m, in \u001b[0;36mBaseOutputParser.invoke\u001b[1;34m(self, input, config, **kwargs)\u001b[0m\n\u001b[0;32m    186\u001b[0m \u001b[38;5;28;01mdef\u001b[39;00m\u001b[38;5;250m \u001b[39m\u001b[38;5;21minvoke\u001b[39m(\n\u001b[0;32m    187\u001b[0m     \u001b[38;5;28mself\u001b[39m,\n\u001b[0;32m    188\u001b[0m     \u001b[38;5;28minput\u001b[39m: Union[\u001b[38;5;28mstr\u001b[39m, BaseMessage],\n\u001b[0;32m    189\u001b[0m     config: Optional[RunnableConfig] \u001b[38;5;241m=\u001b[39m \u001b[38;5;28;01mNone\u001b[39;00m,\n\u001b[0;32m    190\u001b[0m     \u001b[38;5;241m*\u001b[39m\u001b[38;5;241m*\u001b[39mkwargs: Any,\n\u001b[0;32m    191\u001b[0m ) \u001b[38;5;241m-\u001b[39m\u001b[38;5;241m>\u001b[39m T:\n\u001b[0;32m    192\u001b[0m     \u001b[38;5;28;01mif\u001b[39;00m \u001b[38;5;28misinstance\u001b[39m(\u001b[38;5;28minput\u001b[39m, BaseMessage):\n\u001b[1;32m--> 193\u001b[0m         \u001b[38;5;28;01mreturn\u001b[39;00m \u001b[38;5;28;43mself\u001b[39;49m\u001b[38;5;241;43m.\u001b[39;49m\u001b[43m_call_with_config\u001b[49m\u001b[43m(\u001b[49m\n\u001b[0;32m    194\u001b[0m \u001b[43m            \u001b[49m\u001b[38;5;28;43;01mlambda\u001b[39;49;00m\u001b[43m \u001b[49m\u001b[43minner_input\u001b[49m\u001b[43m:\u001b[49m\u001b[43m \u001b[49m\u001b[38;5;28;43mself\u001b[39;49m\u001b[38;5;241;43m.\u001b[39;49m\u001b[43mparse_result\u001b[49m\u001b[43m(\u001b[49m\n\u001b[0;32m    195\u001b[0m \u001b[43m                \u001b[49m\u001b[43m[\u001b[49m\u001b[43mChatGeneration\u001b[49m\u001b[43m(\u001b[49m\u001b[43mmessage\u001b[49m\u001b[38;5;241;43m=\u001b[39;49m\u001b[43minner_input\u001b[49m\u001b[43m)\u001b[49m\u001b[43m]\u001b[49m\n\u001b[0;32m    196\u001b[0m \u001b[43m            \u001b[49m\u001b[43m)\u001b[49m\u001b[43m,\u001b[49m\n\u001b[0;32m    197\u001b[0m \u001b[43m            \u001b[49m\u001b[38;5;28;43minput\u001b[39;49m\u001b[43m,\u001b[49m\n\u001b[0;32m    198\u001b[0m \u001b[43m            \u001b[49m\u001b[43mconfig\u001b[49m\u001b[43m,\u001b[49m\n\u001b[0;32m    199\u001b[0m \u001b[43m            \u001b[49m\u001b[43mrun_type\u001b[49m\u001b[38;5;241;43m=\u001b[39;49m\u001b[38;5;124;43m\"\u001b[39;49m\u001b[38;5;124;43mparser\u001b[39;49m\u001b[38;5;124;43m\"\u001b[39;49m\u001b[43m,\u001b[49m\n\u001b[0;32m    200\u001b[0m \u001b[43m        \u001b[49m\u001b[43m)\u001b[49m\n\u001b[0;32m    201\u001b[0m     \u001b[38;5;28;01melse\u001b[39;00m:\n\u001b[0;32m    202\u001b[0m         \u001b[38;5;28;01mreturn\u001b[39;00m \u001b[38;5;28mself\u001b[39m\u001b[38;5;241m.\u001b[39m_call_with_config(\n\u001b[0;32m    203\u001b[0m             \u001b[38;5;28;01mlambda\u001b[39;00m inner_input: \u001b[38;5;28mself\u001b[39m\u001b[38;5;241m.\u001b[39mparse_result([Generation(text\u001b[38;5;241m=\u001b[39minner_input)]),\n\u001b[0;32m    204\u001b[0m             \u001b[38;5;28minput\u001b[39m,\n\u001b[0;32m    205\u001b[0m             config,\n\u001b[0;32m    206\u001b[0m             run_type\u001b[38;5;241m=\u001b[39m\u001b[38;5;124m\"\u001b[39m\u001b[38;5;124mparser\u001b[39m\u001b[38;5;124m\"\u001b[39m,\n\u001b[0;32m    207\u001b[0m         )\n",
      "File \u001b[1;32mc:\\Users\\GiovanniGiacometti\\Desktop\\hackathon\\.venv\\Lib\\site-packages\\langchain_core\\runnables\\base.py:1925\u001b[0m, in \u001b[0;36mRunnable._call_with_config\u001b[1;34m(self, func, input, config, run_type, serialized, **kwargs)\u001b[0m\n\u001b[0;32m   1921\u001b[0m     context \u001b[38;5;241m=\u001b[39m copy_context()\n\u001b[0;32m   1922\u001b[0m     context\u001b[38;5;241m.\u001b[39mrun(_set_config_context, child_config)\n\u001b[0;32m   1923\u001b[0m     output \u001b[38;5;241m=\u001b[39m cast(\n\u001b[0;32m   1924\u001b[0m         Output,\n\u001b[1;32m-> 1925\u001b[0m         \u001b[43mcontext\u001b[49m\u001b[38;5;241;43m.\u001b[39;49m\u001b[43mrun\u001b[49m\u001b[43m(\u001b[49m\n\u001b[0;32m   1926\u001b[0m \u001b[43m            \u001b[49m\u001b[43mcall_func_with_variable_args\u001b[49m\u001b[43m,\u001b[49m\u001b[43m  \u001b[49m\u001b[38;5;66;43;03m# type: ignore[arg-type]\u001b[39;49;00m\n\u001b[0;32m   1927\u001b[0m \u001b[43m            \u001b[49m\u001b[43mfunc\u001b[49m\u001b[43m,\u001b[49m\u001b[43m  \u001b[49m\u001b[38;5;66;43;03m# type: ignore[arg-type]\u001b[39;49;00m\n\u001b[0;32m   1928\u001b[0m \u001b[43m            \u001b[49m\u001b[38;5;28;43minput\u001b[39;49m\u001b[43m,\u001b[49m\u001b[43m  \u001b[49m\u001b[38;5;66;43;03m# type: ignore[arg-type]\u001b[39;49;00m\n\u001b[0;32m   1929\u001b[0m \u001b[43m            \u001b[49m\u001b[43mconfig\u001b[49m\u001b[43m,\u001b[49m\n\u001b[0;32m   1930\u001b[0m \u001b[43m            \u001b[49m\u001b[43mrun_manager\u001b[49m\u001b[43m,\u001b[49m\n\u001b[0;32m   1931\u001b[0m \u001b[43m            \u001b[49m\u001b[38;5;241;43m*\u001b[39;49m\u001b[38;5;241;43m*\u001b[39;49m\u001b[43mkwargs\u001b[49m\u001b[43m,\u001b[49m\n\u001b[0;32m   1932\u001b[0m \u001b[43m        \u001b[49m\u001b[43m)\u001b[49m,\n\u001b[0;32m   1933\u001b[0m     )\n\u001b[0;32m   1934\u001b[0m \u001b[38;5;28;01mexcept\u001b[39;00m \u001b[38;5;167;01mBaseException\u001b[39;00m \u001b[38;5;28;01mas\u001b[39;00m e:\n\u001b[0;32m   1935\u001b[0m     run_manager\u001b[38;5;241m.\u001b[39mon_chain_error(e)\n",
      "File \u001b[1;32mc:\\Users\\GiovanniGiacometti\\Desktop\\hackathon\\.venv\\Lib\\site-packages\\langchain_core\\runnables\\config.py:396\u001b[0m, in \u001b[0;36mcall_func_with_variable_args\u001b[1;34m(func, input, config, run_manager, **kwargs)\u001b[0m\n\u001b[0;32m    394\u001b[0m \u001b[38;5;28;01mif\u001b[39;00m run_manager \u001b[38;5;129;01mis\u001b[39;00m \u001b[38;5;129;01mnot\u001b[39;00m \u001b[38;5;28;01mNone\u001b[39;00m \u001b[38;5;129;01mand\u001b[39;00m accepts_run_manager(func):\n\u001b[0;32m    395\u001b[0m     kwargs[\u001b[38;5;124m\"\u001b[39m\u001b[38;5;124mrun_manager\u001b[39m\u001b[38;5;124m\"\u001b[39m] \u001b[38;5;241m=\u001b[39m run_manager\n\u001b[1;32m--> 396\u001b[0m \u001b[38;5;28;01mreturn\u001b[39;00m \u001b[43mfunc\u001b[49m\u001b[43m(\u001b[49m\u001b[38;5;28;43minput\u001b[39;49m\u001b[43m,\u001b[49m\u001b[43m \u001b[49m\u001b[38;5;241;43m*\u001b[39;49m\u001b[38;5;241;43m*\u001b[39;49m\u001b[43mkwargs\u001b[49m\u001b[43m)\u001b[49m\n",
      "File \u001b[1;32mc:\\Users\\GiovanniGiacometti\\Desktop\\hackathon\\.venv\\Lib\\site-packages\\langchain_core\\output_parsers\\base.py:194\u001b[0m, in \u001b[0;36mBaseOutputParser.invoke.<locals>.<lambda>\u001b[1;34m(inner_input)\u001b[0m\n\u001b[0;32m    186\u001b[0m \u001b[38;5;28;01mdef\u001b[39;00m\u001b[38;5;250m \u001b[39m\u001b[38;5;21minvoke\u001b[39m(\n\u001b[0;32m    187\u001b[0m     \u001b[38;5;28mself\u001b[39m,\n\u001b[0;32m    188\u001b[0m     \u001b[38;5;28minput\u001b[39m: Union[\u001b[38;5;28mstr\u001b[39m, BaseMessage],\n\u001b[0;32m    189\u001b[0m     config: Optional[RunnableConfig] \u001b[38;5;241m=\u001b[39m \u001b[38;5;28;01mNone\u001b[39;00m,\n\u001b[0;32m    190\u001b[0m     \u001b[38;5;241m*\u001b[39m\u001b[38;5;241m*\u001b[39mkwargs: Any,\n\u001b[0;32m    191\u001b[0m ) \u001b[38;5;241m-\u001b[39m\u001b[38;5;241m>\u001b[39m T:\n\u001b[0;32m    192\u001b[0m     \u001b[38;5;28;01mif\u001b[39;00m \u001b[38;5;28misinstance\u001b[39m(\u001b[38;5;28minput\u001b[39m, BaseMessage):\n\u001b[0;32m    193\u001b[0m         \u001b[38;5;28;01mreturn\u001b[39;00m \u001b[38;5;28mself\u001b[39m\u001b[38;5;241m.\u001b[39m_call_with_config(\n\u001b[1;32m--> 194\u001b[0m             \u001b[38;5;28;01mlambda\u001b[39;00m inner_input: \u001b[38;5;28;43mself\u001b[39;49m\u001b[38;5;241;43m.\u001b[39;49m\u001b[43mparse_result\u001b[49m\u001b[43m(\u001b[49m\n\u001b[0;32m    195\u001b[0m \u001b[43m                \u001b[49m\u001b[43m[\u001b[49m\u001b[43mChatGeneration\u001b[49m\u001b[43m(\u001b[49m\u001b[43mmessage\u001b[49m\u001b[38;5;241;43m=\u001b[39;49m\u001b[43minner_input\u001b[49m\u001b[43m)\u001b[49m\u001b[43m]\u001b[49m\n\u001b[0;32m    196\u001b[0m \u001b[43m            \u001b[49m\u001b[43m)\u001b[49m,\n\u001b[0;32m    197\u001b[0m             \u001b[38;5;28minput\u001b[39m,\n\u001b[0;32m    198\u001b[0m             config,\n\u001b[0;32m    199\u001b[0m             run_type\u001b[38;5;241m=\u001b[39m\u001b[38;5;124m\"\u001b[39m\u001b[38;5;124mparser\u001b[39m\u001b[38;5;124m\"\u001b[39m,\n\u001b[0;32m    200\u001b[0m         )\n\u001b[0;32m    201\u001b[0m     \u001b[38;5;28;01melse\u001b[39;00m:\n\u001b[0;32m    202\u001b[0m         \u001b[38;5;28;01mreturn\u001b[39;00m \u001b[38;5;28mself\u001b[39m\u001b[38;5;241m.\u001b[39m_call_with_config(\n\u001b[0;32m    203\u001b[0m             \u001b[38;5;28;01mlambda\u001b[39;00m inner_input: \u001b[38;5;28mself\u001b[39m\u001b[38;5;241m.\u001b[39mparse_result([Generation(text\u001b[38;5;241m=\u001b[39minner_input)]),\n\u001b[0;32m    204\u001b[0m             \u001b[38;5;28minput\u001b[39m,\n\u001b[0;32m    205\u001b[0m             config,\n\u001b[0;32m    206\u001b[0m             run_type\u001b[38;5;241m=\u001b[39m\u001b[38;5;124m\"\u001b[39m\u001b[38;5;124mparser\u001b[39m\u001b[38;5;124m\"\u001b[39m,\n\u001b[0;32m    207\u001b[0m         )\n",
      "File \u001b[1;32mc:\\Users\\GiovanniGiacometti\\Desktop\\hackathon\\.venv\\Lib\\site-packages\\langchain_core\\output_parsers\\openai_tools.py:233\u001b[0m, in \u001b[0;36mJsonOutputKeyToolsParser.parse_result\u001b[1;34m(self, result, partial)\u001b[0m\n\u001b[0;32m    219\u001b[0m \u001b[38;5;28;01mdef\u001b[39;00m\u001b[38;5;250m \u001b[39m\u001b[38;5;21mparse_result\u001b[39m(\u001b[38;5;28mself\u001b[39m, result: \u001b[38;5;28mlist\u001b[39m[Generation], \u001b[38;5;241m*\u001b[39m, partial: \u001b[38;5;28mbool\u001b[39m \u001b[38;5;241m=\u001b[39m \u001b[38;5;28;01mFalse\u001b[39;00m) \u001b[38;5;241m-\u001b[39m\u001b[38;5;241m>\u001b[39m Any:\n\u001b[0;32m    220\u001b[0m \u001b[38;5;250m    \u001b[39m\u001b[38;5;124;03m\"\"\"Parse the result of an LLM call to a list of tool calls.\u001b[39;00m\n\u001b[0;32m    221\u001b[0m \n\u001b[0;32m    222\u001b[0m \u001b[38;5;124;03m    Args:\u001b[39;00m\n\u001b[1;32m   (...)\u001b[0m\n\u001b[0;32m    231\u001b[0m \u001b[38;5;124;03m        The parsed tool calls.\u001b[39;00m\n\u001b[0;32m    232\u001b[0m \u001b[38;5;124;03m    \"\"\"\u001b[39;00m\n\u001b[1;32m--> 233\u001b[0m     parsed_result \u001b[38;5;241m=\u001b[39m \u001b[38;5;28;43msuper\u001b[39;49m\u001b[43m(\u001b[49m\u001b[43m)\u001b[49m\u001b[38;5;241;43m.\u001b[39;49m\u001b[43mparse_result\u001b[49m\u001b[43m(\u001b[49m\u001b[43mresult\u001b[49m\u001b[43m,\u001b[49m\u001b[43m \u001b[49m\u001b[43mpartial\u001b[49m\u001b[38;5;241;43m=\u001b[39;49m\u001b[43mpartial\u001b[49m\u001b[43m)\u001b[49m\n\u001b[0;32m    235\u001b[0m     \u001b[38;5;28;01mif\u001b[39;00m \u001b[38;5;28mself\u001b[39m\u001b[38;5;241m.\u001b[39mfirst_tool_only:\n\u001b[0;32m    236\u001b[0m         single_result \u001b[38;5;241m=\u001b[39m (\n\u001b[0;32m    237\u001b[0m             parsed_result\n\u001b[0;32m    238\u001b[0m             \u001b[38;5;28;01mif\u001b[39;00m parsed_result \u001b[38;5;129;01mand\u001b[39;00m parsed_result[\u001b[38;5;124m\"\u001b[39m\u001b[38;5;124mtype\u001b[39m\u001b[38;5;124m\"\u001b[39m] \u001b[38;5;241m==\u001b[39m \u001b[38;5;28mself\u001b[39m\u001b[38;5;241m.\u001b[39mkey_name\n\u001b[0;32m    239\u001b[0m             \u001b[38;5;28;01melse\u001b[39;00m \u001b[38;5;28;01mNone\u001b[39;00m\n\u001b[0;32m    240\u001b[0m         )\n",
      "File \u001b[1;32mc:\\Users\\GiovanniGiacometti\\Desktop\\hackathon\\.venv\\Lib\\site-packages\\langchain_core\\output_parsers\\openai_tools.py:187\u001b[0m, in \u001b[0;36mJsonOutputToolsParser.parse_result\u001b[1;34m(self, result, partial)\u001b[0m\n\u001b[0;32m    185\u001b[0m     \u001b[38;5;28;01mexcept\u001b[39;00m \u001b[38;5;167;01mKeyError\u001b[39;00m:\n\u001b[0;32m    186\u001b[0m         \u001b[38;5;28;01mreturn\u001b[39;00m []\n\u001b[1;32m--> 187\u001b[0m     tool_calls \u001b[38;5;241m=\u001b[39m \u001b[43mparse_tool_calls\u001b[49m\u001b[43m(\u001b[49m\n\u001b[0;32m    188\u001b[0m \u001b[43m        \u001b[49m\u001b[43mraw_tool_calls\u001b[49m\u001b[43m,\u001b[49m\n\u001b[0;32m    189\u001b[0m \u001b[43m        \u001b[49m\u001b[43mpartial\u001b[49m\u001b[38;5;241;43m=\u001b[39;49m\u001b[43mpartial\u001b[49m\u001b[43m,\u001b[49m\n\u001b[0;32m    190\u001b[0m \u001b[43m        \u001b[49m\u001b[43mstrict\u001b[49m\u001b[38;5;241;43m=\u001b[39;49m\u001b[38;5;28;43mself\u001b[39;49m\u001b[38;5;241;43m.\u001b[39;49m\u001b[43mstrict\u001b[49m\u001b[43m,\u001b[49m\n\u001b[0;32m    191\u001b[0m \u001b[43m        \u001b[49m\u001b[43mreturn_id\u001b[49m\u001b[38;5;241;43m=\u001b[39;49m\u001b[38;5;28;43mself\u001b[39;49m\u001b[38;5;241;43m.\u001b[39;49m\u001b[43mreturn_id\u001b[49m\u001b[43m,\u001b[49m\n\u001b[0;32m    192\u001b[0m \u001b[43m    \u001b[49m\u001b[43m)\u001b[49m\n\u001b[0;32m    193\u001b[0m \u001b[38;5;66;03m# for backwards compatibility\u001b[39;00m\n\u001b[0;32m    194\u001b[0m \u001b[38;5;28;01mfor\u001b[39;00m tc \u001b[38;5;129;01min\u001b[39;00m tool_calls:\n",
      "File \u001b[1;32mc:\\Users\\GiovanniGiacometti\\Desktop\\hackathon\\.venv\\Lib\\site-packages\\langchain_core\\output_parsers\\openai_tools.py:127\u001b[0m, in \u001b[0;36mparse_tool_calls\u001b[1;34m(raw_tool_calls, partial, strict, return_id)\u001b[0m\n\u001b[0;32m    125\u001b[0m         \u001b[38;5;28;01mcontinue\u001b[39;00m\n\u001b[0;32m    126\u001b[0m \u001b[38;5;28;01mif\u001b[39;00m exceptions:\n\u001b[1;32m--> 127\u001b[0m     \u001b[38;5;28;01mraise\u001b[39;00m OutputParserException(\u001b[38;5;124m\"\u001b[39m\u001b[38;5;130;01m\\n\u001b[39;00m\u001b[38;5;130;01m\\n\u001b[39;00m\u001b[38;5;124m\"\u001b[39m\u001b[38;5;241m.\u001b[39mjoin(exceptions))\n\u001b[0;32m    128\u001b[0m \u001b[38;5;28;01mreturn\u001b[39;00m final_tools\n",
      "\u001b[1;31mOutputParserException\u001b[0m: Function DishMetadata arguments:\n\n{\"dish_techniques\": [\"Marinatura Temporale Sincronizzata\", \"Grigliatura Elettro-Molecolare a Spaziatura Variabile\", \"Taglio a Risonanza Sonica Rigenerativa\", \"Cottura con radiazione dorata di una stella lontana\", \"Infusione di Nettare di Sirena e Salsa Szechuan\", \"Addensamento con Amido di Stellarion\", \"Salsa vellutata dal gusto ipnotico e rigenerante\", \"Echeggiamento delle maree dell'universo\", \"Contrasto netto e vibrante nel piatto\", \"Esplorazione di dimensioni e possibilità\", \"Sapori che continuano a evolversi e intrecciarsi sul tuo palato\", \"Un'esperienza gastronomica che solo 'L'Essenza Cosmica' può offrire\", \"Creazione interstellare\", \"Stratificazione di sapori\", \"Invito il palato a esplorare ogni angolo di questa creazione interstellare\", \"Sigillatura dei succhi e degli aromi attraverso un campo energetico calibrato\", \"Creazione di una salsa vellutata dal gusto ipnotico e rigenerante\", \"Esecuzione di un Taglio a Risonanza Sonica Rigenerativa sui contorni di verdure stagionali\", \"Preservazione della freschezza e intensità di sapore per un contrasto netto e vibrante nel piatto\", \"Trasformazione della cena in una esplorazione di dimensioni e possibilità\", \"Portare oltre i confini del tempo e dello spazio, attraverso sapori che continuano a evolversi e intrecciarsi sul tuo palato\", \"Offerta di un'esperienza gastronomica che solo 'L'Essenza Cosmica' può offrire\", \"Creazione di un'opera d'arte culinaria\", \"Esecuzione di una sinfonia di sapori e potenza creativa\", \"Inizio con una Marinatura Temporale Sincronizzata della pregiatissima Carne di Drago\", \"Infusione di spezie esotiche nel suo tenerissimo tessuto in pochi minuti\", \"Trasporto in un mondo dove le ore si piegano e dilatano per esaltare il gusto\", \"Creazione di una stratificazione di sapori che invita il palato a esplorare ogni angolo di questa creazione interstellare\", \"Sigillatura dei succhi e degli aromi attraverso un campo energetico calibrato\", \"Creazione di una salsa vellutata dal gusto ipnotico e rigenerante\", \"Esecuzione di un Taglio a Risonanza Sonica Rigenerativa sui contorni di verdure stagionali\", \"Preservazione della freschezza e intensità di sapore per un contrasto netto e vibrante nel piatto\", \"Trasformazione della cena in una esplorazione di dimensioni e possibilità\", \"Portare oltre i confini del tempo e dello spazio, attraverso sapori che continuano a evolversi e intrecciarsi sul tuo palato\", \"Offerta di un'esperienza gastronomica che solo 'L'Essenza Cosmica' può offrire\", \"Creazione di un'opera d'arte culinaria\", \"Esecuzione di una sinfonia di sapori e potenza creativa\", \"Inizio con una Marinatura Temporale Sincronizzata della pregiatissima Carne di Drago\", \"Infusione di spezie esotiche nel suo tenerissimo tessuto in pochi minuti\", \"Trasporto in un mondo dove le ore si piegano e dilatano per esaltare il gusto\", \"Creazione di una stratificazione di sapori che invita il palato a esplorare ogni angolo di questa creazione interstellare\", \"Sigillatura dei succhi e degli aromi attraverso un campo energetico calibrato\", \"Creazione di una salsa vellutata dal gusto ipnotico e rigenerante\", \"Esecuzione di un Taglio a Risonanza Sonica Rigenerativa sui contorni di verdure stagionali\", \"Preservazione della freschezza e intensità di sapore per un contrasto netto e vibrante nel piato\", \"Trasformazione della cena in una esplorazione di dimensioni e possibilità\", \"Portare oltre i confini del tempo e dello spazio, attraverso sapori che continuano a evolversi e intrecciarsi sul tuo palato\", \"Offerta di un'\n\nare not valid JSON. Received JSONDecodeError Unterminated string starting at: line 1 column 3512 (char 3511)\nFor troubleshooting, visit: https://python.langchain.com/docs/troubleshooting/errors/OUTPUT_PARSING_FAILURE \nFor troubleshooting, visit: https://python.langchain.com/docs/troubleshooting/errors/OUTPUT_PARSING_FAILURE "
     ]
    }
   ],
   "source": [
    "t = metadata_extract_chain.invoke(\n",
    "    {\n",
    "        \"document\": md_header_splits[1].page_content,\n",
    "        \"metadata\": dish_metadata_keys,\n",
    "    }\n",
    ")"
   ]
  },
  {
   "cell_type": "code",
   "execution_count": null,
   "metadata": {},
   "outputs": [],
   "source": [
    "for md_header_split in md_header_splits:\n",
    "    vectorstore.add_texts(\n",
    "        texts=[md_header_split.page_content],\n",
    "        metadatas=md_header_split.metadata,\n",
    "    )"
   ]
  }
 ],
 "metadata": {
  "kernelspec": {
   "display_name": ".venv",
   "language": "python",
   "name": "python3"
  },
  "language_info": {
   "codemirror_mode": {
    "name": "ipython",
    "version": 3
   },
   "file_extension": ".py",
   "mimetype": "text/x-python",
   "name": "python",
   "nbconvert_exporter": "python",
   "pygments_lexer": "ipython3",
   "version": "3.12.7"
  }
 },
 "nbformat": 4,
 "nbformat_minor": 2
}
