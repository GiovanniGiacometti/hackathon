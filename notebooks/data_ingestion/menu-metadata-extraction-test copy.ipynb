{
 "cells": [
  {
   "cell_type": "code",
   "execution_count": 105,
   "metadata": {},
   "outputs": [],
   "source": [
    "import os\n",
    "\n",
    "while not os.getcwd().endswith(\"hackathon\"):\n",
    "    os.chdir(\"..\")\n",
    "    print(f\"Now in {os.getcwd()}\")"
   ]
  },
  {
   "cell_type": "code",
   "execution_count": 106,
   "metadata": {},
   "outputs": [],
   "source": [
    "MENU_FOLDER = \"competition_data/Menu/\""
   ]
  },
  {
   "cell_type": "code",
   "execution_count": 107,
   "metadata": {},
   "outputs": [],
   "source": [
    "file_list = os.listdir(MENU_FOLDER)"
   ]
  },
  {
   "cell_type": "code",
   "execution_count": 108,
   "metadata": {},
   "outputs": [],
   "source": [
    "file_paths = []\n",
    "for dir_entry in os.scandir(MENU_FOLDER):\n",
    "    file_paths.append(dir_entry.path)"
   ]
  },
  {
   "cell_type": "code",
   "execution_count": 109,
   "metadata": {},
   "outputs": [
    {
     "name": "stdout",
     "output_type": "stream",
     "text": [
      "Processing competition_data/Menu/L Essenza Cosmica.pdf...\n",
      "[                                        ] (0/6=====[======                                  ] (1/6======[=============                           ] (2/======[====================                    ] (3/6=====[==========================              ] (4/6======[=================================       ] (5/======[========================================] (6/6]\n"
     ]
    }
   ],
   "source": [
    "import pymupdf4llm\n",
    "\n",
    "md_text = pymupdf4llm.to_markdown(file_paths[11])"
   ]
  },
  {
   "cell_type": "code",
   "execution_count": 110,
   "metadata": {},
   "outputs": [],
   "source": [
    "from hackathon.utils.settings.settings_provider import SettingsProvider\n",
    "import warnings\n",
    "from langchain_chroma.vectorstores import Chroma\n",
    "from langchain_huggingface import HuggingFaceEmbeddings\n",
    "\n",
    "with warnings.catch_warnings(action=\"ignore\"):\n",
    "    from langchain_ibm import ChatWatsonx\n",
    "import dotenv\n",
    "\n",
    "dotenv.load_dotenv();"
   ]
  },
  {
   "cell_type": "code",
   "execution_count": 111,
   "metadata": {},
   "outputs": [],
   "source": [
    "settings_provider = SettingsProvider()\n",
    "\n",
    "model_kwargs = {\"device\": \"cpu\"}\n",
    "encode_kwargs = {\"normalize_embeddings\": False}\n",
    "\n",
    "vectorstore = Chroma(\n",
    "    persist_directory=\"data/metadata-tests\",\n",
    "    embedding_function=HuggingFaceEmbeddings(\n",
    "        model_name=settings_provider.get_embeddings_model_name(),\n",
    "        model_kwargs=model_kwargs,\n",
    "        encode_kwargs=encode_kwargs,\n",
    "    ),\n",
    ")"
   ]
  },
  {
   "cell_type": "code",
   "execution_count": 112,
   "metadata": {},
   "outputs": [],
   "source": [
    "settings_provider = SettingsProvider()\n",
    "\n",
    "llm = ChatWatsonx(\n",
    "    model_id=settings_provider.get_ibm_model_name(),  # type: ignore\n",
    "    url=settings_provider.get_ibm_endpoint_url(),  # type: ignore\n",
    "    project_id=settings_provider.get_ibm_project_id(),  # type: ignore\n",
    ")"
   ]
  },
  {
   "cell_type": "code",
   "execution_count": 113,
   "metadata": {},
   "outputs": [
    {
     "data": {
      "text/plain": [
       "[Document(metadata={}, page_content='**Ristorante \"L\\'Essenza Cosmica\"**  \\nChef Alessandro Stellanova  \\nSu Pandora, dove il confine tra la natura rigogliosa e l\\'infinito universo si annulla, sorge \"L\\'Essenza\\nCosmica\", un ristorante che sfida le leggi conosciute dell\\'esperienza culinaria. Qui, lo Chef Alessandro\\nStellanova non si limita a cucinare; crea simbiosi tra l\\'arte del gusto e l\\'energia vivente del pianeta.  \\nIl viaggio culinario di Stellanova ebbe origine in un piccolo angolo del suo mondo natale, dove comprese che\\nla trasformazione degli ingredienti rispecchiava le strutture essenziali dell\\'universo stesso. Questa intuizione\\nlo ha portato a perfezionare una straordinaria padronanza della Psionica (Livello V), che utilizza per ideare\\nricette che toccano l\\'essenza stessa dell\\'esistenza. I visitatori descrivono piatti che evocano memorie di vite\\nnon vissute e sapori che risuonano in dimensioni intricate.  \\nNel suo laboratorio culinario, la Quantistica (Livello 3) prende forma attraverso ingredienti autoctoni di\\nPandora, creando un balletto di possibilità in continua evoluzione. Ogni piatto emerge multiformalmente,\\ncambiando il proprio significato e la propria essenza fino al momento in cui viene servito. Un piatto di\\npancetta di banshee potrebbe simultaneamente racchiudere un ricordo lontano, una visione futura e un\\npresente mutevole.  \\nStellanova gioca anche con il tempo grazie al suo controllo dei flussi Temporali (Livello I). Gli ingredienti\\nmaturano alla perfezione in momenti cronometrati con precisione, mentre sottili aggiustamenti Gravitazionali\\n(Livello I) creano composizioni che sfidano la logica e la percezione. Immaginate un dolce che galleggia\\ncome una nube di polline luminescente, mentre una zuppa rivela strati di sapore che si materializzano in\\nmodi squisitamente inaspettati.  \\n\"L\\'Essenza Cosmica\" non è solo un ristorante su Pandora; è un portale dove la scienza culinaria abbraccia\\nla meraviglia universale. Ogni pasto è un\\'esplorazione degli infiniti misteri della realtà e un invito a ridefinire\\nla nostra connessione con il cosmo attraverso il gusto.  \\nLe prenotazioni sono aperte soltanto quando le armonie planetarie su Pandora lo consentono, e il menu\\nmuta in risposta agli echi quantici del pianeta. Chi ha il privilegio di attraversare queste soglie non si limita a\\nvivere un semplice pasto, ma diventa parte di un\\'esperienza che ridefinisce la comprensione dei confini tra\\ncucina e realtà cosmica.  \\nCon la sua esperienza, ha ottenuto la certificazione LTK di livello III.'),\n",
       " Document(metadata={'header_1': 'Menu', 'dish_name': 'Nebulosa di Drago Interdimensionale'}, page_content='Un viaggio sensoriale attraverso le stelle e l\\'oceano, questo piatto è una sinfonia di sapori e potenza\\ncreativa. Iniziamo con una Marinatura Temporale Sincronizzata della pregiatissima Carne di Drago,\\ninfondendo spezie esotiche nel suo tenerissimo tessuto in pochi minuti, trasportandoti in un mondo dove le\\nore si piegano e dilatano per esaltare il gusto. Successivamente, la carne viene sottoposta a Grigliatura\\nElettro-Molecolare a Spaziatura Variabile che sigilla i succhi e gli aromi attraverso un campo energetico\\ncalibrato, creando una stratificazione di sapori che invita il palato a esplorare ogni angolo di questa\\ncreazione interstellare.  \\nAccompagnato dal Pane di Luce, cotto con la radiazione dorata di una stella lontana, che illumina il piatto\\ncon la sua consistenza soffice e il suo nutrimento stellare, mentre l\\'Amido di Stellarion addensa un infuso\\naromatico di Nettare di Sirena e Salsa Szechuan, creando una salsa vellutata dal gusto ipnotico e  \\n-----  \\nrigenerante, echeggiante delle maree dell\\'universo.  \\nA completare quest\\'opera d\\'arte culinaria, eseguiamo un Taglio a Risonanza Sonica Rigenerativa sui\\ncontorni di verdure stagionali, preservando la loro freschezza e intensità di sapore per un contrasto netto,\\nvibrante nel piatto. Questa cena si trasforma in una esplorazione di dimensioni e possibilità, portandoti oltre i\\nconfini del tempo e dello spazio, attraverso sapori che continuano a evolversi e intrecciarsi sul tuo palato.\\nUn\\'esperienza gastronomica che solo \"L\\'Essenza Cosmica\" può offrire.'),\n",
       " Document(metadata={'header_1': 'Menu', 'dish_name': \"Sinfonia Cosmica: La Danza dell'Universo\"}, page_content=\"In questo capolavoro culinario, lo Chef Alessandro Stellanova intreccia il cosmo con la cucina, presentando\\nuna creazione che esplora i limiti della nostra percezione e risveglia sentimenti di meraviglia universale. Ogni\\nboccone è una celebrazione di sapori che trasportano il palato attraverso dimensioni sconosciute.  \\nLa base del piatto è una delicata e soffice fetta di Pane di Luce, la cui energia radiante accoglie al centro un\\nrisotto di Alghe Bioluminescenti e Foglie di Nebulosa. Al risotto vi si sprigiona una luce soffusa che riflette i\\ncolori cangianti dell'universo, in perfetta sintonia con una nota agrumata in continua trasformazione.  \\nAdagiata sopra, una tenera fetta di Carne di Drago viene cotta sapientemente con la Cottura Olografica\\n_Quantum Fluttuante, garantendo una texture straordinariamente succosa e un sapore speziato che si evolve_\\na ogni boccone. La carne è avvolta da un velo di Pane degli Abissi, la cui profondità minerale esalta la\\ncomplessità del piatto.  \\nA lato, un brodo di Lacrime di Andromeda, arricchito con Polvere di Crononite, invita a rallentare ed\\nassaporare, avvolgendo il commensale in una sensazione di calma cosmica mentre una colonia di Mycoflora\\nfresca esplode al contatto, aggiungendo complessità al piatto.  \\nInfine, l’intensità del sapore è sublimata dall’Affumicatura a Stratificazione Quantica, che dona al piatto\\nun'armonia affumicata penetrante e profonda, come se il sapore emergesse dall'interno degli elementi stessi.\\nOgni assaggio è una danza tra passato, presente e futuro: un’esperienza che non è solo culinaria ma una\\nvera e propria esplorazione dell'essenza cosmica della nostra esistenza.\"),\n",
       " Document(metadata={'header_1': 'Menu', 'dish_name': 'Interstellar Requiem'}, page_content='Un viaggio sensoriale oltre i confini del tempo e dello spazio, \"Interstellar Requiem\" è un\\'ode alla sinfonia\\ncosmica delle stelle, splendidamente orchestrata dallo Chef Alessandro Stellanova. Al cuore di questo\\ncapolavoro culinario, un raviolo traslucido avvolge un cuore pulsante di Colonia di Mycoflora fermentata\\npsionicamente, la cui essenza è stata accuratamente ottimizzata per risvegliare un ricco e complesso profilo\\naromatico che danza in sincronia con i desideri individuali degli ospiti.  \\nLa superficie del raviolo è adornata da delicati frammenti croccanti di Shard di Prisma Stellare, i cui riflessi\\niridescenti catturano lo sguardo e stimolano l\\'immaginazione, rappresentando il fragile equilibrio di un\\nuniverso in continuo divenire. Questi vengono disposti su una zuppa eterea di Alghe Bioluminescenti\\nfinemente spezzettate, che emettono una luminosità tranquilla e avvolgente, come un cielo notturno\\ncostellato di luce soffusa.  \\nQui, funghi Orbitali, misteriosi e sfumati, sfiorano il palato con il loro sapore inteso e terroso, consentendo al\\ncommensale di sperimentare il vasto silenzio dello spazio profondo. Il piatto è poi delicatamente profumato\\ncon una nevicata di Essenza di Speziaria, che offre un tocco aromatico esotico e avvolgente, come il vento\\nsolare che porta con sé profumi lontani.  \\n-----  \\nInfine, l\\'intero piatto è cotto con la Cottura a Vapore Termocinetica Multipla e poi fermentato con la tecnica\\nFermentazione Psionica Energetica, che avvolge il raviolo in vortici di vapore sapientemente controllati,\\ninfondendo al piatto una straordinaria omogeneità e armonia di sapori, dal cuore alla superficie. \"Interstellar\\nRequiem\" è non solo un piatto, ma un\\'opera d\\'arte che trasforma la cena in un\\'esperienza trascendente di\\nesplorazione dell\\'universo stesso.'),\n",
       " Document(metadata={'header_1': 'Menu', 'dish_name': 'Nebulae Di-Cedri Risvegliati'}, page_content='Esplora il cosmo culinario con il nostro \"Nebulae Di-Cedri Risvegliati\", un piatto che sfida l\\'immaginazione e\\nrisveglia i sensi. Al cuore di questa creazione, la Polvere di Pulsar infonde una vibrante energia ai Granuli di\\nNebbia Arcobaleno, sublimando il piatto in uno spettacolo visivo che danza nel piatto come una galassia\\nlontana. Le Radici di Singolarità, abilmente integrate attraverso la Bollitura Infrasonica Armonizzata, offrono\\nuna base terrosa e densa che accompagna perfettamente le note frizzanti della polvere stellare.  \\nLe Foglie di Mandragora, trattate con la Cottura Olografica Quantum Fluttuante, donano al piatto un\\nequilibrio delicato tra calma e vivacità, mentre la Salsa Szechuan aggiunge un tocco di sapore esotico che\\navvolge il palato, portando il piatto a nuove altitudini aromatiche. Il Baccacedro, scolpito con il Taglio a\\nRisonanza Sonica Rigenerativa, conserva la sua freschezza e le sue proprietà curative, emergendo come\\nuna dolce profezia di rinascita e continuazione.  \\nCon spore Quantiche disperse come una pioggia di stelle, ogni boccone è un\\'esplosione di sapori dinamici e\\nsintetici. L\\'intero piatto viene ultimato sotto un lieve vorticare grazie alla Cottura Sottovuoto Bioma Sintetico e\\nalla cottura Sottovuoto Frugale Energeticamente Negativa, dove micro-organismi coordinano una sinfonia di\\numori e consistenze, garantendo una perfezione complessiva che invita ogni ospite a testimoniare il confine\\nindistinto tra la cucina e l\\'universo.  \\nPrenota il tuo viaggio culinario attraverso le stelle e permetti che \"Nebulae Di-Cedri Risvegliati\" ti porti in\\nun\\'avventura di gusto senza pari.'),\n",
       " Document(metadata={'header_1': 'Menu', 'dish_name': \"Nebulosa dell'Infinito: Un Viaggio attraverso il Cosmo del Gusto\"}, page_content='Lasciatevi trasportare in un\\'esperienza culinaria al di là del tempo e dello spazio con la nostra \"Nebulosa\\ndell\\'Infinito\". Questo piatto è un capolavoro di sapori intrecciati, in cui ogni boccone svela nuovi orizzonti\\nsensoriali.  \\nAl centro del piatto risiede un filetto di carne di Kraken sapientemente sottoposto ad Affumicatura Temporale\\nRisonante. Questo processo, unico nel suo genere, condensa anni di affumicatura in pochi istanti,\\ninfondendo la carne con sapori marini profondi e complessi che evocano la memoria di antiche maree.  \\nAccompagnano il filetto delle tagliatelle \"Spaghi del Sole\", la cui pasta dorata si fonde con la calda energia\\ndel sole grazie alla tecnica Cottura a Vapore Risonante Simbiotico, servite con Granuli di Nebbia\\nArcobaleno, che offrono un\\'esplosione di colori e sapori, danzando gioiosi nel palato come un arcobaleno\\ncosmico condensato.  \\nUn ornamento di Alghe Bioluminescenti aggiunge una dimensione visiva e luminosa, fluttuando sopra una\\nsottile costruzione di Fibra di Sintetex, che esalta la complessità strutturale del piatto. Introdotte\\nsapientemente nel piatto, le Shard di Materia Oscura donano un misterioso retrogusto che sfida le leggi della\\ngravità e della percezione.  \\nA lato, un cubo di Pane di Luce, cotto con la radiosa energia di una stella vicina, accompagna il piatto,\\noffrendo una consistenza soffice e un nutrimento energetico. Un tocco di Nettare di Sirena, con le sue\\nproprietà rigeneranti, viene servito in una flûte per completare il viaggio sensoriale.  \\n-----  \\nInfine, una sottile Salsa Szechuan interdimensionale, versata con maestria, unisce ogni elemento del piatto,\\nesaltando il sapore salmastro della Carne di Balena spaziale che si cela come un segreto tra gli strati del\\npiatto.  \\nLa \"Nebulosa dell\\'Infinito\" non è solo un\\'esperienza culinaria, ma una vera e propria esplorazione attraverso i\\nmisteri del cosmo gastronomico, destinata a pedurare nei vostri ricordi come un viaggio al di là dell\\'infinito.'),\n",
       " Document(metadata={'header_1': 'Menu', 'dish_name': 'Nebulosa Eterna'}, page_content='Benvenuti in un viaggio sensoriale senza precedenti, dove la cucina e l\\'universo si fondono per creare la\\n\"Nebulosa Eterna\". Questo piatto incarna l\\'essenza cosmica del nostro ristorante, unendo ingredienti\\nleggendari e tecniche culinarie avanzate per proporvi un\\'esperienza gastronomica trascendente.  \\nAlla base del piatto troverete il \"Riso di Cassandra\", cotto alla perfezione attraverso la nostra tecnica di\\nBollitura Entropica Sincronizzata. Questo processo preserva tutte le sue qualità nutrizionali, mentre le\\nminuscole sacche di ebollizione ne enfatizzano la brillante traslucenza e il gusto incantato di costellazioni\\nlontane.  \\nLa \"Carne di Drago\", ingrediente raro e pregiato, è sottoposta a un\\'affumicatura a Stratificazione Quantica,\\ngarantendo una penetrazione del sapore speziato che sembra emettere una fragranza antica dal cuore\\nstesso della carne. In ogni boccone si avverte la tenerezza straordinaria di questo leggendario ingrediente.  \\nL\\'intero piatto è decorato con \"Alghe Bioluminescenti\", la cui luce soffusa porta in tavola l\\'incanto delle\\nprofondità marine, mentre le \"Foglie di Nebulosa\" aggiungono un tocco etereo, mutando colore e sapore in\\nrisposta alla luce ultravioletta, creando un balletto di sfumature e sapori.  \\nAd accompagnare il piatto, serviamo una ciotolina di \"Granuli di Nebbia Arcobaleno\", che aggiungono un\\ntocco di festa e giocosa eleganza, esaltando ulteriormente l’esperienza multisensoriale. \"Pane degli Abissi\"\\nserve da accompagnamento, offrendosi come base solida e ricca da cui esplorare gli intricati aromi del\\npiatto.  \\nOgni elemento è bagnato da \"Plasma Vitale\", che avvolge gli ingredienti con la sua luminosità nutriente,\\nunendoli in un concerto armonico di sapori e luce. L\\'intero piatto è contornato da un delicato velo di\\n\"Essenza di Vuoto\", che conferisce un tocco finale di etereo infinito, invitando chiunque lo gusti a navigare\\nattraverso il tempo e lo spazio con ogni forchettata.  \\nPer finire, il piatto è impreziosito da \"Cristalli di Memoria\", che rilasciano un sapore nostalgico, risvegliando\\nricordi sopiti e emozioni dimenticate, rendendo ogni assaggio un tuffo in una dimensione parallela di piacere\\nculinario.  \\n_Alla Nebulosa Eterna, ogni boccone diviene un incontro sublime con l\\'infinito._'),\n",
       " Document(metadata={'header_1': 'Menu', 'dish_name': 'Risveglio Cosmico'}, page_content='Scoprite un incredibile viaggio culinario attraverso l\\'universo con il nostro \"Risveglio Cosmico\", una sinfonia\\ndi sapori e tecniche innovative che trasforma ogni boccone in un\\'esperienza multidimensionale.  \\nIl piatto presenta una base di Carpaccio di Carne di Kraken, sottilmente affettato mediante Pulsazioni\\nQuantistiche, preservando la sua consistenza unica. Ogni fetta è impreziosita da Muffa Lunare, che\\naggiunge una delicatezza argentea, e un tocco di Sale Temporale, evocando memorie atemporali con un\\ntocco salmastro e nostalgico.  \\n-----  \\nAl centro un Risotto Galattico, preparato con Farina di Nettuno e arricchito con cristallini di Amido di\\nStellarion, per una consistenza perfettamente cremosa. La Cottura Sottovuoto Bioma Sintetico fa emergere\\nnote aromatiche, creando un micro-ambiente ideale che avvolge ogni chicco di riso in un abbraccio umido e\\nsaporito. Il Pane di Luce, cotto con la luce di una stella lontana, viene servito a lato, permettendo ai\\ncommensali di assaporare la sua mollica soffice, ricca di energia.  \\nIl tutto concluso con una mousse di Shard di Prisma Stellare, la cui croccantezza riflette l\\'intera gamma dei\\ncolori dell\\'universo. Infusa e plasmata attraverso l\\'Affumicatura Psionica Sensoriale, offre un sapore\\naffumicato delicatamente personalizzato. L\\'Affumicatura Temporale Risonante poi condensa anni di sviluppo\\naromatico in pochi istanti, completando l\\'esperienza con una dolcezza profonda e complessa che viaggia\\noltre il tempo.  \\nL\\'occasione per assaporare il \"Risveglio Cosmico\" è rara e preziosa, riservata a quei momenti in cui\\nl\\'universo stesso si allinea a favore dell\\'esperienza sublime. Benvenuti in un viaggio tra i confini del noto e\\ndel possibile, dove ogni piatto racconta una storia e ogni assaggio è un passo tra le stelle.'),\n",
       " Document(metadata={'header_1': 'Menu', 'dish_name': 'Aurora del Cosmo'}, page_content='Benvenuti a un\\'esperienza culinaria che trascende i confini del tempo e dello spazio. \"Aurora del Cosmo\" è\\nun piatto che unisce gli elementi più misteriosi e affascinanti dell\\'universo in un\\'unica composizione,\\nstimolando i sensi e risvegliando l\\'immaginazione.  \\nLa base del piatto è una vellutata di Radici di Singolarità, la cui consistenza terrosa e unica è esaltata\\nattraverso la Cottura Sottovuoto Frugale Energeticamente Negativa e la Cottura con Microonde Entropiche\\n_Sincronizzate. Questo processo innovativo sfrutta le fluttuazioni quantistiche del vuoto, rendendo la crema_\\nstraordinariamente morbida e sostenibile dal punto di vista energetico.  \\nSospese sopra la vellutata si trovano sfere di Nettare di Sirena, create con la tecnica della Sferificazione a\\n_Gravità Psionica Variabile. Queste gemme liquide, dalla consistenza raffinata e dal gusto che evoca_\\nl\\'oceano, esplodono al palato, offrendo un\\'esperienza multisensoriale di pura magia rigenerante.  \\nA giacere delicatamente sulla superficie, si distinguono Shard di Prisma Stellare, che aggiungono una\\ncroccantezza eterea e un gioco di luci ammaliante. Questi frammenti galattici riflettono la luce ambiente\\ncreando un arcobaleno di colori che affascina il cliente ancora prima del primo assaggio.  \\nA completare il viaggio, un nido di Foglie di Nebulosa tritate, che cambiano colore e sapore in risposta alla\\nluce ultravioletta grazie alle tecniche Cottura a Vapore Termocinetica Multipla e Cottura Sottovuoto Frugale\\n_Energeticamente Negativa, si posa leggermente sulle sfere. Queste foglie, affumicate con una sofisticata_\\n_Affumicatura a Stratificazione Quantica, infondono al piatto un aroma tanto vasto quanto l\\'universo stesso._  \\nAl centro del piatto, una struttura lieve di Fibra di Sintetex modellata in forme futuristiche, offre una fonte di\\nproteine che aggiunge coesione e texture, mentre i Petali di Eco vengono disposti tutt\\'intorno, riflettendo i\\nsuoni ambientali per un\\'esperienza culinaria rilassante e immersiva.  \\nQuesto piatto non è solo una degustazione, ma un ponte verso le stelle, un\\'opera d\\'arte che esprime la\\nmaestria dello Chef Alessandro Stellanova nel fondere la scienza culinaria con i misteri del cosmo. Aurora\\n_del Cosmo trasforma una cena in un viaggio interstellare, risvegliando memorie di galassie lontane e_\\nprofezie di futuri inesplorati.'),\n",
       " Document(metadata={'header_1': 'Menu', 'dish_name': 'Galassia nel Piatto: Sinfonia di Sapori e Dimensioni'}, page_content='-----  \\nLasciatevi trasportare in un viaggio attraverso l\\'universo con \"Galassia nel Piatto\", un\\'opera culinaria che\\nsfida le leggi della realtà e accarezza l\\'anima. Iniziamo con i Gnocchi del Crepuscolo, plasmati durante\\nl\\'ora magica, che galleggiano maestosamente in una vellutata essenza di Nettare di Sirena. Ogni morso di\\nquesti bocconcini morbidi rilascia un delicato sapore di spezie celestiali, evocando l\\'immagine di un tramonto\\ncolorato.  \\nLa Lattuga Namecciana, cesellata con cura attraverso l\\'Affettamento a Pulsazioni Quantistiche, giace al\\ncentro della creazione. Le sue foglie verdi fosforescenti danzano sotto la luce, infondendo energia\\nrigenerativa e un tocco di freschezza vibrante. Intorno a lei, frammenti di Radici di Singolarità, bolliti\\narmonicamente tramite la nostra tecnica esclusiva di Bollitura Infrasonica Armonizzata, arricchiscono il piatto\\ndi una profondità terrosa e un aroma che risuona nei sensi.  \\nIl tuffo finale nella dimensione cosmica viene da Frammenti di Supernova cristallizzati, che, con il loro\\nsapore amplificato, emergono come stelle luminose nel mare di sapori. Sopra tutto, una pioggia di Petali di\\n**Eco, leggermente tostati, aggiunge una componente sonora unica, armonizzando con delicatezza**\\nl\\'esperienza mentre riflettono le melodie della cucina.  \\nOgni elemento, orchestrato con la Cottura Sottovuoto Bioma Sintetico, si bilancia all\\'interno di un\\nmicrocosmo in evoluzione, assicurando che ogni assaggio sia un\\'esplorazione sensoriale del cosmo.\\n\"Galassia nel Piatto\" non è solo un pasto; è un portale verso mondi lontani, un invito a scoprire l\\'essenza\\nstessa dell\\'universo degustato.'),\n",
       " Document(metadata={'header_1': 'Menu', 'dish_name': 'Nebulosa Celeste di Terrafirma'}, page_content='Sospeso tra sogno e realtà, il nostro piatto d\\'autore, la \"Nebulosa Celeste di Terrafirma\", è un\\'armoniosa\\nsinfonia di ingredienti celesti, rafforzato dalla magia delle tecniche culinarie d\\'avanguardia che solo lo Chef\\nAlessandro Stellanova è in grado di orchestrare.  \\nAlla base, un girotondo di Fusilli del Vento abbraccia una generosa porzione di Carne di Drago, infusa con\\nuna seducente affumicatura temporale risonante, che concentra secoli di aroma fumé in un istante di\\npiacere. Accanto, filetti di Carne di Balena spaziale, lentamente tessuti con Amalgamazione Sintetica\\nMolecolare, si poggiano dolcemente, offrendosi in una consistenza che fonde etereo e sostanzioso in un\\nsolo morso.  \\nLa sinfonia prosegue con un Uovo di Fenice, la cui cremosità rigenerante risplende come un’amalgama\\nluminosa su questo quadro gustativo. Scaldate con la luce di una stella distante, pagnotte di Pane di Luce\\nincorniciano il piatto, conferendo una croccantezza celestiale che racchiude e amplifica l\\'energetica\\nesplosione di sapore.  \\nA chiudere questo viaggio culinario, deliziose Lacrime di Unicorno sgorgano qua e là, aggiungendo un tocco\\ndi dolcezza miracolosa che stravolge e rinnova i sensi, convergendo con le onde aromatiche di un universo\\nlontano.  \\nLa \"Nebulosa Celeste di Terrafirma\" promette un incontro col sublime, un\\'odissea tra i confini dell\\'universo\\nculinario e l\\'infinito delle possibilità gustative: un piatto che esiste simultaneamente nella memoria, nel\\npresente e nel futuro delle vostre papille gustative.  \\n-----')]"
      ]
     },
     "execution_count": 113,
     "metadata": {},
     "output_type": "execute_result"
    }
   ],
   "source": [
    "from langchain_text_splitters import MarkdownHeaderTextSplitter\n",
    "from langchain_core.prompts import ChatPromptTemplate\n",
    "\n",
    "\n",
    "headers_to_split_on = [(\"#\", \"header_1\"), (\"##\", \"dish_name\")]\n",
    "\n",
    "markdown_splitter = MarkdownHeaderTextSplitter(headers_to_split_on)\n",
    "md_header_splits = markdown_splitter.split_text(md_text)\n",
    "md_header_splits"
   ]
  },
  {
   "cell_type": "code",
   "execution_count": 114,
   "metadata": {},
   "outputs": [],
   "source": [
    "from enum import Enum\n",
    "from pydantic import BaseModel, Field, model_validator\n",
    "import json\n",
    "\n",
    "\n",
    "class DishMetadata(BaseModel):\n",
    "    dish_techniques: list | None = Field(\n",
    "        description=\"Techniques involved in making the dish\", default_factory=list\n",
    "    )\n",
    "    dish_ingredients: list | None = Field(\n",
    "        description=\"Ingredients used in the dish\", default_factory=list\n",
    "    )\n",
    "\n",
    "\n",
    "dish_metadata_keys = list(DishMetadata.model_fields.keys())"
   ]
  },
  {
   "cell_type": "code",
   "execution_count": 115,
   "metadata": {},
   "outputs": [],
   "source": [
    "llm_with_struct = llm.with_structured_output(DishMetadata)"
   ]
  },
  {
   "cell_type": "code",
   "execution_count": 116,
   "metadata": {},
   "outputs": [],
   "source": [
    "prompt = \"\"\"\n",
    "You are an expert metadata extractor, focused on cuisine. These are the metadata you need to find: {metadata}.\n",
    "Look for the most relevant metadata values: they usually have strange names and start with capital letters.\n",
    "Provide only the metadata values, in a format dict like, for example:\n",
    "{{\n",
    "    \"metadata_name\": \"value\",\n",
    "    \"metadata_name_list\": [\"value1\", \"value2\"]\n",
    "}}\n",
    "nothing else\n",
    "\"\"\""
   ]
  },
  {
   "cell_type": "code",
   "execution_count": 117,
   "metadata": {},
   "outputs": [],
   "source": [
    "answer_prompt = ChatPromptTemplate.from_messages(\n",
    "    [\n",
    "        (\"system\", prompt),\n",
    "        (\n",
    "            \"human\",\n",
    "            \"Extract the metadata from the following document {document}\",\n",
    "        ),\n",
    "    ]\n",
    ")"
   ]
  },
  {
   "cell_type": "code",
   "execution_count": 118,
   "metadata": {},
   "outputs": [],
   "source": [
    "metadata_extract_chain = answer_prompt | llm"
   ]
  },
  {
   "cell_type": "code",
   "execution_count": 119,
   "metadata": {},
   "outputs": [],
   "source": [
    "# from IPython.display import display, Markdown\n",
    "\n",
    "# display(Markdown(md_header_splits[10].page_content))"
   ]
  },
  {
   "cell_type": "code",
   "execution_count": 120,
   "metadata": {},
   "outputs": [],
   "source": [
    "t = metadata_extract_chain.invoke(\n",
    "    {\n",
    "        \"document\": md_header_splits[10].page_content,\n",
    "        \"metadata\": dish_metadata_keys,\n",
    "    }\n",
    ")"
   ]
  },
  {
   "cell_type": "code",
   "execution_count": 121,
   "metadata": {},
   "outputs": [
    {
     "data": {
      "text/plain": [
       "DishMetadata(dish_techniques=['Affumicatura Temporale Risonante', 'Amalgamazione Sintetica Molecolare'], dish_ingredients=['Fusilli del Vento', 'Carne di Drago', 'Carne di Balena Spaziale', 'Uovo di Fenice', 'Pane di Luce', 'Lacrime di Unicorno'])"
      ]
     },
     "execution_count": 121,
     "metadata": {},
     "output_type": "execute_result"
    }
   ],
   "source": [
    "DishMetadata.model_validate(json.loads(t.content.replace(\"\\n\", \"\")))"
   ]
  },
  {
   "cell_type": "code",
   "execution_count": 122,
   "metadata": {},
   "outputs": [],
   "source": [
    "md_header_splits[10].metadata.update(\n",
    "    DishMetadata.model_validate(json.loads(t.content.replace(\"\\n\", \"\"))).model_dump()\n",
    ")"
   ]
  },
  {
   "cell_type": "code",
   "execution_count": 123,
   "metadata": {},
   "outputs": [
    {
     "data": {
      "text/plain": [
       "Document(metadata={'header_1': 'Menu', 'dish_name': 'Nebulosa Celeste di Terrafirma', 'dish_techniques': ['Affumicatura Temporale Risonante', 'Amalgamazione Sintetica Molecolare'], 'dish_ingredients': ['Fusilli del Vento', 'Carne di Drago', 'Carne di Balena Spaziale', 'Uovo di Fenice', 'Pane di Luce', 'Lacrime di Unicorno']}, page_content='Sospeso tra sogno e realtà, il nostro piatto d\\'autore, la \"Nebulosa Celeste di Terrafirma\", è un\\'armoniosa\\nsinfonia di ingredienti celesti, rafforzato dalla magia delle tecniche culinarie d\\'avanguardia che solo lo Chef\\nAlessandro Stellanova è in grado di orchestrare.  \\nAlla base, un girotondo di Fusilli del Vento abbraccia una generosa porzione di Carne di Drago, infusa con\\nuna seducente affumicatura temporale risonante, che concentra secoli di aroma fumé in un istante di\\npiacere. Accanto, filetti di Carne di Balena spaziale, lentamente tessuti con Amalgamazione Sintetica\\nMolecolare, si poggiano dolcemente, offrendosi in una consistenza che fonde etereo e sostanzioso in un\\nsolo morso.  \\nLa sinfonia prosegue con un Uovo di Fenice, la cui cremosità rigenerante risplende come un’amalgama\\nluminosa su questo quadro gustativo. Scaldate con la luce di una stella distante, pagnotte di Pane di Luce\\nincorniciano il piatto, conferendo una croccantezza celestiale che racchiude e amplifica l\\'energetica\\nesplosione di sapore.  \\nA chiudere questo viaggio culinario, deliziose Lacrime di Unicorno sgorgano qua e là, aggiungendo un tocco\\ndi dolcezza miracolosa che stravolge e rinnova i sensi, convergendo con le onde aromatiche di un universo\\nlontano.  \\nLa \"Nebulosa Celeste di Terrafirma\" promette un incontro col sublime, un\\'odissea tra i confini dell\\'universo\\nculinario e l\\'infinito delle possibilità gustative: un piatto che esiste simultaneamente nella memoria, nel\\npresente e nel futuro delle vostre papille gustative.  \\n-----')"
      ]
     },
     "execution_count": 123,
     "metadata": {},
     "output_type": "execute_result"
    }
   ],
   "source": [
    "md_header_splits[10]"
   ]
  },
  {
   "cell_type": "code",
   "execution_count": 100,
   "metadata": {},
   "outputs": [],
   "source": [
    "from langchain.schema import Document"
   ]
  },
  {
   "cell_type": "code",
   "execution_count": 104,
   "metadata": {},
   "outputs": [
    {
     "ename": "ValueError",
     "evalue": "Expected metadata value to be a str, int, float or bool, got ['Affumicatura Temporale Risonante', 'Amalgamazione Sintetica Molecolare'] which is a list in upsert.\n\nTry filtering complex metadata from the document using langchain_community.vectorstores.utils.filter_complex_metadata.",
     "output_type": "error",
     "traceback": [
      "\u001b[1;31m---------------------------------------------------------------------------\u001b[0m",
      "\u001b[1;31mValueError\u001b[0m                                Traceback (most recent call last)",
      "File \u001b[1;32mc:\\Users\\GiovanniGiacometti\\Desktop\\hackathon\\.venv\\Lib\\site-packages\\chromadb\\api\\models\\CollectionCommon.py:90\u001b[0m, in \u001b[0;36mvalidation_context.<locals>.decorator.<locals>.wrapper\u001b[1;34m(self, *args, **kwargs)\u001b[0m\n\u001b[0;32m     89\u001b[0m \u001b[38;5;28;01mtry\u001b[39;00m:\n\u001b[1;32m---> 90\u001b[0m     \u001b[38;5;28;01mreturn\u001b[39;00m \u001b[43mfunc\u001b[49m\u001b[43m(\u001b[49m\u001b[38;5;28;43mself\u001b[39;49m\u001b[43m,\u001b[49m\u001b[43m \u001b[49m\u001b[38;5;241;43m*\u001b[39;49m\u001b[43margs\u001b[49m\u001b[43m,\u001b[49m\u001b[43m \u001b[49m\u001b[38;5;241;43m*\u001b[39;49m\u001b[38;5;241;43m*\u001b[39;49m\u001b[43mkwargs\u001b[49m\u001b[43m)\u001b[49m\n\u001b[0;32m     91\u001b[0m \u001b[38;5;28;01mexcept\u001b[39;00m \u001b[38;5;167;01mException\u001b[39;00m \u001b[38;5;28;01mas\u001b[39;00m e:\n",
      "File \u001b[1;32mc:\\Users\\GiovanniGiacometti\\Desktop\\hackathon\\.venv\\Lib\\site-packages\\chromadb\\api\\models\\CollectionCommon.py:399\u001b[0m, in \u001b[0;36mCollectionCommon._validate_and_prepare_upsert_request\u001b[1;34m(self, ids, embeddings, metadatas, documents, images, uris)\u001b[0m\n\u001b[0;32m    398\u001b[0m \u001b[38;5;66;03m# Validate\u001b[39;00m\n\u001b[1;32m--> 399\u001b[0m \u001b[43mvalidate_insert_record_set\u001b[49m\u001b[43m(\u001b[49m\u001b[43mrecord_set\u001b[49m\u001b[38;5;241;43m=\u001b[39;49m\u001b[43mupsert_records\u001b[49m\u001b[43m)\u001b[49m\n\u001b[0;32m    401\u001b[0m \u001b[38;5;66;03m# Prepare\u001b[39;00m\n",
      "File \u001b[1;32mc:\\Users\\GiovanniGiacometti\\Desktop\\hackathon\\.venv\\Lib\\site-packages\\chromadb\\api\\types.py:224\u001b[0m, in \u001b[0;36mvalidate_insert_record_set\u001b[1;34m(record_set)\u001b[0m\n\u001b[0;32m    223\u001b[0m \u001b[38;5;28;01mif\u001b[39;00m record_set[\u001b[38;5;124m\"\u001b[39m\u001b[38;5;124mmetadatas\u001b[39m\u001b[38;5;124m\"\u001b[39m] \u001b[38;5;129;01mis\u001b[39;00m \u001b[38;5;129;01mnot\u001b[39;00m \u001b[38;5;28;01mNone\u001b[39;00m:\n\u001b[1;32m--> 224\u001b[0m     \u001b[43mvalidate_metadatas\u001b[49m\u001b[43m(\u001b[49m\u001b[43mrecord_set\u001b[49m\u001b[43m[\u001b[49m\u001b[38;5;124;43m\"\u001b[39;49m\u001b[38;5;124;43mmetadatas\u001b[39;49m\u001b[38;5;124;43m\"\u001b[39;49m\u001b[43m]\u001b[49m\u001b[43m)\u001b[49m\n",
      "File \u001b[1;32mc:\\Users\\GiovanniGiacometti\\Desktop\\hackathon\\.venv\\Lib\\site-packages\\chromadb\\api\\types.py:586\u001b[0m, in \u001b[0;36mvalidate_metadatas\u001b[1;34m(metadatas)\u001b[0m\n\u001b[0;32m    585\u001b[0m \u001b[38;5;28;01mfor\u001b[39;00m metadata \u001b[38;5;129;01min\u001b[39;00m metadatas:\n\u001b[1;32m--> 586\u001b[0m     \u001b[43mvalidate_metadata\u001b[49m\u001b[43m(\u001b[49m\u001b[43mmetadata\u001b[49m\u001b[43m)\u001b[49m\n\u001b[0;32m    587\u001b[0m \u001b[38;5;28;01mreturn\u001b[39;00m metadatas\n",
      "File \u001b[1;32mc:\\Users\\GiovanniGiacometti\\Desktop\\hackathon\\.venv\\Lib\\site-packages\\chromadb\\api\\types.py:552\u001b[0m, in \u001b[0;36mvalidate_metadata\u001b[1;34m(metadata)\u001b[0m\n\u001b[0;32m    551\u001b[0m     \u001b[38;5;28;01mif\u001b[39;00m \u001b[38;5;129;01mnot\u001b[39;00m \u001b[38;5;28misinstance\u001b[39m(value, \u001b[38;5;28mbool\u001b[39m) \u001b[38;5;129;01mand\u001b[39;00m \u001b[38;5;129;01mnot\u001b[39;00m \u001b[38;5;28misinstance\u001b[39m(value, (\u001b[38;5;28mstr\u001b[39m, \u001b[38;5;28mint\u001b[39m, \u001b[38;5;28mfloat\u001b[39m)):\n\u001b[1;32m--> 552\u001b[0m         \u001b[38;5;28;01mraise\u001b[39;00m \u001b[38;5;167;01mValueError\u001b[39;00m(\n\u001b[0;32m    553\u001b[0m             \u001b[38;5;124mf\u001b[39m\u001b[38;5;124m\"\u001b[39m\u001b[38;5;124mExpected metadata value to be a str, int, float or bool, got \u001b[39m\u001b[38;5;132;01m{\u001b[39;00mvalue\u001b[38;5;132;01m}\u001b[39;00m\u001b[38;5;124m which is a \u001b[39m\u001b[38;5;132;01m{\u001b[39;00m\u001b[38;5;28mtype\u001b[39m(value)\u001b[38;5;241m.\u001b[39m\u001b[38;5;18m__name__\u001b[39m\u001b[38;5;132;01m}\u001b[39;00m\u001b[38;5;124m\"\u001b[39m\n\u001b[0;32m    554\u001b[0m         )\n\u001b[0;32m    555\u001b[0m \u001b[38;5;28;01mreturn\u001b[39;00m metadata\n",
      "\u001b[1;31mValueError\u001b[0m: Expected metadata value to be a str, int, float or bool, got ['Affumicatura Temporale Risonante', 'Amalgamazione Sintetica Molecolare'] which is a list",
      "\nDuring handling of the above exception, another exception occurred:\n",
      "\u001b[1;31mValueError\u001b[0m                                Traceback (most recent call last)",
      "File \u001b[1;32mc:\\Users\\GiovanniGiacometti\\Desktop\\hackathon\\.venv\\Lib\\site-packages\\langchain_chroma\\vectorstores.py:554\u001b[0m, in \u001b[0;36mChroma.add_texts\u001b[1;34m(self, texts, metadatas, ids, **kwargs)\u001b[0m\n\u001b[0;32m    553\u001b[0m \u001b[38;5;28;01mtry\u001b[39;00m:\n\u001b[1;32m--> 554\u001b[0m     \u001b[38;5;28;43mself\u001b[39;49m\u001b[38;5;241;43m.\u001b[39;49m\u001b[43m_collection\u001b[49m\u001b[38;5;241;43m.\u001b[39;49m\u001b[43mupsert\u001b[49m\u001b[43m(\u001b[49m\n\u001b[0;32m    555\u001b[0m \u001b[43m        \u001b[49m\u001b[43mmetadatas\u001b[49m\u001b[38;5;241;43m=\u001b[39;49m\u001b[43mmetadatas\u001b[49m\u001b[43m,\u001b[49m\u001b[43m  \u001b[49m\u001b[38;5;66;43;03m# type: ignore\u001b[39;49;00m\n\u001b[0;32m    556\u001b[0m \u001b[43m        \u001b[49m\u001b[43membeddings\u001b[49m\u001b[38;5;241;43m=\u001b[39;49m\u001b[43membeddings_with_metadatas\u001b[49m\u001b[43m,\u001b[49m\u001b[43m  \u001b[49m\u001b[38;5;66;43;03m# type: ignore\u001b[39;49;00m\n\u001b[0;32m    557\u001b[0m \u001b[43m        \u001b[49m\u001b[43mdocuments\u001b[49m\u001b[38;5;241;43m=\u001b[39;49m\u001b[43mtexts_with_metadatas\u001b[49m\u001b[43m,\u001b[49m\n\u001b[0;32m    558\u001b[0m \u001b[43m        \u001b[49m\u001b[43mids\u001b[49m\u001b[38;5;241;43m=\u001b[39;49m\u001b[43mids_with_metadata\u001b[49m\u001b[43m,\u001b[49m\n\u001b[0;32m    559\u001b[0m \u001b[43m    \u001b[49m\u001b[43m)\u001b[49m\n\u001b[0;32m    560\u001b[0m \u001b[38;5;28;01mexcept\u001b[39;00m \u001b[38;5;167;01mValueError\u001b[39;00m \u001b[38;5;28;01mas\u001b[39;00m e:\n",
      "File \u001b[1;32mc:\\Users\\GiovanniGiacometti\\Desktop\\hackathon\\.venv\\Lib\\site-packages\\chromadb\\api\\models\\Collection.py:334\u001b[0m, in \u001b[0;36mCollection.upsert\u001b[1;34m(self, ids, embeddings, metadatas, documents, images, uris)\u001b[0m\n\u001b[0;32m    323\u001b[0m \u001b[38;5;250m\u001b[39m\u001b[38;5;124;03m\"\"\"Update the embeddings, metadatas or documents for provided ids, or create them if they don't exist.\u001b[39;00m\n\u001b[0;32m    324\u001b[0m \n\u001b[0;32m    325\u001b[0m \u001b[38;5;124;03mArgs:\u001b[39;00m\n\u001b[1;32m   (...)\u001b[0m\n\u001b[0;32m    332\u001b[0m \u001b[38;5;124;03m    None\u001b[39;00m\n\u001b[0;32m    333\u001b[0m \u001b[38;5;124;03m\"\"\"\u001b[39;00m\n\u001b[1;32m--> 334\u001b[0m upsert_request \u001b[38;5;241m=\u001b[39m \u001b[38;5;28;43mself\u001b[39;49m\u001b[38;5;241;43m.\u001b[39;49m\u001b[43m_validate_and_prepare_upsert_request\u001b[49m\u001b[43m(\u001b[49m\n\u001b[0;32m    335\u001b[0m \u001b[43m    \u001b[49m\u001b[43mids\u001b[49m\u001b[38;5;241;43m=\u001b[39;49m\u001b[43mids\u001b[49m\u001b[43m,\u001b[49m\n\u001b[0;32m    336\u001b[0m \u001b[43m    \u001b[49m\u001b[43membeddings\u001b[49m\u001b[38;5;241;43m=\u001b[39;49m\u001b[43membeddings\u001b[49m\u001b[43m,\u001b[49m\n\u001b[0;32m    337\u001b[0m \u001b[43m    \u001b[49m\u001b[43mmetadatas\u001b[49m\u001b[38;5;241;43m=\u001b[39;49m\u001b[43mmetadatas\u001b[49m\u001b[43m,\u001b[49m\n\u001b[0;32m    338\u001b[0m \u001b[43m    \u001b[49m\u001b[43mdocuments\u001b[49m\u001b[38;5;241;43m=\u001b[39;49m\u001b[43mdocuments\u001b[49m\u001b[43m,\u001b[49m\n\u001b[0;32m    339\u001b[0m \u001b[43m    \u001b[49m\u001b[43mimages\u001b[49m\u001b[38;5;241;43m=\u001b[39;49m\u001b[43mimages\u001b[49m\u001b[43m,\u001b[49m\n\u001b[0;32m    340\u001b[0m \u001b[43m    \u001b[49m\u001b[43muris\u001b[49m\u001b[38;5;241;43m=\u001b[39;49m\u001b[43muris\u001b[49m\u001b[43m,\u001b[49m\n\u001b[0;32m    341\u001b[0m \u001b[43m\u001b[49m\u001b[43m)\u001b[49m\n\u001b[0;32m    343\u001b[0m \u001b[38;5;28mself\u001b[39m\u001b[38;5;241m.\u001b[39m_client\u001b[38;5;241m.\u001b[39m_upsert(\n\u001b[0;32m    344\u001b[0m     collection_id\u001b[38;5;241m=\u001b[39m\u001b[38;5;28mself\u001b[39m\u001b[38;5;241m.\u001b[39mid,\n\u001b[0;32m    345\u001b[0m     ids\u001b[38;5;241m=\u001b[39mupsert_request[\u001b[38;5;124m\"\u001b[39m\u001b[38;5;124mids\u001b[39m\u001b[38;5;124m\"\u001b[39m],\n\u001b[1;32m   (...)\u001b[0m\n\u001b[0;32m    349\u001b[0m     uris\u001b[38;5;241m=\u001b[39mupsert_request[\u001b[38;5;124m\"\u001b[39m\u001b[38;5;124muris\u001b[39m\u001b[38;5;124m\"\u001b[39m],\n\u001b[0;32m    350\u001b[0m )\n",
      "File \u001b[1;32mc:\\Users\\GiovanniGiacometti\\Desktop\\hackathon\\.venv\\Lib\\site-packages\\chromadb\\api\\models\\CollectionCommon.py:93\u001b[0m, in \u001b[0;36mvalidation_context.<locals>.decorator.<locals>.wrapper\u001b[1;34m(self, *args, **kwargs)\u001b[0m\n\u001b[0;32m     92\u001b[0m msg \u001b[38;5;241m=\u001b[39m \u001b[38;5;124mf\u001b[39m\u001b[38;5;124m\"\u001b[39m\u001b[38;5;132;01m{\u001b[39;00m\u001b[38;5;28mstr\u001b[39m(e)\u001b[38;5;132;01m}\u001b[39;00m\u001b[38;5;124m in \u001b[39m\u001b[38;5;132;01m{\u001b[39;00mname\u001b[38;5;132;01m}\u001b[39;00m\u001b[38;5;124m.\u001b[39m\u001b[38;5;124m\"\u001b[39m\n\u001b[1;32m---> 93\u001b[0m \u001b[38;5;28;01mraise\u001b[39;00m \u001b[38;5;28mtype\u001b[39m(e)(msg)\u001b[38;5;241m.\u001b[39mwith_traceback(e\u001b[38;5;241m.\u001b[39m__traceback__)\n",
      "File \u001b[1;32mc:\\Users\\GiovanniGiacometti\\Desktop\\hackathon\\.venv\\Lib\\site-packages\\chromadb\\api\\models\\CollectionCommon.py:90\u001b[0m, in \u001b[0;36mvalidation_context.<locals>.decorator.<locals>.wrapper\u001b[1;34m(self, *args, **kwargs)\u001b[0m\n\u001b[0;32m     89\u001b[0m \u001b[38;5;28;01mtry\u001b[39;00m:\n\u001b[1;32m---> 90\u001b[0m     \u001b[38;5;28;01mreturn\u001b[39;00m \u001b[43mfunc\u001b[49m\u001b[43m(\u001b[49m\u001b[38;5;28;43mself\u001b[39;49m\u001b[43m,\u001b[49m\u001b[43m \u001b[49m\u001b[38;5;241;43m*\u001b[39;49m\u001b[43margs\u001b[49m\u001b[43m,\u001b[49m\u001b[43m \u001b[49m\u001b[38;5;241;43m*\u001b[39;49m\u001b[38;5;241;43m*\u001b[39;49m\u001b[43mkwargs\u001b[49m\u001b[43m)\u001b[49m\n\u001b[0;32m     91\u001b[0m \u001b[38;5;28;01mexcept\u001b[39;00m \u001b[38;5;167;01mException\u001b[39;00m \u001b[38;5;28;01mas\u001b[39;00m e:\n",
      "File \u001b[1;32mc:\\Users\\GiovanniGiacometti\\Desktop\\hackathon\\.venv\\Lib\\site-packages\\chromadb\\api\\models\\CollectionCommon.py:399\u001b[0m, in \u001b[0;36mCollectionCommon._validate_and_prepare_upsert_request\u001b[1;34m(self, ids, embeddings, metadatas, documents, images, uris)\u001b[0m\n\u001b[0;32m    398\u001b[0m \u001b[38;5;66;03m# Validate\u001b[39;00m\n\u001b[1;32m--> 399\u001b[0m \u001b[43mvalidate_insert_record_set\u001b[49m\u001b[43m(\u001b[49m\u001b[43mrecord_set\u001b[49m\u001b[38;5;241;43m=\u001b[39;49m\u001b[43mupsert_records\u001b[49m\u001b[43m)\u001b[49m\n\u001b[0;32m    401\u001b[0m \u001b[38;5;66;03m# Prepare\u001b[39;00m\n",
      "File \u001b[1;32mc:\\Users\\GiovanniGiacometti\\Desktop\\hackathon\\.venv\\Lib\\site-packages\\chromadb\\api\\types.py:224\u001b[0m, in \u001b[0;36mvalidate_insert_record_set\u001b[1;34m(record_set)\u001b[0m\n\u001b[0;32m    223\u001b[0m \u001b[38;5;28;01mif\u001b[39;00m record_set[\u001b[38;5;124m\"\u001b[39m\u001b[38;5;124mmetadatas\u001b[39m\u001b[38;5;124m\"\u001b[39m] \u001b[38;5;129;01mis\u001b[39;00m \u001b[38;5;129;01mnot\u001b[39;00m \u001b[38;5;28;01mNone\u001b[39;00m:\n\u001b[1;32m--> 224\u001b[0m     \u001b[43mvalidate_metadatas\u001b[49m\u001b[43m(\u001b[49m\u001b[43mrecord_set\u001b[49m\u001b[43m[\u001b[49m\u001b[38;5;124;43m\"\u001b[39;49m\u001b[38;5;124;43mmetadatas\u001b[39;49m\u001b[38;5;124;43m\"\u001b[39;49m\u001b[43m]\u001b[49m\u001b[43m)\u001b[49m\n",
      "File \u001b[1;32mc:\\Users\\GiovanniGiacometti\\Desktop\\hackathon\\.venv\\Lib\\site-packages\\chromadb\\api\\types.py:586\u001b[0m, in \u001b[0;36mvalidate_metadatas\u001b[1;34m(metadatas)\u001b[0m\n\u001b[0;32m    585\u001b[0m \u001b[38;5;28;01mfor\u001b[39;00m metadata \u001b[38;5;129;01min\u001b[39;00m metadatas:\n\u001b[1;32m--> 586\u001b[0m     \u001b[43mvalidate_metadata\u001b[49m\u001b[43m(\u001b[49m\u001b[43mmetadata\u001b[49m\u001b[43m)\u001b[49m\n\u001b[0;32m    587\u001b[0m \u001b[38;5;28;01mreturn\u001b[39;00m metadatas\n",
      "File \u001b[1;32mc:\\Users\\GiovanniGiacometti\\Desktop\\hackathon\\.venv\\Lib\\site-packages\\chromadb\\api\\types.py:552\u001b[0m, in \u001b[0;36mvalidate_metadata\u001b[1;34m(metadata)\u001b[0m\n\u001b[0;32m    551\u001b[0m     \u001b[38;5;28;01mif\u001b[39;00m \u001b[38;5;129;01mnot\u001b[39;00m \u001b[38;5;28misinstance\u001b[39m(value, \u001b[38;5;28mbool\u001b[39m) \u001b[38;5;129;01mand\u001b[39;00m \u001b[38;5;129;01mnot\u001b[39;00m \u001b[38;5;28misinstance\u001b[39m(value, (\u001b[38;5;28mstr\u001b[39m, \u001b[38;5;28mint\u001b[39m, \u001b[38;5;28mfloat\u001b[39m)):\n\u001b[1;32m--> 552\u001b[0m         \u001b[38;5;28;01mraise\u001b[39;00m \u001b[38;5;167;01mValueError\u001b[39;00m(\n\u001b[0;32m    553\u001b[0m             \u001b[38;5;124mf\u001b[39m\u001b[38;5;124m\"\u001b[39m\u001b[38;5;124mExpected metadata value to be a str, int, float or bool, got \u001b[39m\u001b[38;5;132;01m{\u001b[39;00mvalue\u001b[38;5;132;01m}\u001b[39;00m\u001b[38;5;124m which is a \u001b[39m\u001b[38;5;132;01m{\u001b[39;00m\u001b[38;5;28mtype\u001b[39m(value)\u001b[38;5;241m.\u001b[39m\u001b[38;5;18m__name__\u001b[39m\u001b[38;5;132;01m}\u001b[39;00m\u001b[38;5;124m\"\u001b[39m\n\u001b[0;32m    554\u001b[0m         )\n\u001b[0;32m    555\u001b[0m \u001b[38;5;28;01mreturn\u001b[39;00m metadata\n",
      "\u001b[1;31mValueError\u001b[0m: Expected metadata value to be a str, int, float or bool, got ['Affumicatura Temporale Risonante', 'Amalgamazione Sintetica Molecolare'] which is a list in upsert.",
      "\nDuring handling of the above exception, another exception occurred:\n",
      "\u001b[1;31mValueError\u001b[0m                                Traceback (most recent call last)",
      "Cell \u001b[1;32mIn[104], line 1\u001b[0m\n\u001b[1;32m----> 1\u001b[0m \u001b[43mvectorstore\u001b[49m\u001b[38;5;241;43m.\u001b[39;49m\u001b[43madd_documents\u001b[49m\u001b[43m(\u001b[49m\n\u001b[0;32m      2\u001b[0m \u001b[43m    \u001b[49m\u001b[43mdocuments\u001b[49m\u001b[43m \u001b[49m\u001b[38;5;241;43m=\u001b[39;49m\u001b[43m \u001b[49m\u001b[43m[\u001b[49m\n\u001b[0;32m      3\u001b[0m \u001b[43m    \u001b[49m\u001b[43mDocument\u001b[49m\u001b[43m(\u001b[49m\u001b[43mpage_content\u001b[49m\u001b[38;5;241;43m=\u001b[39;49m\u001b[43mmd_header_splits\u001b[49m\u001b[43m[\u001b[49m\u001b[38;5;241;43m10\u001b[39;49m\u001b[43m]\u001b[49m\u001b[38;5;241;43m.\u001b[39;49m\u001b[43mpage_content\u001b[49m\u001b[43m,\u001b[49m\u001b[43m \u001b[49m\u001b[43mmetadata\u001b[49m\u001b[38;5;241;43m=\u001b[39;49m\u001b[43mmd_header_splits\u001b[49m\u001b[43m[\u001b[49m\u001b[38;5;241;43m10\u001b[39;49m\u001b[43m]\u001b[49m\u001b[38;5;241;43m.\u001b[39;49m\u001b[43mmetadata\u001b[49m\u001b[43m)\u001b[49m\n\u001b[0;32m      4\u001b[0m \u001b[43m]\u001b[49m\n\u001b[0;32m      5\u001b[0m \u001b[43m)\u001b[49m\n",
      "File \u001b[1;32mc:\\Users\\GiovanniGiacometti\\Desktop\\hackathon\\.venv\\Lib\\site-packages\\langchain_core\\vectorstores\\base.py:287\u001b[0m, in \u001b[0;36mVectorStore.add_documents\u001b[1;34m(self, documents, **kwargs)\u001b[0m\n\u001b[0;32m    285\u001b[0m     texts \u001b[38;5;241m=\u001b[39m [doc\u001b[38;5;241m.\u001b[39mpage_content \u001b[38;5;28;01mfor\u001b[39;00m doc \u001b[38;5;129;01min\u001b[39;00m documents]\n\u001b[0;32m    286\u001b[0m     metadatas \u001b[38;5;241m=\u001b[39m [doc\u001b[38;5;241m.\u001b[39mmetadata \u001b[38;5;28;01mfor\u001b[39;00m doc \u001b[38;5;129;01min\u001b[39;00m documents]\n\u001b[1;32m--> 287\u001b[0m     \u001b[38;5;28;01mreturn\u001b[39;00m \u001b[38;5;28;43mself\u001b[39;49m\u001b[38;5;241;43m.\u001b[39;49m\u001b[43madd_texts\u001b[49m\u001b[43m(\u001b[49m\u001b[43mtexts\u001b[49m\u001b[43m,\u001b[49m\u001b[43m \u001b[49m\u001b[43mmetadatas\u001b[49m\u001b[43m,\u001b[49m\u001b[43m \u001b[49m\u001b[38;5;241;43m*\u001b[39;49m\u001b[38;5;241;43m*\u001b[39;49m\u001b[43mkwargs\u001b[49m\u001b[43m)\u001b[49m\n\u001b[0;32m    288\u001b[0m msg \u001b[38;5;241m=\u001b[39m (\n\u001b[0;32m    289\u001b[0m     \u001b[38;5;124mf\u001b[39m\u001b[38;5;124m\"\u001b[39m\u001b[38;5;124m`add_documents` and `add_texts` has not been implemented \u001b[39m\u001b[38;5;124m\"\u001b[39m\n\u001b[0;32m    290\u001b[0m     \u001b[38;5;124mf\u001b[39m\u001b[38;5;124m\"\u001b[39m\u001b[38;5;124mfor \u001b[39m\u001b[38;5;132;01m{\u001b[39;00m\u001b[38;5;28mself\u001b[39m\u001b[38;5;241m.\u001b[39m\u001b[38;5;18m__class__\u001b[39m\u001b[38;5;241m.\u001b[39m\u001b[38;5;18m__name__\u001b[39m\u001b[38;5;132;01m}\u001b[39;00m\u001b[38;5;124m \u001b[39m\u001b[38;5;124m\"\u001b[39m\n\u001b[0;32m    291\u001b[0m )\n\u001b[0;32m    292\u001b[0m \u001b[38;5;28;01mraise\u001b[39;00m \u001b[38;5;167;01mNotImplementedError\u001b[39;00m(msg)\n",
      "File \u001b[1;32mc:\\Users\\GiovanniGiacometti\\Desktop\\hackathon\\.venv\\Lib\\site-packages\\langchain_chroma\\vectorstores.py:566\u001b[0m, in \u001b[0;36mChroma.add_texts\u001b[1;34m(self, texts, metadatas, ids, **kwargs)\u001b[0m\n\u001b[0;32m    561\u001b[0m \u001b[38;5;28;01mif\u001b[39;00m \u001b[38;5;124m\"\u001b[39m\u001b[38;5;124mExpected metadata value to be\u001b[39m\u001b[38;5;124m\"\u001b[39m \u001b[38;5;129;01min\u001b[39;00m \u001b[38;5;28mstr\u001b[39m(e):\n\u001b[0;32m    562\u001b[0m     msg \u001b[38;5;241m=\u001b[39m (\n\u001b[0;32m    563\u001b[0m         \u001b[38;5;124m\"\u001b[39m\u001b[38;5;124mTry filtering complex metadata from the document using \u001b[39m\u001b[38;5;124m\"\u001b[39m\n\u001b[0;32m    564\u001b[0m         \u001b[38;5;124m\"\u001b[39m\u001b[38;5;124mlangchain_community.vectorstores.utils.filter_complex_metadata.\u001b[39m\u001b[38;5;124m\"\u001b[39m\n\u001b[0;32m    565\u001b[0m     )\n\u001b[1;32m--> 566\u001b[0m     \u001b[38;5;28;01mraise\u001b[39;00m \u001b[38;5;167;01mValueError\u001b[39;00m(e\u001b[38;5;241m.\u001b[39margs[\u001b[38;5;241m0\u001b[39m] \u001b[38;5;241m+\u001b[39m \u001b[38;5;124m\"\u001b[39m\u001b[38;5;130;01m\\n\u001b[39;00m\u001b[38;5;130;01m\\n\u001b[39;00m\u001b[38;5;124m\"\u001b[39m \u001b[38;5;241m+\u001b[39m msg)\n\u001b[0;32m    567\u001b[0m \u001b[38;5;28;01melse\u001b[39;00m:\n\u001b[0;32m    568\u001b[0m     \u001b[38;5;28;01mraise\u001b[39;00m e\n",
      "\u001b[1;31mValueError\u001b[0m: Expected metadata value to be a str, int, float or bool, got ['Affumicatura Temporale Risonante', 'Amalgamazione Sintetica Molecolare'] which is a list in upsert.\n\nTry filtering complex metadata from the document using langchain_community.vectorstores.utils.filter_complex_metadata."
     ]
    }
   ],
   "source": [
    "vectorstore.add_documents(\n",
    "    documents=[\n",
    "        Document(\n",
    "            page_content=md_header_splits[10].page_content,\n",
    "            metadata=md_header_splits[10].metadata,\n",
    "        )\n",
    "    ]\n",
    ")"
   ]
  },
  {
   "cell_type": "code",
   "execution_count": null,
   "metadata": {},
   "outputs": [],
   "source": [
    "for md_header_split in md_header_splits:\n",
    "    vectorstore.add_texts(\n",
    "        texts=[md_header_split.page_content],\n",
    "        metadatas=md_header_split.metadata,\n",
    "    )"
   ]
  }
 ],
 "metadata": {
  "kernelspec": {
   "display_name": ".venv",
   "language": "python",
   "name": "python3"
  },
  "language_info": {
   "codemirror_mode": {
    "name": "ipython",
    "version": 3
   },
   "file_extension": ".py",
   "mimetype": "text/x-python",
   "name": "python",
   "nbconvert_exporter": "python",
   "pygments_lexer": "ipython3",
   "version": "3.12.7"
  }
 },
 "nbformat": 4,
 "nbformat_minor": 2
}
